{
 "cells": [
  {
   "cell_type": "code",
   "execution_count": 1,
   "metadata": {},
   "outputs": [],
   "source": [
    "from sympy import *\n",
    "import numpy as np\n",
    "import matplotlib.pyplot as plt\n",
    "init_printing(use_latex=True)"
   ]
  },
  {
   "cell_type": "code",
   "execution_count": 2,
   "metadata": {},
   "outputs": [],
   "source": [
    "#Punto 1\n",
    "from sympy.physics import hydrogen as hyd\n",
    "\n",
    "a0, r, theta, phi = symbols('a_0 r \\\\theta \\\\phi', real = True)\n"
   ]
  },
  {
   "cell_type": "code",
   "execution_count": 3,
   "metadata": {},
   "outputs": [
    {
     "data": {
      "image/png": "[encoded data removed]",
      "text/latex": [
       "$\\displaystyle - \\frac{\\sqrt{6} e^{i \\phi} \\sin{\\left(\\theta \\right)}}{4 \\sqrt{\\pi}}$"
      ],
      "text/plain": [
       "     ⅈ⋅\\phi             \n",
       "-√6⋅ℯ      ⋅sin(\\theta) \n",
       "────────────────────────\n",
       "          4⋅√π          "
      ]
     },
     "execution_count": 3,
     "metadata": {},
     "output_type": "execute_result"
    }
   ],
   "source": [
    "simplify(hyd.Ynm(1,1,theta,phi).expand(func=True))"
   ]
  },
  {
   "cell_type": "code",
   "execution_count": 4,
   "metadata": {},
   "outputs": [
    {
     "data": {
      "image/png": "[encoded data removed]",
      "text/latex": [
       "$\\displaystyle \\int\\limits_{0}^{\\pi} e^{- 2 i \\phi} \\int\\limits_{0}^{2 \\pi} \\sin{\\left(\\theta \\right)} \\left(Y_{1}^{1}\\left(\\theta,\\phi\\right)\\right)^{2}\\, d\\theta\\, d\\phi$"
      ],
      "text/plain": [
       "π                                                                      \n",
       "⌠                                                                      \n",
       "⎮            2⋅π                                                       \n",
       "⎮             ⌠                                                        \n",
       "⎮  -2⋅ⅈ⋅\\phi  ⎮                 2                                      \n",
       "⎮ ℯ         ⋅ ⎮  sin(\\theta)⋅Ynm (1, 1, \\theta, \\phi) d(\\theta) d(\\phi)\n",
       "⎮             ⌡                                                        \n",
       "⎮             0                                                        \n",
       "⌡                                                                      \n",
       "0                                                                      "
      ]
     },
     "execution_count": 4,
     "metadata": {},
     "output_type": "execute_result"
    }
   ],
   "source": [
    "integrate(hyd.Ynm(1,1,theta,phi) * conjugate(hyd.Ynm(1,1,theta,phi))*sin(theta), (theta, 0, 2*pi), (phi, 0, pi))"
   ]
  },
  {
   "cell_type": "code",
   "execution_count": 5,
   "metadata": {},
   "outputs": [
    {
     "data": {
      "image/png": "[encoded data removed]",
      "text/latex": [
       "$\\displaystyle - \\frac{3 \\sin^{2}{\\left(\\theta \\right)}}{8 \\pi}$"
      ],
      "text/plain": [
       "      2         \n",
       "-3⋅sin (\\theta) \n",
       "────────────────\n",
       "      8⋅π       "
      ]
     },
     "execution_count": 5,
     "metadata": {},
     "output_type": "execute_result"
    }
   ],
   "source": [
    "hyd.Ynm(1,1,theta,phi).expand(func=True) * hyd.Ynm(1,-1,theta,phi).expand(func=True)"
   ]
  },
  {
   "cell_type": "code",
   "execution_count": 6,
   "metadata": {},
   "outputs": [
    {
     "data": {
      "image/png": "[encoded data removed]",
      "text/latex": [
       "$\\displaystyle e^{- 2 i \\phi} \\left(Y_{1}^{1}\\left(\\theta,\\phi\\right)\\right)^{2}$"
      ],
      "text/plain": [
       " -2⋅ⅈ⋅\\phi    2                    \n",
       "ℯ         ⋅Ynm (1, 1, \\theta, \\phi)"
      ]
     },
     "execution_count": 6,
     "metadata": {},
     "output_type": "execute_result"
    }
   ],
   "source": [
    "hyd.Ynm(1,1,theta,phi) * conjugate(hyd.Ynm(1,1,theta,phi))"
   ]
  },
  {
   "cell_type": "code",
   "execution_count": 7,
   "metadata": {},
   "outputs": [
    {
     "data": {
      "image/png": "[encoded data removed]",
      "text/latex": [
       "$\\displaystyle Y_{1}^{1}\\left(\\theta,\\phi\\right)$"
      ],
      "text/plain": [
       "Ynm(1, 1, \\theta, \\phi)"
      ]
     },
     "execution_count": 7,
     "metadata": {},
     "output_type": "execute_result"
    }
   ],
   "source": [
    "hyd.Ynm(1,1,theta,phi)"
   ]
  },
  {
   "cell_type": "code",
   "execution_count": 8,
   "metadata": {},
   "outputs": [
    {
     "data": {
      "image/png": "[encoded data removed]",
      "text/latex": [
       "$\\displaystyle e^{- 2 i \\phi} Y_{2}^{1}\\left(\\theta,\\phi\\right)$"
      ],
      "text/plain": [
       " -2⋅ⅈ⋅\\phi                        \n",
       "ℯ         ⋅Ynm(2, 1, \\theta, \\phi)"
      ]
     },
     "execution_count": 8,
     "metadata": {},
     "output_type": "execute_result"
    }
   ],
   "source": [
    "conjugate(hyd.Ynm(2,1,theta,phi))"
   ]
  },
  {
   "cell_type": "code",
   "execution_count": 9,
   "metadata": {},
   "outputs": [
    {
     "data": {
      "image/png": "[encoded data removed]",
      "text/latex": [
       "$\\displaystyle e^{- 2 i \\phi} \\sin{\\left(\\theta \\right)} \\left(Y_{2}^{1}\\left(\\theta,\\phi\\right)\\right)^{2}$"
      ],
      "text/plain": [
       " -2⋅ⅈ⋅\\phi                2                    \n",
       "ℯ         ⋅sin(\\theta)⋅Ynm (2, 1, \\theta, \\phi)"
      ]
     },
     "execution_count": 9,
     "metadata": {},
     "output_type": "execute_result"
    }
   ],
   "source": [
    "hyd.Ynm(2,1,theta,phi) * conjugate(hyd.Ynm(2,1,theta,phi))*sin(theta)"
   ]
  },
  {
   "cell_type": "code",
   "execution_count": 10,
   "metadata": {},
   "outputs": [
    {
     "data": {
      "image/png": "[encoded data removed]",
      "text/latex": [
       "$\\displaystyle 0$"
      ],
      "text/plain": [
       "0"
      ]
     },
     "execution_count": 10,
     "metadata": {},
     "output_type": "execute_result"
    }
   ],
   "source": [
    "integrate(exp(-2*I*phi), (phi,0,2*pi))"
   ]
  },
  {
   "cell_type": "code",
   "execution_count": 11,
   "metadata": {},
   "outputs": [
    {
     "data": {
      "image/png": "[encoded data removed]",
      "text/latex": [
       "$\\displaystyle e^{- 2 i \\phi} \\int\\limits_{0}^{2 \\pi} \\sin{\\left(\\theta \\right)} \\left(Y_{1}^{1}\\left(\\theta,\\phi\\right)\\right)^{2}\\, d\\theta$"
      ],
      "text/plain": [
       "           2⋅π                                               \n",
       "            ⌠                                                \n",
       " -2⋅ⅈ⋅\\phi  ⎮                 2                              \n",
       "ℯ         ⋅ ⎮  sin(\\theta)⋅Ynm (1, 1, \\theta, \\phi) d(\\theta)\n",
       "            ⌡                                                \n",
       "            0                                                "
      ]
     },
     "execution_count": 11,
     "metadata": {},
     "output_type": "execute_result"
    }
   ],
   "source": [
    "integrate(hyd.Ynm(1,1,theta,phi) * conjugate(hyd.Ynm(1,1,theta,phi))*sin(theta), (theta, 0, 2*pi))"
   ]
  },
  {
   "cell_type": "code",
   "execution_count": 12,
   "metadata": {},
   "outputs": [
    {
     "data": {
      "image/png": "[encoded data removed]",
      "text/latex": [
       "$\\displaystyle \\frac{1}{2 \\pi}$"
      ],
      "text/plain": [
       " 1 \n",
       "───\n",
       "2⋅π"
      ]
     },
     "execution_count": 12,
     "metadata": {},
     "output_type": "execute_result"
    }
   ],
   "source": [
    "integrate(hyd.Ynm(1,1,theta,phi).expand(func=True) * conjugate(hyd.Ynm(1,1,theta,phi).expand(func=True))*sin(theta), (theta, 0, pi))"
   ]
  },
  {
   "cell_type": "code",
   "execution_count": 13,
   "metadata": {},
   "outputs": [
    {
     "data": {
      "image/png": "[encoded data removed]",
      "text/latex": [
       "$\\displaystyle Y_{1}^{1}\\left(\\theta,\\phi\\right)$"
      ],
      "text/plain": [
       "Ynm(1, 1, \\theta, \\phi)"
      ]
     },
     "execution_count": 13,
     "metadata": {},
     "output_type": "execute_result"
    }
   ],
   "source": [
    "hyd.Ynm(1,1,theta,phi)"
   ]
  },
  {
   "cell_type": "code",
   "execution_count": 14,
   "metadata": {},
   "outputs": [
    {
     "data": {
      "image/png": "[encoded data removed]",
      "text/latex": [
       "$\\displaystyle - \\frac{\\sqrt{6} e^{- i \\phi} \\sin{\\left(\\theta \\right)}}{4 \\sqrt{\\pi}}$"
      ],
      "text/plain": [
       "     -ⅈ⋅\\phi             \n",
       "-√6⋅ℯ       ⋅sin(\\theta) \n",
       "─────────────────────────\n",
       "           4⋅√π          "
      ]
     },
     "execution_count": 14,
     "metadata": {},
     "output_type": "execute_result"
    }
   ],
   "source": [
    "expand_func(conjugate(hyd.Ynm(1,1,theta,phi)))"
   ]
  },
  {
   "cell_type": "code",
   "execution_count": 15,
   "metadata": {},
   "outputs": [
    {
     "data": {
      "image/png": "[encoded data removed]",
      "text/latex": [
       "$\\displaystyle \\frac{3 \\sin^{3}{\\left(\\theta \\right)}}{8 \\pi}$"
      ],
      "text/plain": [
       "     3        \n",
       "3⋅sin (\\theta)\n",
       "──────────────\n",
       "     8⋅π      "
      ]
     },
     "execution_count": 15,
     "metadata": {},
     "output_type": "execute_result"
    }
   ],
   "source": [
    "expre = expand_func(hyd.Ynm(1,1,theta,phi) * conjugate(hyd.Ynm(1,1,theta,phi)) * sin(theta))\n",
    "expre"
   ]
  },
  {
   "cell_type": "code",
   "execution_count": 16,
   "metadata": {},
   "outputs": [
    {
     "data": {
      "image/png": "[encoded data removed]",
      "text/latex": [
       "$\\displaystyle 1$"
      ],
      "text/plain": [
       "1"
      ]
     },
     "execution_count": 16,
     "metadata": {},
     "output_type": "execute_result"
    }
   ],
   "source": [
    "integrate(expre,(theta, 0 , pi), (phi,0,2*pi))"
   ]
  },
  {
   "cell_type": "code",
   "execution_count": 17,
   "metadata": {},
   "outputs": [
    {
     "data": {
      "image/png": "[encoded data removed]",
      "text/latex": [
       "$\\displaystyle \\frac{3 \\sin{\\left(\\theta \\right)} \\cos^{2}{\\left(\\theta \\right)}}{8 \\pi^{\\frac{3}{2}}}$"
      ],
      "text/plain": [
       "                 2        \n",
       "3⋅sin(\\theta)⋅cos (\\theta)\n",
       "──────────────────────────\n",
       "             3/2          \n",
       "          8⋅π             "
      ]
     },
     "execution_count": 17,
     "metadata": {},
     "output_type": "execute_result"
    }
   ],
   "source": [
    "expre = expand_func(hyd.Ynm(1,0,theta,phi) * conjugate(hyd.Ynm(1,0,theta,phi)) * hyd.Ynm(0,0,theta,phi))*sin(theta)\n",
    "expre"
   ]
  },
  {
   "cell_type": "code",
   "execution_count": 18,
   "metadata": {},
   "outputs": [
    {
     "data": {
      "image/png": "[encoded data removed]",
      "text/latex": [
       "$\\displaystyle \\frac{\\sqrt{3}}{3}$"
      ],
      "text/plain": [
       "√3\n",
       "──\n",
       "3 "
      ]
     },
     "execution_count": 18,
     "metadata": {},
     "output_type": "execute_result"
    }
   ],
   "source": [
    "integrate(expre,(theta, 0 , pi), (phi,0,2*pi))*sqrt(4*pi/3)"
   ]
  },
  {
   "cell_type": "code",
   "execution_count": 19,
   "metadata": {},
   "outputs": [
    {
     "data": {
      "image/png": "[encoded data removed]",
      "text/latex": [
       "$\\displaystyle \\frac{\\sqrt{3} r^{4} \\left(2 - r\\right) e^{- r}}{24}$"
      ],
      "text/plain": [
       "    4          -r\n",
       "√3⋅r ⋅(2 - r)⋅ℯ  \n",
       "─────────────────\n",
       "        24       "
      ]
     },
     "execution_count": 19,
     "metadata": {},
     "output_type": "execute_result"
    }
   ],
   "source": [
    "expre = expand_func(hyd.R_nl(2,1,r,1)*hyd.R_nl(2,0,r,1)*r**3)\n",
    "expre"
   ]
  },
  {
   "cell_type": "code",
   "execution_count": 20,
   "metadata": {},
   "outputs": [
    {
     "data": {
      "image/png": "[encoded data removed]",
      "text/latex": [
       "$\\displaystyle - 3 \\sqrt{3}$"
      ],
      "text/plain": [
       "-3⋅√3"
      ]
     },
     "execution_count": 20,
     "metadata": {},
     "output_type": "execute_result"
    }
   ],
   "source": [
    "integrate(expre, (r,0,oo) )"
   ]
  },
  {
   "cell_type": "code",
   "execution_count": 21,
   "metadata": {},
   "outputs": [
    {
     "data": {
      "image/png": "[encoded data removed]",
      "text/latex": [
       "$\\displaystyle \\frac{r^{3} \\left(2 - r\\right) e^{- r} \\sin{\\left(\\theta \\right)} \\cos{\\left(\\theta \\right)}}{32 \\pi}$"
      ],
      "text/plain": [
       " 3          -r                        \n",
       "r ⋅(2 - r)⋅ℯ  ⋅sin(\\theta)⋅cos(\\theta)\n",
       "──────────────────────────────────────\n",
       "                 32⋅π                 "
      ]
     },
     "execution_count": 21,
     "metadata": {},
     "output_type": "execute_result"
    }
   ],
   "source": [
    "expre = expand_func(hyd.Psi_nlm(2,1,0,r,phi,theta)*conjugate(hyd.Psi_nlm(2,0,0,r,phi,theta))*sin(theta)*r*r)\n",
    "expre"
   ]
  },
  {
   "cell_type": "code",
   "execution_count": 22,
   "metadata": {},
   "outputs": [
    {
     "data": {
      "image/png": "[encoded data removed]",
      "text/latex": [
       "$\\displaystyle -3$"
      ],
      "text/plain": [
       "-3"
      ]
     },
     "execution_count": 22,
     "metadata": {},
     "output_type": "execute_result"
    }
   ],
   "source": [
    "integrate(expre*r*cos(theta), (r,0,oo), (phi,0,2 * pi), (theta,0,pi), )"
   ]
  },
  {
   "cell_type": "code",
   "execution_count": 26,
   "metadata": {},
   "outputs": [
    {
     "name": "stdout",
     "output_type": "stream",
     "text": [
      "(0, -2) 2 0 1\n",
      "(2, -2) 1 -1 0\n",
      "(2, 0) 0 -2 -1\n",
      "(0.0, -1.0) 1.5 -0.5 0.5\n",
      "(1.0, -0.0) 0.5 -1.5 -0.5\n"
     ]
    }
   ],
   "source": [
    "def hb(m,l = 1):\n",
    "    return l*(l+1)-m*(m+1), -(l*(l+1)-m*(m-1))\n",
    "\n",
    "for m in [1,0,-1]:\n",
    "    print(hb(m), m+1,m-1, m)\n",
    "    \n",
    "for m in [1/2,-1/2]:\n",
    "    print(hb(m,l=1/2), m+1,m-1, m)"
   ]
  },
  {
   "cell_type": "code",
   "execution_count": 42,
   "metadata": {},
   "outputs": [
    {
     "data": {
      "image/png": "[encoded data removed]",
      "text/latex": [
       "$\\displaystyle \\left( \\left[\\begin{matrix}0 & 0 & \\alpha & 0\\\\0 & 0 & 0 & 0\\\\\\alpha & 0 & 0 & 0\\\\0 & 0 & 0 & 0\\end{matrix}\\right], \\  \\left[\\begin{matrix}0 & 0 & 0 & 0\\\\0 & 0 & - i \\beta & 0\\\\0 & i \\beta & 0 & - i \\beta\\\\0 & 0 & i \\beta & 0\\end{matrix}\\right], \\  \\left[\\begin{matrix}0 & 0 & \\alpha & 0\\\\0 & 0 & - i \\beta & 0\\\\\\alpha & i \\beta & 0 & - i \\beta\\\\0 & 0 & i \\beta & 0\\end{matrix}\\right], \\  \\left\\{ 0 : 2, \\  - \\sqrt{\\alpha^{2} + 2 \\beta^{2}} : 1, \\  \\sqrt{\\alpha^{2} + 2 \\beta^{2}} : 1\\right\\}\\right)$"
      ],
      "text/plain": [
       "⎛⎡  0     0  \\alpha  0⎤  ⎡0     0        0         0    ⎤  ⎡  0        0      \n",
       "⎜⎢                    ⎥  ⎢                              ⎥  ⎢                  \n",
       "⎜⎢  0     0    0     0⎥  ⎢0     0     -ⅈ⋅\\beta     0    ⎥  ⎢  0        0     -\n",
       "⎜⎢                    ⎥, ⎢                              ⎥, ⎢                  \n",
       "⎜⎢\\alpha  0    0     0⎥  ⎢0  ⅈ⋅\\beta     0      -ⅈ⋅\\beta⎥  ⎢\\alpha  ⅈ⋅\\beta   \n",
       "⎜⎢                    ⎥  ⎢                              ⎥  ⎢                  \n",
       "⎝⎣  0     0    0     0⎦  ⎣0     0     ⅈ⋅\\beta      0    ⎦  ⎣  0        0     ⅈ\n",
       "\n",
       "\\alpha      0    ⎤                                                            \n",
       "                 ⎥  ⎧          ____________________        ___________________\n",
       "ⅈ⋅\\beta     0    ⎥  ⎨         ╱       2          2        ╱       2          2\n",
       "                 ⎥, ⎩0: 2, -╲╱  \\alpha  + 2⋅\\beta  : 1, ╲╱  \\alpha  + 2⋅\\beta \n",
       "  0      -ⅈ⋅\\beta⎥                                                            \n",
       "                 ⎥                                                            \n",
       "⋅\\beta      0    ⎦                                                            \n",
       "\n",
       "     ⎞\n",
       "_   ⎫⎟\n",
       "    ⎬⎟\n",
       " : 1⎭⎟\n",
       "     ⎟\n",
       "     ⎟\n",
       "     ⎠"
      ]
     },
     "execution_count": 42,
     "metadata": {},
     "output_type": "execute_result"
    }
   ],
   "source": [
    "alpha = Symbol('\\\\alpha', real=True)\n",
    "beta,gamma,eta, delta = symbols('\\\\beta \\\\gamma \\\\eta \\\\delta', real=True)\n",
    "alpha\n",
    "HE = Matrix([[0,0,1,0],[0,0,0,0],[1,0,0,0],[0,0,0,0]])*alpha\n",
    "HE2 = Matrix([[0,0,0,0],[0,0,-1,0],[0,1,0,-1],[0,0,1,0]])*beta*I\n",
    "HE,HE2,HE+HE2, (HE+HE2).eigenvals()"
   ]
  },
  {
   "cell_type": "code",
   "execution_count": 38,
   "metadata": {},
   "outputs": [
    {
     "data": {
      "image/png": "[encoded data removed]",
      "text/latex": [
       "$\\displaystyle \\left( \\left[\\begin{matrix}0 & 0 & 0 & 0\\\\0 & - \\alpha & 0 & 0\\\\0 & 0 & 0 & 0\\\\0 & 0 & 0 & \\alpha\\end{matrix}\\right], \\  \\left[\\begin{matrix}0 & \\beta & 0 & - \\beta\\\\\\beta & 0 & 0 & 0\\\\0 & 0 & 0 & 0\\\\- \\beta & 0 & 0 & 0\\end{matrix}\\right], \\  \\left[\\begin{matrix}0 & \\beta & 0 & - \\beta\\\\\\beta & - \\alpha & 0 & 0\\\\0 & 0 & 0 & 0\\\\- \\beta & 0 & 0 & \\alpha\\end{matrix}\\right], \\  \\left\\{ 0 : 2, \\  - \\sqrt{\\alpha^{2} + 2 \\beta^{2}} : 1, \\  \\sqrt{\\alpha^{2} + 2 \\beta^{2}} : 1\\right\\}\\right)$"
      ],
      "text/plain": [
       "⎛⎡0     0     0    0   ⎤  ⎡  0     \\beta  0  -\\beta⎤  ⎡  0      \\beta   0  -\\b\n",
       "⎜⎢                     ⎥  ⎢                        ⎥  ⎢                       \n",
       "⎜⎢0  -\\alpha  0    0   ⎥  ⎢\\beta     0    0    0   ⎥  ⎢\\beta   -\\alpha  0    0\n",
       "⎜⎢                     ⎥, ⎢                        ⎥, ⎢                       \n",
       "⎜⎢0     0     0    0   ⎥  ⎢  0       0    0    0   ⎥  ⎢  0        0     0    0\n",
       "⎜⎢                     ⎥  ⎢                        ⎥  ⎢                       \n",
       "⎝⎣0     0     0  \\alpha⎦  ⎣-\\beta    0    0    0   ⎦  ⎣-\\beta     0     0  \\al\n",
       "\n",
       "eta⎤                                                                 ⎞\n",
       "   ⎥  ⎧          ____________________        ____________________   ⎫⎟\n",
       "   ⎥  ⎨         ╱       2          2        ╱       2          2    ⎬⎟\n",
       "   ⎥, ⎩0: 2, -╲╱  \\alpha  + 2⋅\\beta  : 1, ╲╱  \\alpha  + 2⋅\\beta  : 1⎭⎟\n",
       "   ⎥                                                                 ⎟\n",
       "   ⎥                                                                 ⎟\n",
       "pha⎦                                                                 ⎠"
      ]
     },
     "execution_count": 38,
     "metadata": {},
     "output_type": "execute_result"
    }
   ],
   "source": [
    "t2 = Matrix([[0,0,0,0],[0,-1,0,0], [0,0,0,0],[0,0,0,1]])*alpha\n",
    "t3 = Matrix([[0,1,0,-1],[1,0,0,0],[0,0,0,0],[-1,0,0,0]])*beta\n",
    "t2, t3, (t2+t3),(t2+t3).eigenvals()"
   ]
  },
  {
   "cell_type": "code",
   "execution_count": null,
   "metadata": {},
   "outputs": [],
   "source": []
  },
  {
   "cell_type": "code",
   "execution_count": 30,
   "metadata": {},
   "outputs": [
    {
     "data": {
      "image/png": "[encoded data removed]",
      "text/latex": [
       "$\\displaystyle \\left[ \\left( 0, \\  2, \\  \\left[ \\left[\\begin{matrix}\\frac{\\beta}{\\alpha}\\\\1\\\\0\\\\0\\end{matrix}\\right], \\  \\left[\\begin{matrix}- \\frac{\\beta}{\\alpha}\\\\0\\\\0\\\\1\\end{matrix}\\right]\\right]\\right), \\  \\left( - \\sqrt{\\alpha^{2} - 2 \\beta^{2}}, \\  1, \\  \\left[ \\left[\\begin{matrix}- \\frac{\\alpha}{\\beta}\\\\-1\\\\\\frac{\\sqrt{\\alpha^{2} - 2 \\beta^{2}}}{\\beta}\\\\1\\end{matrix}\\right]\\right]\\right), \\  \\left( \\sqrt{\\alpha^{2} - 2 \\beta^{2}}, \\  1, \\  \\left[ \\left[\\begin{matrix}- \\frac{\\alpha}{\\beta}\\\\-1\\\\- \\frac{\\sqrt{\\alpha^{2} - 2 \\beta^{2}}}{\\beta}\\\\1\\end{matrix}\\right]\\right]\\right)\\right]$"
      ],
      "text/plain": [
       "⎡                               ⎛                             ⎡⎡       -\\alpha\n",
       "⎢                               ⎜                             ⎢⎢       ───────\n",
       "⎢⎛      ⎡⎡\\beta ⎤  ⎡-\\beta ⎤⎤⎞  ⎜                             ⎢⎢        \\beta \n",
       "⎢⎜      ⎢⎢──────⎥  ⎢───────⎥⎥⎟  ⎜                             ⎢⎢              \n",
       "⎢⎜      ⎢⎢\\alpha⎥  ⎢ \\alpha⎥⎥⎟  ⎜    ____________________     ⎢⎢          -1  \n",
       "⎢⎜      ⎢⎢      ⎥  ⎢       ⎥⎥⎟  ⎜   ╱       2          2      ⎢⎢              \n",
       "⎢⎜0, 2, ⎢⎢  1   ⎥, ⎢   0   ⎥⎥⎟, ⎜-╲╱  \\alpha  - 2⋅\\beta  , 1, ⎢⎢   ___________\n",
       "⎢⎜      ⎢⎢      ⎥  ⎢       ⎥⎥⎟  ⎜                             ⎢⎢  ╱       2   \n",
       "⎢⎜      ⎢⎢  0   ⎥  ⎢   0   ⎥⎥⎟  ⎜                             ⎢⎢╲╱  \\alpha  - \n",
       "⎢⎜      ⎢⎢      ⎥  ⎢       ⎥⎥⎟  ⎜                             ⎢⎢──────────────\n",
       "⎢⎝      ⎣⎣  0   ⎦  ⎣   1   ⎦⎦⎠  ⎜                             ⎢⎢         \\beta\n",
       "⎢                               ⎜                             ⎢⎢              \n",
       "⎣                               ⎝                             ⎣⎣           1  \n",
       "\n",
       "         ⎤⎤⎞  ⎛                            ⎡⎡        -\\alpha          ⎤⎤⎞⎤\n",
       "─        ⎥⎥⎟  ⎜                            ⎢⎢        ────────         ⎥⎥⎟⎥\n",
       "         ⎥⎥⎟  ⎜                            ⎢⎢         \\beta           ⎥⎥⎟⎥\n",
       "         ⎥⎥⎟  ⎜                            ⎢⎢                         ⎥⎥⎟⎥\n",
       "         ⎥⎥⎟  ⎜   ____________________     ⎢⎢           -1            ⎥⎥⎟⎥\n",
       "         ⎥⎥⎟  ⎜  ╱       2          2      ⎢⎢                         ⎥⎥⎟⎥\n",
       "_________⎥⎥⎟, ⎜╲╱  \\alpha  - 2⋅\\beta  , 1, ⎢⎢    ____________________ ⎥⎥⎟⎥\n",
       "       2 ⎥⎥⎟  ⎜                            ⎢⎢   ╱       2          2  ⎥⎥⎟⎥\n",
       "2⋅\\beta  ⎥⎥⎟  ⎜                            ⎢⎢-╲╱  \\alpha  - 2⋅\\beta   ⎥⎥⎟⎥\n",
       "─────────⎥⎥⎟  ⎜                            ⎢⎢─────────────────────────⎥⎥⎟⎥\n",
       "         ⎥⎥⎟  ⎜                            ⎢⎢          \\beta          ⎥⎥⎟⎥\n",
       "         ⎥⎥⎟  ⎜                            ⎢⎢                         ⎥⎥⎟⎥\n",
       "         ⎦⎦⎠  ⎝                            ⎣⎣            1            ⎦⎦⎠⎦"
      ]
     },
     "execution_count": 30,
     "metadata": {},
     "output_type": "execute_result"
    }
   ],
   "source": [
    "Hprima = HE+HE2\n",
    "Hprima.eigenvects()"
   ]
  },
  {
   "cell_type": "code",
   "execution_count": 57,
   "metadata": {},
   "outputs": [
    {
     "data": {
      "image/png": "[encoded data removed]",
      "text/latex": [
       "$\\displaystyle \\left\\{ 0 : 2, \\  - \\alpha : 1, \\  \\alpha : 1\\right\\}$"
      ],
      "text/plain": [
       "{0: 2, -\\alpha: 1, \\alpha: 1}"
      ]
     },
     "execution_count": 57,
     "metadata": {},
     "output_type": "execute_result"
    }
   ],
   "source": [
    "HE.eigenvals()"
   ]
  },
  {
   "cell_type": "code",
   "execution_count": null,
   "metadata": {},
   "outputs": [],
   "source": []
  },
  {
   "cell_type": "code",
   "execution_count": null,
   "metadata": {},
   "outputs": [],
   "source": [
    "\n"
   ]
  },
  {
   "cell_type": "code",
   "execution_count": 44,
   "metadata": {},
   "outputs": [],
   "source": [
    "#Punto 2"
   ]
  },
  {
   "cell_type": "code",
   "execution_count": 45,
   "metadata": {},
   "outputs": [],
   "source": [
    "a0, r1, r2 = symbols('a_0 r_1 r_2', real=True)\n",
    "Z = Symbol('Z', integer= True)"
   ]
  },
  {
   "cell_type": "code",
   "execution_count": 46,
   "metadata": {},
   "outputs": [
    {
     "data": {
      "image/png": "[encoded data removed]",
      "text/latex": [
       "$\\displaystyle \\begin{cases} 1 & \\text{for}\\: \\left|{\\arg{\\left(a_{0} \\right)}}\\right| < \\frac{\\pi}{2} \\\\\\frac{4 \\int\\limits_{0}^{\\infty} r^{2} e^{- \\frac{2 r}{a_{0}}}\\, dr}{a_{0}^{3}} & \\text{otherwise} \\end{cases}$"
      ],
      "text/plain": [
       "⎧                                  π\n",
       "⎪       1          for │arg(a₀)│ < ─\n",
       "⎪                                  2\n",
       "⎪                                   \n",
       "⎪  ∞                                \n",
       "⎪  ⌠                                \n",
       "⎪  ⎮     -2⋅r                       \n",
       "⎨  ⎮     ─────                      \n",
       "⎪  ⎮  2    a₀                       \n",
       "⎪4⋅⎮ r ⋅ℯ      dr                   \n",
       "⎪  ⌡                                \n",
       "⎪  0                                \n",
       "⎪────────────────      otherwise    \n",
       "⎪        3                          \n",
       "⎩      a₀                           "
      ]
     },
     "execution_count": 46,
     "metadata": {},
     "output_type": "execute_result"
    }
   ],
   "source": [
    "simplify(4*a0**-3*integrate(exp(-2*r/a0)*r**2, (r,0,oo)))"
   ]
  },
  {
   "cell_type": "code",
   "execution_count": 47,
   "metadata": {},
   "outputs": [
    {
     "data": {
      "image/png": "[encoded data removed]",
      "text/latex": [
       "$\\displaystyle 2 \\left(\\frac{Z}{a_{0}}\\right)^{1.5} e^{\\frac{Z r}{a_{0}}}$"
      ],
      "text/plain": [
       "           Z⋅r\n",
       "      1.5  ───\n",
       "  ⎛Z ⎞      a₀\n",
       "2⋅⎜──⎟   ⋅ℯ   \n",
       "  ⎝a₀⎠        "
      ]
     },
     "execution_count": 47,
     "metadata": {},
     "output_type": "execute_result"
    }
   ],
   "source": [
    "func = 2*(Z/a0)**(3/2)*exp(-r)\n",
    "func = func.subs( r, -Z* r/a0)\n",
    "func"
   ]
  },
  {
   "cell_type": "code",
   "execution_count": 48,
   "metadata": {},
   "outputs": [
    {
     "data": {
      "image/png": "[encoded data removed]",
      "text/latex": [
       "$\\displaystyle \\begin{cases} - \\frac{a_{0}^{3} \\left(\\frac{Z}{a_{0}}\\right)^{3.0}}{Z^{3}} & \\text{for}\\: \\left|{\\arg{\\left(Z \\right)} - \\arg{\\left(a_{0} \\right)} + \\pi}\\right| < \\frac{\\pi}{2} \\\\\\int\\limits_{0}^{\\infty} 4 r^{2} \\left(\\frac{Z}{a_{0}}\\right)^{3.0} e^{\\frac{2 Z r}{a_{0}}}\\, dr & \\text{otherwise} \\end{cases}$"
      ],
      "text/plain": [
       "⎧              3.0                                       \n",
       "⎪        3 ⎛Z ⎞                                          \n",
       "⎪     -a₀ ⋅⎜──⎟                                          \n",
       "⎪          ⎝a₀⎠                                         π\n",
       "⎪     ─────────────        for │arg(Z) - arg(a₀) + π│ < ─\n",
       "⎪            3                                          2\n",
       "⎪           Z                                            \n",
       "⎪                                                        \n",
       "⎨∞                                                       \n",
       "⎪⌠                                                       \n",
       "⎪⎮               2⋅Z⋅r                                   \n",
       "⎪⎮          3.0  ─────                                   \n",
       "⎪⎮    2 ⎛Z ⎞       a₀                                    \n",
       "⎪⎮ 4⋅r ⋅⎜──⎟   ⋅ℯ      dr            otherwise           \n",
       "⎪⎮      ⎝a₀⎠                                             \n",
       "⎪⌡                                                       \n",
       "⎩0                                                       "
      ]
     },
     "execution_count": 48,
     "metadata": {},
     "output_type": "execute_result"
    }
   ],
   "source": [
    "simplify(integrate(func**2*r**2,(r,0,oo)))"
   ]
  },
  {
   "cell_type": "code",
   "execution_count": 49,
   "metadata": {},
   "outputs": [
    {
     "data": {
      "image/png": "[encoded data removed]",
      "text/latex": [
       "$\\displaystyle \\frac{8.0 \\left(\\frac{1}{a_{0}}\\right)^{3.0} e^{\\frac{2 r_{1}}{a_{0}}} e^{\\frac{2 r_{2}}{a_{0}}}}{\\pi}$"
      ],
      "text/plain": [
       "             2⋅r₁  2⋅r₂\n",
       "        3.0  ────  ────\n",
       "    ⎛1 ⎞      a₀    a₀ \n",
       "8.0⋅⎜──⎟   ⋅ℯ    ⋅ℯ    \n",
       "    ⎝a₀⎠               \n",
       "───────────────────────\n",
       "           π           "
      ]
     },
     "execution_count": 49,
     "metadata": {},
     "output_type": "execute_result"
    }
   ],
   "source": [
    "psi0 = func.subs(r,r1)*func.subs(r,r2) / (4*pi)\n",
    "psi0 = psi0.subs(Z,2)\n",
    "\n",
    "psi0"
   ]
  },
  {
   "cell_type": "code",
   "execution_count": 50,
   "metadata": {},
   "outputs": [
    {
     "data": {
      "image/png": "[encoded data removed]",
      "text/latex": [
       "$\\displaystyle \\begin{cases} - \\frac{16.0 a_{0} \\left(\\frac{1}{a_{0}}\\right)^{6.0} e^{\\frac{4 r_{2}}{a_{0}}}}{\\pi^{2}} & \\text{for}\\: \\left|{\\arg{\\left(a_{0} \\right)} - \\pi}\\right| < \\frac{\\pi}{2} \\\\\\int\\limits_{0}^{\\infty} \\frac{64.0 \\left(\\frac{1}{a_{0}}\\right)^{6.0} e^{\\frac{4 r_{1}}{a_{0}}} e^{\\frac{4 r_{2}}{a_{0}}}}{\\pi^{2}}\\, dr_{1} & \\text{otherwise} \\end{cases}$"
      ],
      "text/plain": [
       "⎧                      4⋅r₂                             \n",
       "⎪                 6.0  ────                             \n",
       "⎪             ⎛1 ⎞      a₀                              \n",
       "⎪    -16.0⋅a₀⋅⎜──⎟   ⋅ℯ                                 \n",
       "⎪             ⎝a₀⎠                                     π\n",
       "⎪    ───────────────────────       for │arg(a₀) - π│ < ─\n",
       "⎪                2                                     2\n",
       "⎪               π                                       \n",
       "⎪                                                       \n",
       "⎪∞                                                      \n",
       "⎨⌠                                                      \n",
       "⎪⎮               4⋅r₁  4⋅r₂                             \n",
       "⎪⎮          6.0  ────  ────                             \n",
       "⎪⎮      ⎛1 ⎞      a₀    a₀                              \n",
       "⎪⎮ 64.0⋅⎜──⎟   ⋅ℯ    ⋅ℯ                                 \n",
       "⎪⎮      ⎝a₀⎠                                            \n",
       "⎪⎮ ──────────────────────── d(r₁)        otherwise      \n",
       "⎪⎮             2                                        \n",
       "⎪⎮            π                                         \n",
       "⎪⌡                                                      \n",
       "⎩0                                                      "
      ]
     },
     "execution_count": 50,
     "metadata": {},
     "output_type": "execute_result"
    }
   ],
   "source": [
    "integrate(psi0*psi0, (r1,0,oo) )"
   ]
  },
  {
   "cell_type": "code",
   "execution_count": 51,
   "metadata": {},
   "outputs": [
    {
     "data": {
      "image/png": "[encoded data removed]",
      "text/latex": [
       "$\\displaystyle r_{2} e^{- \\frac{4 r_{2}}{a_{0}}}$"
      ],
      "text/plain": [
       "    -4⋅r₂ \n",
       "    ──────\n",
       "      a₀  \n",
       "r₂⋅ℯ      "
      ]
     },
     "execution_count": 51,
     "metadata": {},
     "output_type": "execute_result"
    }
   ],
   "source": [
    "expr = r2 * exp(-4*(r2)/a0) # Segunda integral de r2\n",
    "expr"
   ]
  },
  {
   "cell_type": "code",
   "execution_count": 52,
   "metadata": {},
   "outputs": [
    {
     "data": {
      "image/png": "[encoded data removed]",
      "text/latex": [
       "$\\displaystyle - \\frac{\\left(- a_{0}^{2} - 4 a_{0} r_{1}\\right) e^{- \\frac{4 r_{1}}{a_{0}}}}{16}$"
      ],
      "text/plain": [
       "                    -4⋅r₁  \n",
       "                    ────── \n",
       " ⎛    2          ⎞    a₀   \n",
       "-⎝- a₀  - 4⋅a₀⋅r₁⎠⋅ℯ       \n",
       "───────────────────────────\n",
       "             16            "
      ]
     },
     "execution_count": 52,
     "metadata": {},
     "output_type": "execute_result"
    }
   ],
   "source": [
    "u = Symbol('u', real=True)\n",
    "uexpr = integrate(u*exp(-u) * (a0/4)**2,(u,4*r1/a0,oo))\n",
    "uexpr.subs(u,4*r2/a0)"
   ]
  },
  {
   "cell_type": "code",
   "execution_count": 53,
   "metadata": {},
   "outputs": [
    {
     "data": {
      "image/png": "[encoded data removed]",
      "text/latex": [
       "$\\displaystyle \\frac{a_{0}^{2} \\left(a_{0} e^{\\frac{4 r_{1}}{a_{0}}} - a_{0} - 2 r_{1}\\right) e^{- \\frac{4 r_{1}}{a_{0}}}}{32 r_{1}}$"
      ],
      "text/plain": [
       "    ⎛    4⋅r₁            ⎞  -4⋅r₁ \n",
       "    ⎜    ────            ⎟  ──────\n",
       "  2 ⎜     a₀             ⎟    a₀  \n",
       "a₀ ⋅⎝a₀⋅ℯ     - a₀ - 2⋅r₁⎠⋅ℯ      \n",
       "──────────────────────────────────\n",
       "              32⋅r₁               "
      ]
     },
     "execution_count": 53,
     "metadata": {},
     "output_type": "execute_result"
    }
   ],
   "source": [
    "expr = r2**2  * exp(-2*2*(r2)/a0) # Primera integral de r2\n",
    "simplify(integrate(expr,(r2,0,r1))/r1+ uexpr.subs(u,4*r2/a0)) # 1/r1 + 2"
   ]
  },
  {
   "cell_type": "code",
   "execution_count": 54,
   "metadata": {},
   "outputs": [
    {
     "data": {
      "image/png": "[encoded data removed]",
      "text/latex": [
       "$\\displaystyle e^{- \\frac{4 r_{1}}{a_{0}}}$"
      ],
      "text/plain": [
       " -4⋅r₁ \n",
       " ──────\n",
       "   a₀  \n",
       "ℯ      "
      ]
     },
     "execution_count": 54,
     "metadata": {},
     "output_type": "execute_result"
    }
   ],
   "source": [
    "exp0 = exp(-4*r1/a0)\n",
    "exp0"
   ]
  },
  {
   "cell_type": "code",
   "execution_count": 55,
   "metadata": {},
   "outputs": [
    {
     "data": {
      "image/png": "[encoded data removed]",
      "text/latex": [
       "$\\displaystyle \\left(a_{0}^{3} r_{1} e^{\\frac{4 r_{1}}{a_{0}}} - a_{0}^{3} r_{1} - 2 a_{0}^{2} r_{1}^{2}\\right) e^{- \\frac{8 r_{1}}{a_{0}}}$"
      ],
      "text/plain": [
       "⎛        4⋅r₁                     ⎞  -8⋅r₁ \n",
       "⎜        ────                     ⎟  ──────\n",
       "⎜  3      a₀      3          2   2⎟    a₀  \n",
       "⎝a₀ ⋅r₁⋅ℯ     - a₀ ⋅r₁ - 2⋅a₀ ⋅r₁ ⎠⋅ℯ      "
      ]
     },
     "execution_count": 55,
     "metadata": {},
     "output_type": "execute_result"
    }
   ],
   "source": [
    "last = a0**3 * r1 * exp0**-1 -r1*a0**3 - 2*a0**2*r1**2\n",
    "last = last*exp0**2\n",
    "last"
   ]
  },
  {
   "cell_type": "code",
   "execution_count": 56,
   "metadata": {},
   "outputs": [
    {
     "data": {
      "image/png": "[encoded data removed]",
      "text/latex": [
       "$\\displaystyle \\begin{cases} \\frac{5 a_{0}^{5}}{128} & \\text{for}\\: \\left|{\\arg{\\left(a_{0} \\right)}}\\right| < \\frac{\\pi}{2} \\\\\\int\\limits_{0}^{\\infty} \\left(a_{0}^{3} r_{1} e^{\\frac{4 r_{1}}{a_{0}}} - a_{0}^{3} r_{1} - 2 a_{0}^{2} r_{1}^{2}\\right) e^{- \\frac{8 r_{1}}{a_{0}}}\\, dr_{1} & \\text{otherwise} \\end{cases}$"
      ],
      "text/plain": [
       "⎧                           5                                          \n",
       "⎪                       5⋅a₀                                          π\n",
       "⎪                       ─────                         for │arg(a₀)│ < ─\n",
       "⎪                        128                                          2\n",
       "⎪                                                                      \n",
       "⎪∞                                                                     \n",
       "⎨⌠                                                                     \n",
       "⎪⎮ ⎛        4⋅r₁                     ⎞  -8⋅r₁                          \n",
       "⎪⎮ ⎜        ────                     ⎟  ──────                         \n",
       "⎪⎮ ⎜  3      a₀      3          2   2⎟    a₀                           \n",
       "⎪⎮ ⎝a₀ ⋅r₁⋅ℯ     - a₀ ⋅r₁ - 2⋅a₀ ⋅r₁ ⎠⋅ℯ       d(r₁)      otherwise    \n",
       "⎪⌡                                                                     \n",
       "⎩0                                                                     "
      ]
     },
     "execution_count": 56,
     "metadata": {},
     "output_type": "execute_result"
    }
   ],
   "source": [
    "integrate(last,(r1,0,oo))"
   ]
  },
  {
   "cell_type": "code",
   "execution_count": null,
   "metadata": {},
   "outputs": [],
   "source": []
  },
  {
   "cell_type": "code",
   "execution_count": 39,
   "metadata": {},
   "outputs": [],
   "source": [
    "#Punto 3"
   ]
  },
  {
   "cell_type": "code",
   "execution_count": 42,
   "metadata": {},
   "outputs": [
    {
     "data": {
      "image/png": "[encoded data removed]",
      "text/latex": [
       "$\\displaystyle \\pi$"
      ],
      "text/plain": [
       "π"
      ]
     },
     "execution_count": 42,
     "metadata": {},
     "output_type": "execute_result"
    }
   ],
   "source": [
    "integrate(sin(phi)**2,(phi,0,2*pi))"
   ]
  },
  {
   "cell_type": "code",
   "execution_count": 44,
   "metadata": {},
   "outputs": [
    {
     "data": {
      "image/png": "[encoded data removed]",
      "text/latex": [
       "$\\displaystyle \\frac{4}{3}$"
      ],
      "text/plain": [
       "4/3"
      ]
     },
     "execution_count": 44,
     "metadata": {},
     "output_type": "execute_result"
    }
   ],
   "source": [
    "integrate(sin(theta)**3, (theta,0,pi))"
   ]
  },
  {
   "cell_type": "code",
   "execution_count": 45,
   "metadata": {},
   "outputs": [
    {
     "data": {
      "image/png": "[encoded data removed]",
      "text/latex": [
       "$\\displaystyle \\frac{2}{3}$"
      ],
      "text/plain": [
       "2/3"
      ]
     },
     "execution_count": 45,
     "metadata": {},
     "output_type": "execute_result"
    }
   ],
   "source": [
    "integrate(sin(theta)*cos(theta)**2, (theta,0,pi))"
   ]
  },
  {
   "cell_type": "code",
   "execution_count": 47,
   "metadata": {},
   "outputs": [
    {
     "data": {
      "image/png": "[encoded data removed]",
      "text/latex": [
       "$\\displaystyle -1.5$"
      ],
      "text/plain": [
       "-1.5"
      ]
     },
     "execution_count": 47,
     "metadata": {},
     "output_type": "execute_result"
    }
   ],
   "source": [
    "-(1/2)*(1/2+1)*2"
   ]
  },
  {
   "cell_type": "code",
   "execution_count": 48,
   "metadata": {},
   "outputs": [
    {
     "data": {
      "image/png": "[encoded data removed]",
      "text/latex": [
       "$\\displaystyle 0.5$"
      ],
      "text/plain": [
       "0.5"
      ]
     },
     "execution_count": 48,
     "metadata": {},
     "output_type": "execute_result"
    }
   ],
   "source": [
    "1*2-0.5*1.5*2"
   ]
  },
  {
   "cell_type": "code",
   "execution_count": null,
   "metadata": {},
   "outputs": [],
   "source": []
  },
  {
   "cell_type": "code",
   "execution_count": null,
   "metadata": {},
   "outputs": [],
   "source": []
  },
  {
   "cell_type": "code",
   "execution_count": null,
   "metadata": {},
   "outputs": [],
   "source": []
  },
  {
   "cell_type": "code",
   "execution_count": 4,
   "metadata": {},
   "outputs": [],
   "source": [
    "#Punto 4"
   ]
  },
  {
   "cell_type": "code",
   "execution_count": 42,
   "metadata": {},
   "outputs": [],
   "source": [
    "alpha, r, beta, mu = symbols('\\\\alpha r \\\\beta \\\\mu')"
   ]
  },
  {
   "cell_type": "code",
   "execution_count": 10,
   "metadata": {},
   "outputs": [
    {
     "data": {
      "image/png": "[encoded data removed]",
      "text/latex": [
       "$\\displaystyle \\frac{e^{- \\frac{r}{\\alpha}}}{\\pi \\sqrt{\\alpha^{3}}}$"
      ],
      "text/plain": [
       "     -r       \n",
       "    ──────    \n",
       "    \\alpha    \n",
       "   ℯ          \n",
       "──────────────\n",
       "     _________\n",
       "    ╱       3 \n",
       "π⋅╲╱  \\alpha  "
      ]
     },
     "execution_count": 10,
     "metadata": {},
     "output_type": "execute_result"
    }
   ],
   "source": [
    "psi = pi**-1 / sqrt(alpha**3)*exp(-r/alpha)\n",
    "psi"
   ]
  },
  {
   "cell_type": "code",
   "execution_count": 31,
   "metadata": {},
   "outputs": [
    {
     "data": {
      "image/png": "[encoded data removed]",
      "text/latex": [
       "$\\displaystyle \\frac{\\left(-2 + \\frac{r}{\\alpha}\\right) e^{- \\frac{r}{\\alpha}}}{\\pi \\alpha r \\sqrt{\\alpha^{3}}}$"
      ],
      "text/plain": [
       "                 -r    \n",
       "                ────── \n",
       " ⎛       r   ⎞  \\alpha \n",
       " ⎜-2 + ──────⎟⋅ℯ       \n",
       " ⎝     \\alpha⎠         \n",
       "───────────────────────\n",
       "              _________\n",
       "             ╱       3 \n",
       "π⋅\\alpha⋅r⋅╲╱  \\alpha  "
      ]
     },
     "execution_count": 31,
     "metadata": {},
     "output_type": "execute_result"
    }
   ],
   "source": [
    "t = diff(r*psi,r,2)/r\n",
    "t"
   ]
  },
  {
   "cell_type": "code",
   "execution_count": 41,
   "metadata": {},
   "outputs": [
    {
     "data": {
      "image/png": "[encoded data removed]",
      "text/latex": [
       "$\\displaystyle \\begin{cases} - \\frac{1}{\\pi \\alpha^{2}} & \\text{for}\\: \\left|{\\arg{\\left(\\alpha \\right)}}\\right| < \\frac{\\pi}{2} \\\\4 \\pi \\int\\limits_{0}^{\\infty} \\left(- \\frac{r \\left(2 \\alpha - r\\right) e^{- \\frac{2 r}{\\alpha}}}{\\pi^{2} \\alpha^{5}}\\right)\\, dr & \\text{otherwise} \\end{cases}$"
      ],
      "text/plain": [
       "⎧                -1                                       π\n",
       "⎪             ─────────               for │arg(\\alpha)│ < ─\n",
       "⎪                     2                                   2\n",
       "⎪             π⋅\\alpha                                     \n",
       "⎪                                                          \n",
       "⎪    ∞                                                     \n",
       "⎪    ⌠                                                     \n",
       "⎪    ⎮                    -2⋅r                             \n",
       "⎨    ⎮                    ──────                           \n",
       "⎪    ⎮                    \\alpha                           \n",
       "⎪    ⎮ -r⋅(2⋅\\alpha - r)⋅ℯ                                 \n",
       "⎪4⋅π⋅⎮ ────────────────────────── dr        otherwise      \n",
       "⎪    ⎮          2       5                                  \n",
       "⎪    ⎮         π ⋅\\alpha                                   \n",
       "⎪    ⌡                                                     \n",
       "⎪    0                                                     \n",
       "⎩                                                          "
      ]
     },
     "execution_count": 41,
     "metadata": {},
     "output_type": "execute_result"
    }
   ],
   "source": [
    "T = simplify(integrate(t*r**2*psi,(r,0,oo))*4*pi)\n",
    "T"
   ]
  },
  {
   "cell_type": "code",
   "execution_count": 35,
   "metadata": {},
   "outputs": [
    {
     "data": {
      "image/png": "[encoded data removed]",
      "text/latex": [
       "$\\displaystyle \\begin{cases} \\frac{\\alpha^{2}}{4} & \\text{for}\\: \\left|{\\arg{\\left(\\alpha \\right)}}\\right| < \\frac{\\pi}{2} \\\\\\int\\limits_{0}^{\\infty} \\frac{r^{2} e^{- \\frac{2 r}{\\alpha}}}{\\alpha}\\, dr & \\text{otherwise} \\end{cases}$"
      ],
      "text/plain": [
       "⎧          2                           \n",
       "⎪    \\alpha                           π\n",
       "⎪    ───────      for │arg(\\alpha)│ < ─\n",
       "⎪       4                             2\n",
       "⎪                                      \n",
       "⎪∞                                     \n",
       "⎪⌠                                     \n",
       "⎨⎮     -2⋅r                            \n",
       "⎪⎮     ──────                          \n",
       "⎪⎮  2  \\alpha                          \n",
       "⎪⎮ r ⋅ℯ                                \n",
       "⎪⎮ ────────── dr        otherwise      \n",
       "⎪⎮   \\alpha                            \n",
       "⎪⌡                                     \n",
       "⎩0                                     "
      ]
     },
     "execution_count": 35,
     "metadata": {},
     "output_type": "execute_result"
    }
   ],
   "source": [
    "integrate(r**2/alpha*exp(-2*r/alpha),(r,0,oo))"
   ]
  },
  {
   "cell_type": "code",
   "execution_count": 36,
   "metadata": {},
   "outputs": [
    {
     "data": {
      "image/png": "[encoded data removed]",
      "text/latex": [
       "$\\displaystyle \\begin{cases} - \\frac{\\alpha^{2}}{2} & \\text{for}\\: \\left|{\\arg{\\left(\\alpha \\right)}}\\right| < \\frac{\\pi}{2} \\\\\\int\\limits_{0}^{\\infty} \\left(- 2 r e^{- \\frac{2 r}{\\alpha}}\\right)\\, dr & \\text{otherwise} \\end{cases}$"
      ],
      "text/plain": [
       "⎧           2                            \n",
       "⎪    -\\alpha                            π\n",
       "⎪    ─────────      for │arg(\\alpha)│ < ─\n",
       "⎪        2                              2\n",
       "⎪                                        \n",
       "⎪∞                                       \n",
       "⎨⌠                                       \n",
       "⎪⎮       -2⋅r                            \n",
       "⎪⎮       ──────                          \n",
       "⎪⎮       \\alpha                          \n",
       "⎪⎮ -2⋅r⋅ℯ       dr        otherwise      \n",
       "⎪⌡                                       \n",
       "⎩0                                       "
      ]
     },
     "execution_count": 36,
     "metadata": {},
     "output_type": "execute_result"
    }
   ],
   "source": [
    "integrate(-2*r*exp(-2*r/alpha),(r,0,oo))"
   ]
  },
  {
   "cell_type": "code",
   "execution_count": 22,
   "metadata": {},
   "outputs": [
    {
     "data": {
      "image/png": "[encoded data removed]",
      "text/latex": [
       "$\\displaystyle \\begin{cases} \\frac{1}{2 \\pi^{2} \\alpha^{2}} & \\text{for}\\: \\left|{\\arg{\\left(\\alpha \\right)}}\\right| < \\frac{\\pi}{2} \\\\\\int\\limits_{0}^{\\infty} \\frac{e^{- \\frac{2 r}{\\alpha}}}{\\pi^{2} \\alpha^{3}}\\, dr & \\text{otherwise} \\end{cases}$"
      ],
      "text/plain": [
       "⎧      1                              π\n",
       "⎪ ────────────    for │arg(\\alpha)│ < ─\n",
       "⎪    2       2                        2\n",
       "⎪ 2⋅π ⋅\\alpha                          \n",
       "⎪                                      \n",
       "⎪∞                                     \n",
       "⎪⌠                                     \n",
       "⎪⎮   -2⋅r                              \n",
       "⎨⎮   ──────                            \n",
       "⎪⎮   \\alpha                            \n",
       "⎪⎮  ℯ                                  \n",
       "⎪⎮ ────────── dr        otherwise      \n",
       "⎪⎮  2       3                          \n",
       "⎪⎮ π ⋅\\alpha                           \n",
       "⎪⌡                                     \n",
       "⎪0                                     \n",
       "⎩                                      "
      ]
     },
     "execution_count": 22,
     "metadata": {},
     "output_type": "execute_result"
    }
   ],
   "source": [
    "integrate(psi**2,(r,0,oo))"
   ]
  },
  {
   "cell_type": "code",
   "execution_count": 49,
   "metadata": {},
   "outputs": [
    {
     "data": {
      "image/png": "[encoded data removed]",
      "text/latex": [
       "$\\displaystyle r e^{r \\left(- \\mu - \\frac{2}{\\alpha}\\right)}$"
      ],
      "text/plain": [
       "     ⎛         2   ⎞\n",
       "   r⋅⎜-\\mu - ──────⎟\n",
       "     ⎝       \\alpha⎠\n",
       "r⋅ℯ                 "
      ]
     },
     "execution_count": 49,
     "metadata": {},
     "output_type": "execute_result"
    }
   ],
   "source": [
    "v = r * exp(-(2/alpha+mu)*r)\n",
    "v"
   ]
  },
  {
   "cell_type": "code",
   "execution_count": 50,
   "metadata": {},
   "outputs": [
    {
     "data": {
      "image/png": "[encoded data removed]",
      "text/latex": [
       "$\\displaystyle \\begin{cases} - \\frac{\\alpha}{\\left(- \\mu - \\frac{2}{\\alpha}\\right) \\left(\\alpha \\mu + 2\\right)} & \\text{for}\\: \\left|{\\arg{\\left(- \\mu - \\frac{2}{\\alpha} \\right)} + \\pi}\\right| < \\frac{\\pi}{2} \\\\\\int\\limits_{0}^{\\infty} r e^{r \\left(- \\mu - \\frac{2}{\\alpha}\\right)}\\, dr & \\text{otherwise} \\end{cases}$"
      ],
      "text/plain": [
       "⎧            -\\alpha                   │   ⎛         2   ⎞    │   π\n",
       "⎪────────────────────────────────  for │arg⎜-\\mu - ──────⎟ + π│ < ─\n",
       "⎪⎛         2   ⎞                       │   ⎝       \\alpha⎠    │   2\n",
       "⎪⎜-\\mu - ──────⎟⋅(\\alpha⋅\\mu + 2)                                  \n",
       "⎪⎝       \\alpha⎠                                                   \n",
       "⎪                                                                  \n",
       "⎪   ∞                                                              \n",
       "⎨   ⌠                                                              \n",
       "⎪   ⎮      ⎛         2   ⎞                                         \n",
       "⎪   ⎮    r⋅⎜-\\mu - ──────⎟                                         \n",
       "⎪   ⎮      ⎝       \\alpha⎠                                         \n",
       "⎪   ⎮ r⋅ℯ                  dr                 otherwise            \n",
       "⎪   ⌡                                                              \n",
       "⎪   0                                                              \n",
       "⎩                                                                  "
      ]
     },
     "execution_count": 50,
     "metadata": {},
     "output_type": "execute_result"
    }
   ],
   "source": [
    "integrate(v,(r,0,oo))"
   ]
  },
  {
   "cell_type": "code",
   "execution_count": 65,
   "metadata": {},
   "outputs": [
    {
     "data": {
      "image/png": "[encoded data removed]",
      "text/latex": [
       "$\\displaystyle - \\frac{\\mu}{\\alpha \\left(\\frac{\\alpha \\mu}{2} + 1\\right)^{3}} - \\frac{1}{\\alpha^{2} \\left(\\frac{\\alpha \\mu}{2} + 1\\right)^{2}}$"
      ],
      "text/plain": [
       "            \\mu                          1            \n",
       "- ──────────────────────── - ─────────────────────────\n",
       "                         3                           2\n",
       "         ⎛\\alpha⋅\\mu    ⎞          2 ⎛\\alpha⋅\\mu    ⎞ \n",
       "  \\alpha⋅⎜────────── + 1⎟    \\alpha ⋅⎜────────── + 1⎟ \n",
       "         ⎝    2         ⎠            ⎝    2         ⎠ "
      ]
     },
     "execution_count": 65,
     "metadata": {},
     "output_type": "execute_result"
    }
   ],
   "source": [
    "diff(alpha**-1*(1+alpha*mu/2)**-2,alpha)"
   ]
  },
  {
   "cell_type": "code",
   "execution_count": 66,
   "metadata": {},
   "outputs": [
    {
     "data": {
      "image/png": "[encoded data removed]",
      "text/latex": [
       "$\\displaystyle \\frac{1}{\\alpha \\left(\\frac{\\alpha \\mu}{2} + 1\\right)^{2}}$"
      ],
      "text/plain": [
       "           1            \n",
       "────────────────────────\n",
       "                       2\n",
       "       ⎛\\alpha⋅\\mu    ⎞ \n",
       "\\alpha⋅⎜────────── + 1⎟ \n",
       "       ⎝    2         ⎠ "
      ]
     },
     "execution_count": 66,
     "metadata": {},
     "output_type": "execute_result"
    }
   ],
   "source": [
    "alpha**-1*(1+alpha*mu/2)**-2"
   ]
  },
  {
   "cell_type": "code",
   "execution_count": 69,
   "metadata": {},
   "outputs": [
    {
     "data": {
      "image/png": "[encoded data removed]",
      "text/latex": [
       "$\\displaystyle 1 - \\alpha \\mu + \\frac{3 \\alpha^{2} \\mu^{2}}{4} - \\frac{\\alpha^{3} \\mu^{3}}{2} + \\frac{5 \\alpha^{4} \\mu^{4}}{16} - \\frac{3 \\alpha^{5} \\mu^{5}}{16} + O\\left(\\alpha^{6}\\right)$"
      ],
      "text/plain": [
       "                         2    2         3    3           4    4           5   \n",
       "                 3⋅\\alpha ⋅\\mu    \\alpha ⋅\\mu    5⋅\\alpha ⋅\\mu    3⋅\\alpha ⋅\\m\n",
       "1 - \\alpha⋅\\mu + ────────────── - ──────────── + ────────────── - ────────────\n",
       "                       4               2               16               16    \n",
       "\n",
       " 5             \n",
       "u     ⎛      6⎞\n",
       "── + O⎝\\alpha ⎠\n",
       "               "
      ]
     },
     "execution_count": 69,
     "metadata": {},
     "output_type": "execute_result"
    }
   ],
   "source": [
    "series((1+mu*alpha/2)**-2,alpha)"
   ]
  },
  {
   "cell_type": "code",
   "execution_count": 70,
   "metadata": {},
   "outputs": [
    {
     "data": {
      "image/png": "[encoded data removed]",
      "text/latex": [
       "$\\displaystyle \\mu \\left(1 - \\frac{3 \\alpha \\mu}{2} + \\frac{3 \\alpha^{2} \\mu^{2}}{2} - \\frac{5 \\alpha^{3} \\mu^{3}}{4} + \\frac{15 \\alpha^{4} \\mu^{4}}{16} - \\frac{21 \\alpha^{5} \\mu^{5}}{32} + O\\left(\\alpha^{6}\\right)\\right)$"
      ],
      "text/plain": [
       "    ⎛                           2    2           3    3            4    4     \n",
       "    ⎜    3⋅\\alpha⋅\\mu   3⋅\\alpha ⋅\\mu    5⋅\\alpha ⋅\\mu    15⋅\\alpha ⋅\\mu    21\n",
       "\\mu⋅⎜1 - ──────────── + ────────────── - ────────────── + ─────────────── - ──\n",
       "    ⎝         2               2                4                 16           \n",
       "\n",
       "       5    5             ⎞\n",
       "⋅\\alpha ⋅\\mu     ⎛      6⎞⎟\n",
       "───────────── + O⎝\\alpha ⎠⎟\n",
       "     32                   ⎠"
      ]
     },
     "execution_count": 70,
     "metadata": {},
     "output_type": "execute_result"
    }
   ],
   "source": [
    "mu*series((1+mu*alpha/2)**-3,alpha)"
   ]
  },
  {
   "cell_type": "code",
   "execution_count": 77,
   "metadata": {},
   "outputs": [],
   "source": [
    "hbar,m, g = symbols('\\hbar m g')"
   ]
  },
  {
   "cell_type": "code",
   "execution_count": 141,
   "metadata": {},
   "outputs": [
    {
     "data": {
      "image/png": "[encoded data removed]",
      "text/latex": [
       "$\\displaystyle - \\frac{g^{2}}{\\alpha \\left(\\frac{\\alpha \\mu}{2} + 1\\right)^{2}} + \\frac{\\hbar^{2}}{2 \\alpha^{2} m}$"
      ],
      "text/plain": [
       "              2                     2   \n",
       "             g                   \\h̅    \n",
       "- ──────────────────────── + ───────────\n",
       "                         2           2  \n",
       "         ⎛\\alpha⋅\\mu    ⎞    2⋅\\alpha ⋅m\n",
       "  \\alpha⋅⎜────────── + 1⎟               \n",
       "         ⎝    2         ⎠               "
      ]
     },
     "execution_count": 141,
     "metadata": {},
     "output_type": "execute_result"
    }
   ],
   "source": [
    "energy = hbar**2/(2*m*alpha**2)-g**2/alpha/(1+alpha*mu/2)**2\n",
    "energy"
   ]
  },
  {
   "cell_type": "code",
   "execution_count": 104,
   "metadata": {},
   "outputs": [
    {
     "data": {
      "image/png": "[encoded data removed]",
      "text/latex": [
       "$\\displaystyle - \\frac{3 \\mu^{2} g^{2}}{4} + \\frac{g^{2}}{\\alpha^{2}} - \\frac{\\hbar^{2}}{\\alpha^{3} m}$"
      ],
      "text/plain": [
       "       2  2       2           2  \n",
       "  3⋅\\mu ⋅g       g         \\h̅   \n",
       "- ───────── + ─────── - ─────────\n",
       "      4             2         3  \n",
       "              \\alpha    \\alpha ⋅m"
      ]
     },
     "execution_count": 104,
     "metadata": {},
     "output_type": "execute_result"
    }
   ],
   "source": [
    "expre = series(diff(energy,alpha),alpha,n=1).removeO()\n",
    "expre"
   ]
  },
  {
   "cell_type": "code",
   "execution_count": 123,
   "metadata": {},
   "outputs": [
    {
     "data": {
      "image/png": "[encoded data removed]",
      "text/latex": [
       "$\\displaystyle \\left\\{- \\frac{\\sqrt{- 4 a c + 1}}{2 a} + \\frac{1}{2 a}, \\frac{\\sqrt{- 4 a c + 1}}{2 a} + \\frac{1}{2 a}\\right\\}$"
      ],
      "text/plain": [
       "⎧    ____________          ____________      ⎫\n",
       "⎪  ╲╱ -4⋅a⋅c + 1     1   ╲╱ -4⋅a⋅c + 1     1 ⎪\n",
       "⎨- ────────────── + ───, ────────────── + ───⎬\n",
       "⎪       2⋅a         2⋅a       2⋅a         2⋅a⎪\n",
       "⎩                                            ⎭"
      ]
     },
     "execution_count": 123,
     "metadata": {},
     "output_type": "execute_result"
    }
   ],
   "source": [
    "alphaF = solveset(a*alpha**2-alpha+c, alpha)\n",
    "alphaF"
   ]
  },
  {
   "cell_type": "code",
   "execution_count": 126,
   "metadata": {},
   "outputs": [
    {
     "data": {
      "image/png": "[encoded data removed]",
      "text/latex": [
       "$\\displaystyle \\frac{1 - \\sqrt{- 4 a c + 1}}{2 a}$"
      ],
      "text/plain": [
       "      ____________\n",
       "1 - ╲╱ -4⋅a⋅c + 1 \n",
       "──────────────────\n",
       "       2⋅a        "
      ]
     },
     "execution_count": 126,
     "metadata": {},
     "output_type": "execute_result"
    }
   ],
   "source": [
    "alpha1 = (1-sqrt(-4*a*c+1))/(2*a)\n",
    "alpha1"
   ]
  },
  {
   "cell_type": "code",
   "execution_count": 127,
   "metadata": {},
   "outputs": [
    {
     "data": {
      "image/png": "[encoded data removed]",
      "text/latex": [
       "$\\displaystyle \\frac{\\sqrt{- 4 a c + 1} + 1}{2 a}$"
      ],
      "text/plain": [
       "  ____________    \n",
       "╲╱ -4⋅a⋅c + 1  + 1\n",
       "──────────────────\n",
       "       2⋅a        "
      ]
     },
     "execution_count": 127,
     "metadata": {},
     "output_type": "execute_result"
    }
   ],
   "source": [
    "alpha2 = (1+sqrt(-4*a*c+1))/(2*a)\n",
    "alpha2"
   ]
  },
  {
   "cell_type": "code",
   "execution_count": 132,
   "metadata": {},
   "outputs": [
    {
     "data": {
      "image/png": "[encoded data removed]",
      "text/latex": [
       "$\\displaystyle \\frac{\\hbar^{6} \\mu^{4} \\left(0.75 g^{4} m^{2} \\left(\\sqrt{\\frac{- 0.75 \\hbar^{4} \\mu^{2} + g^{4} m^{2}}{g^{4} m^{2}}} - 1\\right) + 0.28125 \\left(\\hbar^{2} \\mu - 0.666666666666667 g^{2} m \\left(\\sqrt{\\frac{- 0.75 \\hbar^{4} \\mu^{2} + g^{4} m^{2}}{g^{4} m^{2}}} - 1\\right)\\right)^{2}\\right)}{g^{4} m^{3} \\left(\\hbar^{2} \\mu - 0.666666666666667 g^{2} m \\left(\\sqrt{\\frac{- 0.75 \\hbar^{4} \\mu^{2} + g^{4} m^{2}}{g^{4} m^{2}}} - 1\\right)\\right)^{2} \\left(\\sqrt{\\frac{- 0.75 \\hbar^{4} \\mu^{2} + g^{4} m^{2}}{g^{4} m^{2}}} - 1\\right)^{2}}$"
      ],
      "text/plain": [
       "          ⎛                                                                   \n",
       "          ⎜           ⎛      __________________________    ⎞           ⎛      \n",
       "          ⎜           ⎜     ╱           4    2    4  2     ⎟           ⎜      \n",
       "   6    4 ⎜      4  2 ⎜    ╱  - 0.75⋅\\h̅ ⋅\\mu  + g ⋅m      ⎟           ⎜   2  \n",
       "\\h̅ ⋅\\mu ⋅⎜0.75⋅g ⋅m ⋅⎜   ╱   ────────────────────────  - 1⎟ + 0.28125⋅⎜\\h̅ ⋅\\\n",
       "          ⎜           ⎜  ╱              4  2               ⎟           ⎜      \n",
       "          ⎝           ⎝╲╱              g ⋅m                ⎠           ⎝      \n",
       "──────────────────────────────────────────────────────────────────────────────\n",
       "                                                                              \n",
       "                   ⎛                                  ⎛      _________________\n",
       "                   ⎜                                  ⎜     ╱           4    2\n",
       "              4  3 ⎜   2                          2   ⎜    ╱  - 0.75⋅\\h̅ ⋅\\mu \n",
       "             g ⋅m ⋅⎜\\h̅ ⋅\\mu - 0.666666666666667⋅g ⋅m⋅⎜   ╱   ────────────────\n",
       "                   ⎜                                  ⎜  ╱              4  2  \n",
       "                   ⎝                                  ⎝╲╱              g ⋅m   \n",
       "\n",
       "                                                                   2⎞\n",
       "                            ⎛      __________________________    ⎞⎞ ⎟\n",
       "                            ⎜     ╱           4    2    4  2     ⎟⎟ ⎟\n",
       "                        2   ⎜    ╱  - 0.75⋅\\h̅ ⋅\\mu  + g ⋅m      ⎟⎟ ⎟\n",
       "mu - 0.666666666666667⋅g ⋅m⋅⎜   ╱   ────────────────────────  - 1⎟⎟ ⎟\n",
       "                            ⎜  ╱              4  2               ⎟⎟ ⎟\n",
       "                            ⎝╲╱              g ⋅m                ⎠⎠ ⎠\n",
       "─────────────────────────────────────────────────────────────────────\n",
       "               2                                       2             \n",
       "_________    ⎞⎞  ⎛      __________________________    ⎞              \n",
       "    4  2     ⎟⎟  ⎜     ╱           4    2    4  2     ⎟              \n",
       " + g ⋅m      ⎟⎟  ⎜    ╱  - 0.75⋅\\h̅ ⋅\\mu  + g ⋅m      ⎟              \n",
       "────────  - 1⎟⎟ ⋅⎜   ╱   ────────────────────────  - 1⎟              \n",
       "             ⎟⎟  ⎜  ╱              4  2               ⎟              \n",
       "             ⎠⎠  ⎝╲╱              g ⋅m                ⎠              "
      ]
     },
     "execution_count": 132,
     "metadata": {},
     "output_type": "execute_result"
    }
   ],
   "source": [
    "#Energía final \n",
    "simplify(energy.subs(alpha,alpha1).subs(a,(3./4*mu**2*hbar**2/2/m/g**2)).subs(c,hbar**2/2/m/g**2))"
   ]
  },
  {
   "cell_type": "code",
   "execution_count": null,
   "metadata": {},
   "outputs": [],
   "source": []
  },
  {
   "cell_type": "code",
   "execution_count": null,
   "metadata": {},
   "outputs": [],
   "source": []
  },
  {
   "cell_type": "code",
   "execution_count": null,
   "metadata": {},
   "outputs": [],
   "source": []
  },
  {
   "cell_type": "code",
   "execution_count": 56,
   "metadata": {},
   "outputs": [
    {
     "data": {
      "image/png": "[encoded data removed]",
      "text/latex": [
       "$\\displaystyle \\begin{cases} \\frac{3 \\pi \\alpha^{4}}{2} & \\text{for}\\: \\left|{\\arg{\\left(\\alpha \\right)}}\\right| < \\frac{\\pi}{2} \\\\\\int\\limits_{0}^{\\infty} 4 \\pi r^{3} e^{- \\frac{2 r}{\\alpha}}\\, dr & \\text{otherwise} \\end{cases}$"
      ],
      "text/plain": [
       "⎧              4                           \n",
       "⎪    3⋅π⋅\\alpha                           π\n",
       "⎪    ───────────      for │arg(\\alpha)│ < ─\n",
       "⎪         2                               2\n",
       "⎪                                          \n",
       "⎪∞                                         \n",
       "⎨⌠                                         \n",
       "⎪⎮         -2⋅r                            \n",
       "⎪⎮         ──────                          \n",
       "⎪⎮      3  \\alpha                          \n",
       "⎪⎮ 4⋅π⋅r ⋅ℯ       dr        otherwise      \n",
       "⎪⌡                                         \n",
       "⎩0                                         "
      ]
     },
     "execution_count": 56,
     "metadata": {},
     "output_type": "execute_result"
    }
   ],
   "source": [
    "#Punto 5\n",
    "x,y,z,r, u, alpha, hbar, mu, c, theta, phi = symbols('x y z r u \\\\alpha \\\\hbar \\\\mu C \\\\theta \\\\phi', real=True)\n",
    "integrate(4*pi*r**3*exp(-2*r/alpha), (r,0,oo))"
   ]
  },
  {
   "cell_type": "code",
   "execution_count": 69,
   "metadata": {},
   "outputs": [
    {
     "data": {
      "image/png": "[encoded data removed]",
      "text/latex": [
       "$\\displaystyle \\frac{\\sqrt{2} \\left(2 - \\frac{r}{\\alpha}\\right) e^{- \\frac{r}{2 \\alpha}}}{8 \\sqrt{\\pi} \\sqrt{\\alpha^{3}}}$"
      ],
      "text/plain": [
       "                   -r    \n",
       "                 ────────\n",
       "   ⎛      r   ⎞  2⋅\\alpha\n",
       "√2⋅⎜2 - ──────⎟⋅ℯ        \n",
       "   ⎝    \\alpha⎠          \n",
       "─────────────────────────\n",
       "            _________    \n",
       "           ╱       3     \n",
       "    8⋅√π⋅╲╱  \\alpha      "
      ]
     },
     "execution_count": 69,
     "metadata": {},
     "output_type": "execute_result"
    }
   ],
   "source": [
    "psi2 = (2-r/alpha)*exp(-r/(2*alpha))/(4*sqrt(2*pi*alpha**3))\n",
    "psi2"
   ]
  },
  {
   "cell_type": "code",
   "execution_count": 84,
   "metadata": {},
   "outputs": [
    {
     "data": {
      "image/png": "[encoded data removed]",
      "text/latex": [
       "$\\displaystyle \\frac{\\sqrt{2} \\hbar^{2} \\left(16 \\alpha^{2} - 10 \\alpha r + r^{2}\\right) e^{- \\frac{r}{2 \\alpha}}}{64 \\sqrt{\\pi} \\alpha^{3} \\mu r \\sqrt{\\alpha^{3}}}$"
      ],
      "text/plain": [
       "                                           -r    \n",
       "                                         ────────\n",
       "      2 ⎛         2                  2⎞  2⋅\\alpha\n",
       "√2⋅\\h̅ ⋅⎝16⋅\\alpha  - 10⋅\\alpha⋅r + r ⎠⋅ℯ        \n",
       "─────────────────────────────────────────────────\n",
       "                                _________        \n",
       "                     3         ╱       3         \n",
       "         64⋅√π⋅\\alpha ⋅\\mu⋅r⋅╲╱  \\alpha          "
      ]
     },
     "execution_count": 84,
     "metadata": {},
     "output_type": "execute_result"
    }
   ],
   "source": [
    "Tpsi2 = -simplify(diff(r*psi2,r,2)/r )*(hbar**2/mu/2)\n",
    "Tpsi2"
   ]
  },
  {
   "cell_type": "code",
   "execution_count": 85,
   "metadata": {},
   "outputs": [
    {
     "data": {
      "image/png": "[encoded data removed]",
      "text/latex": [
       "$\\displaystyle \\begin{cases} \\frac{\\hbar^{2}}{8 \\alpha^{2} \\mu} & \\text{for}\\: \\left|{\\arg{\\left(\\alpha \\right)}}\\right| < \\frac{\\pi}{2} \\\\\\int\\limits_{0}^{\\infty} \\frac{\\hbar^{2} r \\left(2 - \\frac{r}{\\alpha}\\right) \\left(16 \\alpha^{2} - 10 \\alpha r + r^{2}\\right) e^{- \\frac{r}{\\alpha}}}{64 \\alpha^{6} \\mu}\\, dr & \\text{otherwise} \\end{cases}$"
      ],
      "text/plain": [
       "⎧                                 2                                           \n",
       "⎪                              \\h̅                                            \n",
       "⎪                         ─────────────                            for │arg(\\a\n",
       "⎪                                 2                                           \n",
       "⎪                         8⋅\\alpha ⋅\\mu                                       \n",
       "⎪                                                                             \n",
       "⎪∞                                                                            \n",
       "⎪⌠                                                                            \n",
       "⎪⎮                                                       -r                   \n",
       "⎨⎮                                                      ──────                \n",
       "⎪⎮    2   ⎛      r   ⎞ ⎛         2                  2⎞  \\alpha                \n",
       "⎪⎮ \\h̅ ⋅r⋅⎜2 - ──────⎟⋅⎝16⋅\\alpha  - 10⋅\\alpha⋅r + r ⎠⋅ℯ                      \n",
       "⎪⎮        ⎝    \\alpha⎠                                                        \n",
       "⎪⎮ ─────────────────────────────────────────────────────────── dr        other\n",
       "⎪⎮                                 6                                          \n",
       "⎪⎮                        64⋅\\alpha ⋅\\mu                                      \n",
       "⎪⌡                                                                            \n",
       "⎪0                                                                            \n",
       "⎩                                                                             \n",
       "\n",
       "          \n",
       "         π\n",
       "lpha)│ < ─\n",
       "         2\n",
       "          \n",
       "          \n",
       "          \n",
       "          \n",
       "          \n",
       "          \n",
       "          \n",
       "          \n",
       "          \n",
       "wise      \n",
       "          \n",
       "          \n",
       "          \n",
       "          \n",
       "          "
      ]
     },
     "execution_count": 85,
     "metadata": {},
     "output_type": "execute_result"
    }
   ],
   "source": [
    "integrate(4*pi*psi2*Tpsi2*r**2 , (r,0,oo)) #<T>"
   ]
  },
  {
   "cell_type": "code",
   "execution_count": 86,
   "metadata": {},
   "outputs": [
    {
     "data": {
      "image/png": "[encoded data removed]",
      "text/latex": [
       "$\\displaystyle \\begin{cases} 6 C \\alpha & \\text{for}\\: \\left|{\\arg{\\left(\\alpha \\right)}}\\right| < \\frac{\\pi}{2} \\\\\\int\\limits_{0}^{\\infty} \\frac{C r^{3} \\left(2 - \\frac{r}{\\alpha}\\right)^{2} e^{- \\frac{r}{\\alpha}}}{8 \\alpha^{3}}\\, dr & \\text{otherwise} \\end{cases}$"
      ],
      "text/plain": [
       "⎧                                                     π\n",
       "⎪          6⋅C⋅\\alpha             for │arg(\\alpha)│ < ─\n",
       "⎪                                                     2\n",
       "⎪                                                      \n",
       "⎪∞                                                     \n",
       "⎪⌠                                                     \n",
       "⎪⎮                      -r                             \n",
       "⎪⎮                  2  ──────                          \n",
       "⎨⎮    3 ⎛      r   ⎞   \\alpha                          \n",
       "⎪⎮ C⋅r ⋅⎜2 - ──────⎟ ⋅ℯ                                \n",
       "⎪⎮      ⎝    \\alpha⎠                                   \n",
       "⎪⎮ ────────────────────────── dr        otherwise      \n",
       "⎪⎮                 3                                   \n",
       "⎪⎮         8⋅\\alpha                                    \n",
       "⎪⌡                                                     \n",
       "⎪0                                                     \n",
       "⎩                                                      "
      ]
     },
     "execution_count": 86,
     "metadata": {},
     "output_type": "execute_result"
    }
   ],
   "source": [
    "integrate(4*pi*psi2**2*r**3*c,(r,0,oo)) #<V>"
   ]
  },
  {
   "cell_type": "code",
   "execution_count": 87,
   "metadata": {},
   "outputs": [
    {
     "data": {
      "image/png": "[encoded data removed]",
      "text/latex": [
       "$\\displaystyle \\begin{cases} 1 & \\text{for}\\: \\left|{\\arg{\\left(\\alpha \\right)}}\\right| < \\frac{\\pi}{2} \\\\\\int\\limits_{0}^{\\infty} \\frac{r^{2} \\left(2 - \\frac{r}{\\alpha}\\right)^{2} e^{- \\frac{r}{\\alpha}}}{8 \\alpha^{3}}\\, dr & \\text{otherwise} \\end{cases}$"
      ],
      "text/plain": [
       "⎧                                                   π\n",
       "⎪              1                for │arg(\\alpha)│ < ─\n",
       "⎪                                                   2\n",
       "⎪                                                    \n",
       "⎪∞                                                   \n",
       "⎪⌠                                                   \n",
       "⎪⎮                    -r                             \n",
       "⎪⎮                2  ──────                          \n",
       "⎨⎮  2 ⎛      r   ⎞   \\alpha                          \n",
       "⎪⎮ r ⋅⎜2 - ──────⎟ ⋅ℯ                                \n",
       "⎪⎮    ⎝    \\alpha⎠                                   \n",
       "⎪⎮ ──────────────────────── dr        otherwise      \n",
       "⎪⎮                3                                  \n",
       "⎪⎮        8⋅\\alpha                                   \n",
       "⎪⌡                                                   \n",
       "⎪0                                                   \n",
       "⎩                                                    "
      ]
     },
     "execution_count": 87,
     "metadata": {},
     "output_type": "execute_result"
    }
   ],
   "source": [
    "integrate(psi2**2*r**2*4*pi,(r,0,oo))"
   ]
  },
  {
   "cell_type": "code",
   "execution_count": 95,
   "metadata": {},
   "outputs": [
    {
     "data": {
      "image/png": "[encoded data removed]",
      "text/latex": [
       "$\\displaystyle 6 C \\alpha + \\frac{\\hbar^{2}}{8 \\alpha^{2} \\mu}$"
      ],
      "text/plain": [
       "                     2    \n",
       "                  \\h̅     \n",
       "6⋅C⋅\\alpha + ─────────────\n",
       "                     2    \n",
       "             8⋅\\alpha ⋅\\mu"
      ]
     },
     "execution_count": 95,
     "metadata": {},
     "output_type": "execute_result"
    }
   ],
   "source": [
    "H = 6*c*alpha+hbar**2/8/mu/alpha**2\n",
    "simplify(H  )"
   ]
  },
  {
   "cell_type": "code",
   "execution_count": 102,
   "metadata": {},
   "outputs": [
    {
     "data": {
      "image/png": "[encoded data removed]",
      "text/latex": [
       "$\\displaystyle \\frac{\\hbar^{2}}{24 C \\mu}$"
      ],
      "text/plain": [
       "     2  \n",
       "  \\h̅   \n",
       "────────\n",
       "24⋅C⋅\\mu"
      ]
     },
     "execution_count": 102,
     "metadata": {},
     "output_type": "execute_result"
    }
   ],
   "source": [
    "alpha_m = simplify(solve(diff(H,alpha),alpha)[0])\n",
    "alpha_m**3"
   ]
  },
  {
   "cell_type": "code",
   "execution_count": 105,
   "metadata": {},
   "outputs": [
    {
     "data": {
      "image/png": "[encoded data removed]",
      "text/latex": [
       "$\\displaystyle \\frac{243 C^{2} \\hbar^{2}}{8 \\mu}$"
      ],
      "text/plain": [
       "     2    2\n",
       "243⋅C ⋅\\h̅ \n",
       "───────────\n",
       "   8⋅\\mu   "
      ]
     },
     "execution_count": 105,
     "metadata": {},
     "output_type": "execute_result"
    }
   ],
   "source": [
    "simplify(H.subs(alpha,alpha_m))**3"
   ]
  },
  {
   "cell_type": "code",
   "execution_count": null,
   "metadata": {},
   "outputs": [],
   "source": []
  },
  {
   "cell_type": "code",
   "execution_count": 106,
   "metadata": {},
   "outputs": [],
   "source": [
    "#Punto 6\n"
   ]
  },
  {
   "cell_type": "code",
   "execution_count": 117,
   "metadata": {},
   "outputs": [
    {
     "data": {
      "image/png": "[encoded data removed]",
      "text/latex": [
       "$\\displaystyle \\frac{1}{4 \\pi}$"
      ],
      "text/plain": [
       " 1 \n",
       "───\n",
       "4⋅π"
      ]
     },
     "execution_count": 117,
     "metadata": {},
     "output_type": "execute_result"
    }
   ],
   "source": [
    "Ynm(0,0, theta,phi).expand(func=True)**2"
   ]
  },
  {
   "cell_type": "code",
   "execution_count": 130,
   "metadata": {},
   "outputs": [
    {
     "data": {
      "image/png": "[encoded data removed]",
      "text/latex": [
       "$\\displaystyle \\frac{\\sqrt{2} \\left(1 - \\frac{r}{2 \\alpha}\\right) \\sqrt{\\frac{1}{\\alpha^{3}}} e^{- \\frac{r}{2 \\alpha}}}{2}$"
      ],
      "text/plain": [
       "                                    -r    \n",
       "                       _________  ────────\n",
       "   ⎛       r    ⎞     ╱    1      2⋅\\alpha\n",
       "√2⋅⎜1 - ────────⎟⋅   ╱  ─────── ⋅ℯ        \n",
       "   ⎝    2⋅\\alpha⎠   ╱         3           \n",
       "                  ╲╱    \\alpha            \n",
       "──────────────────────────────────────────\n",
       "                    2                     "
      ]
     },
     "execution_count": 130,
     "metadata": {},
     "output_type": "execute_result"
    }
   ],
   "source": [
    "R20 = sqrt(1/(2*alpha**3))*(1-r/2/alpha)*exp(-r/2/alpha)\n",
    "R20"
   ]
  },
  {
   "cell_type": "code",
   "execution_count": 131,
   "metadata": {},
   "outputs": [
    {
     "data": {
      "image/png": "[encoded data removed]",
      "text/latex": [
       "$\\displaystyle \\begin{cases} 1 & \\text{for}\\: \\left|{\\arg{\\left(\\alpha \\right)}}\\right| < \\frac{\\pi}{2} \\\\\\int\\limits_{0}^{\\infty} \\frac{r^{2} \\left(1 - \\frac{r}{2 \\alpha}\\right)^{2} e^{- \\frac{r}{\\alpha}}}{2 \\alpha^{3}}\\, dr & \\text{otherwise} \\end{cases}$"
      ],
      "text/plain": [
       "⎧                                                     π\n",
       "⎪               1                 for │arg(\\alpha)│ < ─\n",
       "⎪                                                     2\n",
       "⎪                                                      \n",
       "⎪∞                                                     \n",
       "⎪⌠                                                     \n",
       "⎪⎮                      -r                             \n",
       "⎪⎮                  2  ──────                          \n",
       "⎨⎮  2 ⎛       r    ⎞   \\alpha                          \n",
       "⎪⎮ r ⋅⎜1 - ────────⎟ ⋅ℯ                                \n",
       "⎪⎮    ⎝    2⋅\\alpha⎠                                   \n",
       "⎪⎮ ────────────────────────── dr        otherwise      \n",
       "⎪⎮                 3                                   \n",
       "⎪⎮         2⋅\\alpha                                    \n",
       "⎪⌡                                                     \n",
       "⎪0                                                     \n",
       "⎩                                                      "
      ]
     },
     "execution_count": 131,
     "metadata": {},
     "output_type": "execute_result"
    }
   ],
   "source": [
    "integrate(R20**2*r**2,(r,0,oo))"
   ]
  },
  {
   "cell_type": "code",
   "execution_count": null,
   "metadata": {},
   "outputs": [],
   "source": []
  },
  {
   "cell_type": "code",
   "execution_count": null,
   "metadata": {},
   "outputs": [],
   "source": []
  },
  {
   "cell_type": "code",
   "execution_count": null,
   "metadata": {},
   "outputs": [],
   "source": []
  },
  {
   "cell_type": "code",
   "execution_count": null,
   "metadata": {},
   "outputs": [],
   "source": []
  },
  {
   "cell_type": "code",
   "execution_count": null,
   "metadata": {},
   "outputs": [],
   "source": []
  }
 ],
 "metadata": {
  "kernelspec": {
   "display_name": "Python 3",
   "language": "python",
   "name": "python3"
  },
  "language_info": {
   "codemirror_mode": {
    "name": "ipython",
    "version": 3
   },
   "file_extension": ".py",
   "mimetype": "text/x-python",
   "name": "python",
   "nbconvert_exporter": "python",
   "pygments_lexer": "ipython3",
   "version": "3.7.3"
  }
 },
 "nbformat": 4,
 "nbformat_minor": 2
}

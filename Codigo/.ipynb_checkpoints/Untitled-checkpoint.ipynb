{
 "cells": [
  {
   "cell_type": "code",
   "execution_count": 1,
   "metadata": {},
   "outputs": [],
   "source": [
    "import numpy as np\n",
    "import matplotlib.pyplot as plt\n",
    "from scipy.optimize import fsolve "
   ]
  },
  {
   "cell_type": "code",
   "execution_count": 39,
   "metadata": {},
   "outputs": [],
   "source": [
    "def life(x, mu=13.8, a = 1e-3):\n",
    "    return -mu + 5*np.log10(x/10) + a*x\n",
    "\n",
    "x = np.linspace(1e-3, 0.6e3)"
   ]
  },
  {
   "cell_type": "code",
   "execution_count": 38,
   "metadata": {},
   "outputs": [
    {
     "data": {
      "text/plain": [
       "array([583.98876669])"
      ]
     },
     "execution_count": 38,
     "metadata": {},
     "output_type": "execute_result"
    }
   ],
   "source": [
    "fsolve ( life, 2000, args=(8-(-2), 2e-3)) #Newton- Raphson"
   ]
  },
  {
   "cell_type": "code",
   "execution_count": 41,
   "metadata": {},
   "outputs": [],
   "source": [
    "from sympy import *\n",
    "import numpy as np\n",
    "import matplotlib.pyplot as plt\n",
    "init_printing(use_latex=True)"
   ]
  },
  {
   "cell_type": "code",
   "execution_count": 51,
   "metadata": {},
   "outputs": [
    {
     "data": {
      "image/png": "[encoded data removed]",
      "text/latex": [
       "$\\displaystyle \\left[\\begin{matrix}1 & 1.31\\\\1 & 1.74\\\\1 & 2.37\\\\1 & 2.92\\end{matrix}\\right]$"
      ],
      "text/plain": [
       "⎡1  1.31⎤\n",
       "⎢       ⎥\n",
       "⎢1  1.74⎥\n",
       "⎢       ⎥\n",
       "⎢1  2.37⎥\n",
       "⎢       ⎥\n",
       "⎣1  2.92⎦"
      ]
     },
     "execution_count": 51,
     "metadata": {},
     "output_type": "execute_result"
    }
   ],
   "source": [
    "#Mínimos cuadrados para encontrar m_0.\n",
    "k, m0 = symbols('k m_0')\n",
    "X = Matrix([[1, 1, 1, 1], [1.31, 1.74, 2.37, 2.92]]).transpose()\n",
    "X"
   ]
  },
  {
   "cell_type": "code",
   "execution_count": 60,
   "metadata": {},
   "outputs": [
    {
     "data": {
      "image/png": "[encoded data removed]",
      "text/latex": [
       "$\\displaystyle \\left[\\begin{matrix}0.9\\\\0.98\\\\1.07\\\\1.17\\end{matrix}\\right]$"
      ],
      "text/plain": [
       "⎡0.9 ⎤\n",
       "⎢    ⎥\n",
       "⎢0.98⎥\n",
       "⎢    ⎥\n",
       "⎢1.07⎥\n",
       "⎢    ⎥\n",
       "⎣1.17⎦"
      ]
     },
     "execution_count": 60,
     "metadata": {},
     "output_type": "execute_result"
    }
   ],
   "source": [
    "Y = Matrix([[0.9],[0.98],[1.07],[1.17]])\n",
    "Y"
   ]
  },
  {
   "cell_type": "code",
   "execution_count": 63,
   "metadata": {},
   "outputs": [
    {
     "data": {
      "image/png": "[encoded data removed]",
      "text/latex": [
       "$\\displaystyle \\left[\\begin{matrix}0.687208797810563\\\\0.164408250450571\\end{matrix}\\right]$"
      ],
      "text/plain": [
       "⎡0.687208797810563⎤\n",
       "⎢                 ⎥\n",
       "⎣0.164408250450571⎦"
      ]
     },
     "execution_count": 63,
     "metadata": {},
     "output_type": "execute_result"
    }
   ],
   "source": [
    "Beta = (X.transpose()*X).inv()*X.transpose()*Y\n",
    "Beta"
   ]
  },
  {
   "cell_type": "code",
   "execution_count": 67,
   "metadata": {},
   "outputs": [
    {
     "data": {
      "image/png": "[encoded data removed]",
      "text/latex": [
       "$\\displaystyle \\left[\\begin{matrix}0.902583605900811\\\\0.973279153594556\\\\1.07685635137842\\\\1.16728088912623\\end{matrix}\\right]$"
      ],
      "text/plain": [
       "⎡0.902583605900811⎤\n",
       "⎢                 ⎥\n",
       "⎢0.973279153594556⎥\n",
       "⎢                 ⎥\n",
       "⎢1.07685635137842 ⎥\n",
       "⎢                 ⎥\n",
       "⎣1.16728088912623 ⎦"
      ]
     },
     "execution_count": 67,
     "metadata": {},
     "output_type": "execute_result"
    }
   ],
   "source": [
    "X *Beta"
   ]
  },
  {
   "cell_type": "code",
   "execution_count": null,
   "metadata": {},
   "outputs": [],
   "source": []
  },
  {
   "cell_type": "code",
   "execution_count": null,
   "metadata": {},
   "outputs": [],
   "source": []
  },
  {
   "cell_type": "code",
   "execution_count": null,
   "metadata": {},
   "outputs": [],
   "source": []
  }
 ],
 "metadata": {
  "kernelspec": {
   "display_name": "Python 3",
   "language": "python",
   "name": "python3"
  },
  "language_info": {
   "codemirror_mode": {
    "name": "ipython",
    "version": 3
   },
   "file_extension": ".py",
   "mimetype": "text/x-python",
   "name": "python",
   "nbconvert_exporter": "python",
   "pygments_lexer": "ipython3",
   "version": "3.7.3"
  }
 },
 "nbformat": 4,
 "nbformat_minor": 2
}

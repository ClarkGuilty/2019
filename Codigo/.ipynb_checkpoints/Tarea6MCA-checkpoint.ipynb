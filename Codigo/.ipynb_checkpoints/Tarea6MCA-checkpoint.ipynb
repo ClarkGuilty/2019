{
 "cells": [
  {
   "cell_type": "code",
   "execution_count": 81,
   "metadata": {},
   "outputs": [],
   "source": [
    "from sympy import *\n",
    "import numpy as np\n",
    "import matplotlib.pyplot as plt\n",
    "init_printing(use_latex=True)"
   ]
  },
  {
   "cell_type": "code",
   "execution_count": 82,
   "metadata": {},
   "outputs": [],
   "source": [
    "#Punto 1\n",
    "from sympy.physics import hydrogen as hyd\n",
    "\n",
    "a0, r, theta, phi = symbols('a_0 r \\\\theta \\\\phi', real = True)\n"
   ]
  },
  {
   "cell_type": "code",
   "execution_count": 83,
   "metadata": {},
   "outputs": [
    {
     "data": {
      "image/png": "[encoded data removed]",
      "text/latex": [
       "$\\displaystyle - \\frac{\\sqrt{6} e^{i \\phi} \\sin{\\left(\\theta \\right)}}{4 \\sqrt{\\pi}}$"
      ],
      "text/plain": [
       "     ⅈ⋅\\phi             \n",
       "-√6⋅ℯ      ⋅sin(\\theta) \n",
       "────────────────────────\n",
       "          4⋅√π          "
      ]
     },
     "execution_count": 83,
     "metadata": {},
     "output_type": "execute_result"
    }
   ],
   "source": [
    "simplify(hyd.Ynm(1,1,theta,phi).expand(func=True))"
   ]
  },
  {
   "cell_type": "code",
   "execution_count": 84,
   "metadata": {},
   "outputs": [
    {
     "data": {
      "image/png": "[encoded data removed]",
      "text/latex": [
       "$\\displaystyle \\int\\limits_{0}^{\\pi} e^{- 2 i \\phi} \\int\\limits_{0}^{2 \\pi} \\sin{\\left(\\theta \\right)} \\left(Y_{1}^{1}\\left(\\theta,\\phi\\right)\\right)^{2}\\, d\\theta\\, d\\phi$"
      ],
      "text/plain": [
       "π                                                                      \n",
       "⌠                                                                      \n",
       "⎮            2⋅π                                                       \n",
       "⎮             ⌠                                                        \n",
       "⎮  -2⋅ⅈ⋅\\phi  ⎮                 2                                      \n",
       "⎮ ℯ         ⋅ ⎮  sin(\\theta)⋅Ynm (1, 1, \\theta, \\phi) d(\\theta) d(\\phi)\n",
       "⎮             ⌡                                                        \n",
       "⎮             0                                                        \n",
       "⌡                                                                      \n",
       "0                                                                      "
      ]
     },
     "execution_count": 84,
     "metadata": {},
     "output_type": "execute_result"
    }
   ],
   "source": [
    "integrate(hyd.Ynm(1,1,theta,phi) * conjugate(hyd.Ynm(1,1,theta,phi))*sin(theta), (theta, 0, 2*pi), (phi, 0, pi))"
   ]
  },
  {
   "cell_type": "code",
   "execution_count": 85,
   "metadata": {},
   "outputs": [
    {
     "data": {
      "image/png": "[encoded data removed]",
      "text/latex": [
       "$\\displaystyle - \\frac{3 \\sin^{2}{\\left(\\theta \\right)}}{8 \\pi}$"
      ],
      "text/plain": [
       "      2         \n",
       "-3⋅sin (\\theta) \n",
       "────────────────\n",
       "      8⋅π       "
      ]
     },
     "execution_count": 85,
     "metadata": {},
     "output_type": "execute_result"
    }
   ],
   "source": [
    "hyd.Ynm(1,1,theta,phi).expand(func=True) * hyd.Ynm(1,-1,theta,phi).expand(func=True)"
   ]
  },
  {
   "cell_type": "code",
   "execution_count": 86,
   "metadata": {},
   "outputs": [
    {
     "data": {
      "image/png": "[encoded data removed]",
      "text/latex": [
       "$\\displaystyle e^{- 2 i \\phi} \\left(Y_{1}^{1}\\left(\\theta,\\phi\\right)\\right)^{2}$"
      ],
      "text/plain": [
       " -2⋅ⅈ⋅\\phi    2                    \n",
       "ℯ         ⋅Ynm (1, 1, \\theta, \\phi)"
      ]
     },
     "execution_count": 86,
     "metadata": {},
     "output_type": "execute_result"
    }
   ],
   "source": [
    "hyd.Ynm(1,1,theta,phi) * conjugate(hyd.Ynm(1,1,theta,phi))"
   ]
  },
  {
   "cell_type": "code",
   "execution_count": 87,
   "metadata": {},
   "outputs": [
    {
     "data": {
      "image/png": "[encoded data removed]",
      "text/latex": [
       "$\\displaystyle Y_{1}^{1}\\left(\\theta,\\phi\\right)$"
      ],
      "text/plain": [
       "Ynm(1, 1, \\theta, \\phi)"
      ]
     },
     "execution_count": 87,
     "metadata": {},
     "output_type": "execute_result"
    }
   ],
   "source": [
    "hyd.Ynm(1,1,theta,phi)"
   ]
  },
  {
   "cell_type": "code",
   "execution_count": 88,
   "metadata": {},
   "outputs": [
    {
     "data": {
      "image/png": "[encoded data removed]",
      "text/latex": [
       "$\\displaystyle e^{- 2 i \\phi} Y_{2}^{1}\\left(\\theta,\\phi\\right)$"
      ],
      "text/plain": [
       " -2⋅ⅈ⋅\\phi                        \n",
       "ℯ         ⋅Ynm(2, 1, \\theta, \\phi)"
      ]
     },
     "execution_count": 88,
     "metadata": {},
     "output_type": "execute_result"
    }
   ],
   "source": [
    "conjugate(hyd.Ynm(2,1,theta,phi))"
   ]
  },
  {
   "cell_type": "code",
   "execution_count": 89,
   "metadata": {},
   "outputs": [
    {
     "data": {
      "image/png": "[encoded data removed]",
      "text/latex": [
       "$\\displaystyle e^{- 2 i \\phi} \\sin{\\left(\\theta \\right)} \\left(Y_{2}^{1}\\left(\\theta,\\phi\\right)\\right)^{2}$"
      ],
      "text/plain": [
       " -2⋅ⅈ⋅\\phi                2                    \n",
       "ℯ         ⋅sin(\\theta)⋅Ynm (2, 1, \\theta, \\phi)"
      ]
     },
     "execution_count": 89,
     "metadata": {},
     "output_type": "execute_result"
    }
   ],
   "source": [
    "hyd.Ynm(2,1,theta,phi) * conjugate(hyd.Ynm(2,1,theta,phi))*sin(theta)"
   ]
  },
  {
   "cell_type": "code",
   "execution_count": 90,
   "metadata": {},
   "outputs": [
    {
     "data": {
      "image/png": "[encoded data removed]",
      "text/latex": [
       "$\\displaystyle 0$"
      ],
      "text/plain": [
       "0"
      ]
     },
     "execution_count": 90,
     "metadata": {},
     "output_type": "execute_result"
    }
   ],
   "source": [
    "integrate(exp(-2*I*phi), (phi,0,2*pi))"
   ]
  },
  {
   "cell_type": "code",
   "execution_count": 91,
   "metadata": {},
   "outputs": [
    {
     "data": {
      "image/png": "[encoded data removed]",
      "text/latex": [
       "$\\displaystyle e^{- 2 i \\phi} \\int\\limits_{0}^{2 \\pi} \\sin{\\left(\\theta \\right)} \\left(Y_{1}^{1}\\left(\\theta,\\phi\\right)\\right)^{2}\\, d\\theta$"
      ],
      "text/plain": [
       "           2⋅π                                               \n",
       "            ⌠                                                \n",
       " -2⋅ⅈ⋅\\phi  ⎮                 2                              \n",
       "ℯ         ⋅ ⎮  sin(\\theta)⋅Ynm (1, 1, \\theta, \\phi) d(\\theta)\n",
       "            ⌡                                                \n",
       "            0                                                "
      ]
     },
     "execution_count": 91,
     "metadata": {},
     "output_type": "execute_result"
    }
   ],
   "source": [
    "integrate(hyd.Ynm(1,1,theta,phi) * conjugate(hyd.Ynm(1,1,theta,phi))*sin(theta), (theta, 0, 2*pi))"
   ]
  },
  {
   "cell_type": "code",
   "execution_count": 92,
   "metadata": {},
   "outputs": [
    {
     "data": {
      "image/png": "[encoded data removed]",
      "text/latex": [
       "$\\displaystyle \\frac{1}{2 \\pi}$"
      ],
      "text/plain": [
       " 1 \n",
       "───\n",
       "2⋅π"
      ]
     },
     "execution_count": 92,
     "metadata": {},
     "output_type": "execute_result"
    }
   ],
   "source": [
    "integrate(hyd.Ynm(1,1,theta,phi).expand(func=True) * conjugate(hyd.Ynm(1,1,theta,phi).expand(func=True))*sin(theta), (theta, 0, pi))"
   ]
  },
  {
   "cell_type": "code",
   "execution_count": 93,
   "metadata": {},
   "outputs": [
    {
     "data": {
      "image/png": "[encoded data removed]",
      "text/latex": [
       "$\\displaystyle Y_{1}^{1}\\left(\\theta,\\phi\\right)$"
      ],
      "text/plain": [
       "Ynm(1, 1, \\theta, \\phi)"
      ]
     },
     "execution_count": 93,
     "metadata": {},
     "output_type": "execute_result"
    }
   ],
   "source": [
    "hyd.Ynm(1,1,theta,phi)"
   ]
  },
  {
   "cell_type": "code",
   "execution_count": 94,
   "metadata": {},
   "outputs": [
    {
     "data": {
      "image/png": "[encoded data removed]",
      "text/latex": [
       "$\\displaystyle - \\frac{\\sqrt{6} e^{- i \\phi} \\sin{\\left(\\theta \\right)}}{4 \\sqrt{\\pi}}$"
      ],
      "text/plain": [
       "     -ⅈ⋅\\phi             \n",
       "-√6⋅ℯ       ⋅sin(\\theta) \n",
       "─────────────────────────\n",
       "           4⋅√π          "
      ]
     },
     "execution_count": 94,
     "metadata": {},
     "output_type": "execute_result"
    }
   ],
   "source": [
    "expand_func(conjugate(hyd.Ynm(1,1,theta,phi)))"
   ]
  },
  {
   "cell_type": "code",
   "execution_count": 111,
   "metadata": {},
   "outputs": [
    {
     "data": {
      "image/png": "[encoded data removed]",
      "text/latex": [
       "$\\displaystyle \\frac{3 \\sin^{3}{\\left(\\theta \\right)}}{8 \\pi}$"
      ],
      "text/plain": [
       "     3        \n",
       "3⋅sin (\\theta)\n",
       "──────────────\n",
       "     8⋅π      "
      ]
     },
     "execution_count": 111,
     "metadata": {},
     "output_type": "execute_result"
    }
   ],
   "source": [
    "expre = expand_func(hyd.Ynm(1,1,theta,phi) * conjugate(hyd.Ynm(1,1,theta,phi)) * sin(theta))\n",
    "expre"
   ]
  },
  {
   "cell_type": "code",
   "execution_count": 113,
   "metadata": {},
   "outputs": [
    {
     "data": {
      "image/png": "[encoded data removed]",
      "text/latex": [
       "$\\displaystyle 1$"
      ],
      "text/plain": [
       "1"
      ]
     },
     "execution_count": 113,
     "metadata": {},
     "output_type": "execute_result"
    }
   ],
   "source": [
    "integrate(expre,(theta, 0 , pi), (phi,0,2*pi))"
   ]
  },
  {
   "cell_type": "code",
   "execution_count": 116,
   "metadata": {},
   "outputs": [
    {
     "data": {
      "image/png": "[encoded data removed]",
      "text/latex": [
       "$\\displaystyle \\frac{3 \\sin{\\left(\\theta \\right)} \\cos^{2}{\\left(\\theta \\right)}}{8 \\pi^{\\frac{3}{2}}}$"
      ],
      "text/plain": [
       "                 2        \n",
       "3⋅sin(\\theta)⋅cos (\\theta)\n",
       "──────────────────────────\n",
       "             3/2          \n",
       "          8⋅π             "
      ]
     },
     "execution_count": 116,
     "metadata": {},
     "output_type": "execute_result"
    }
   ],
   "source": [
    "expre = expand_func(hyd.Ynm(1,0,theta,phi) * conjugate(hyd.Ynm(1,0,theta,phi)) * hyd.Ynm(0,0,theta,phi))*sin(theta)\n",
    "expre"
   ]
  },
  {
   "cell_type": "code",
   "execution_count": 119,
   "metadata": {},
   "outputs": [
    {
     "data": {
      "image/png": "[encoded data removed]",
      "text/latex": [
       "$\\displaystyle \\frac{\\sqrt{3}}{3}$"
      ],
      "text/plain": [
       "√3\n",
       "──\n",
       "3 "
      ]
     },
     "execution_count": 119,
     "metadata": {},
     "output_type": "execute_result"
    }
   ],
   "source": [
    "integrate(expre,(theta, 0 , pi), (phi,0,2*pi))*sqrt(4*pi/3)"
   ]
  },
  {
   "cell_type": "code",
   "execution_count": 135,
   "metadata": {},
   "outputs": [
    {
     "data": {
      "image/png": "[encoded data removed]",
      "text/latex": [
       "$\\displaystyle \\frac{\\sqrt{3} r^{4} \\left(2 - r\\right) e^{- r}}{24}$"
      ],
      "text/plain": [
       "    4          -r\n",
       "√3⋅r ⋅(2 - r)⋅ℯ  \n",
       "─────────────────\n",
       "        24       "
      ]
     },
     "execution_count": 135,
     "metadata": {},
     "output_type": "execute_result"
    }
   ],
   "source": [
    "expre = expand_func(hyd.R_nl(2,1,r,1)*hyd.R_nl(2,0,r,1)*r**3)\n",
    "expre"
   ]
  },
  {
   "cell_type": "code",
   "execution_count": 136,
   "metadata": {},
   "outputs": [
    {
     "data": {
      "image/png": "[encoded data removed]",
      "text/latex": [
       "$\\displaystyle - 3 \\sqrt{3}$"
      ],
      "text/plain": [
       "-3⋅√3"
      ]
     },
     "execution_count": 136,
     "metadata": {},
     "output_type": "execute_result"
    }
   ],
   "source": [
    "integrate(expre, (r,0,oo) )"
   ]
  },
  {
   "cell_type": "code",
   "execution_count": 157,
   "metadata": {},
   "outputs": [
    {
     "data": {
      "image/png": "[encoded data removed]",
      "text/latex": [
       "$\\displaystyle \\frac{r^{3} \\left(2 - r\\right) e^{- r} \\sin{\\left(\\theta \\right)} \\cos{\\left(\\theta \\right)}}{32 \\pi}$"
      ],
      "text/plain": [
       " 3          -r                        \n",
       "r ⋅(2 - r)⋅ℯ  ⋅sin(\\theta)⋅cos(\\theta)\n",
       "──────────────────────────────────────\n",
       "                 32⋅π                 "
      ]
     },
     "execution_count": 157,
     "metadata": {},
     "output_type": "execute_result"
    }
   ],
   "source": [
    "expre = expand_func(hyd.Psi_nlm(2,1,0,r,phi,theta)*conjugate(hyd.Psi_nlm(2,0,0,r,phi,theta))*sin(theta)*r*r)\n",
    "expre"
   ]
  },
  {
   "cell_type": "code",
   "execution_count": 160,
   "metadata": {},
   "outputs": [
    {
     "data": {
      "image/png": "[encoded data removed]",
      "text/latex": [
       "$\\displaystyle -3$"
      ],
      "text/plain": [
       "-3"
      ]
     },
     "execution_count": 160,
     "metadata": {},
     "output_type": "execute_result"
    }
   ],
   "source": [
    "integrate(expre*r*cos(theta), (r,0,oo), (phi,0,2 * pi), (theta,0,pi), )"
   ]
  },
  {
   "cell_type": "code",
   "execution_count": 162,
   "metadata": {},
   "outputs": [
    {
     "data": {
      "image/png": "[encoded data removed]",
      "text/latex": [
       "$\\displaystyle \\left[\\begin{matrix}0 & 0 & 0 & 0\\\\0 & 0 & 0 & \\alpha\\\\0 & 0 & 0 & 0\\\\0 & \\alpha & 0 & 0\\end{matrix}\\right]$"
      ],
      "text/plain": [
       "⎡0    0     0    0   ⎤\n",
       "⎢                    ⎥\n",
       "⎢0    0     0  \\alpha⎥\n",
       "⎢                    ⎥\n",
       "⎢0    0     0    0   ⎥\n",
       "⎢                    ⎥\n",
       "⎣0  \\alpha  0    0   ⎦"
      ]
     },
     "execution_count": 162,
     "metadata": {},
     "output_type": "execute_result"
    }
   ],
   "source": [
    "alpha = Symbol('\\\\alpha', real=True)\n",
    "alpha\n",
    "HE = Matrix([[0,0,0,0],[0,0,0,alpha],[0,0,0,0],[0,alpha,0,0]])\n",
    "HE"
   ]
  },
  {
   "cell_type": "code",
   "execution_count": 163,
   "metadata": {},
   "outputs": [
    {
     "data": {
      "image/png": "[encoded data removed]",
      "text/latex": [
       "$\\displaystyle \\operatorname{PurePoly}{\\left( \\lambda^{4} -  \\alpha^{2} \\lambda^{2}, \\lambda, domain=\\mathbb{Z}\\left[\\alpha\\right] \\right)}$"
      ],
      "text/plain": [
       "PurePoly(lambda**4 - \\alpha**2*lambda**2, lambda, domain='ZZ[\\alpha]')"
      ]
     },
     "execution_count": 163,
     "metadata": {},
     "output_type": "execute_result"
    }
   ],
   "source": [
    "HE.charpoly()"
   ]
  },
  {
   "cell_type": "code",
   "execution_count": 165,
   "metadata": {},
   "outputs": [
    {
     "data": {
      "image/png": "[encoded data removed]",
      "text/latex": [
       "$\\displaystyle \\left[ \\left( 0, \\  2, \\  \\left[ \\left[\\begin{matrix}1\\\\0\\\\0\\\\0\\end{matrix}\\right], \\  \\left[\\begin{matrix}0\\\\0\\\\1\\\\0\\end{matrix}\\right]\\right]\\right), \\  \\left( - \\alpha, \\  1, \\  \\left[ \\left[\\begin{matrix}0\\\\-1\\\\0\\\\1\\end{matrix}\\right]\\right]\\right), \\  \\left( \\alpha, \\  1, \\  \\left[ \\left[\\begin{matrix}0\\\\1\\\\0\\\\1\\end{matrix}\\right]\\right]\\right)\\right]$"
      ],
      "text/plain": [
       "⎡⎛      ⎡⎡1⎤  ⎡0⎤⎤⎞  ⎛            ⎡⎡0 ⎤⎤⎞  ⎛           ⎡⎡0⎤⎤⎞⎤\n",
       "⎢⎜      ⎢⎢ ⎥  ⎢ ⎥⎥⎟  ⎜            ⎢⎢  ⎥⎥⎟  ⎜           ⎢⎢ ⎥⎥⎟⎥\n",
       "⎢⎜      ⎢⎢0⎥  ⎢0⎥⎥⎟  ⎜            ⎢⎢-1⎥⎥⎟  ⎜           ⎢⎢1⎥⎥⎟⎥\n",
       "⎢⎜0, 2, ⎢⎢ ⎥, ⎢ ⎥⎥⎟, ⎜-\\alpha, 1, ⎢⎢  ⎥⎥⎟, ⎜\\alpha, 1, ⎢⎢ ⎥⎥⎟⎥\n",
       "⎢⎜      ⎢⎢0⎥  ⎢1⎥⎥⎟  ⎜            ⎢⎢0 ⎥⎥⎟  ⎜           ⎢⎢0⎥⎥⎟⎥\n",
       "⎢⎜      ⎢⎢ ⎥  ⎢ ⎥⎥⎟  ⎜            ⎢⎢  ⎥⎥⎟  ⎜           ⎢⎢ ⎥⎥⎟⎥\n",
       "⎣⎝      ⎣⎣0⎦  ⎣0⎦⎦⎠  ⎝            ⎣⎣1 ⎦⎦⎠  ⎝           ⎣⎣1⎦⎦⎠⎦"
      ]
     },
     "execution_count": 165,
     "metadata": {},
     "output_type": "execute_result"
    }
   ],
   "source": [
    "HE.eigenvects()"
   ]
  },
  {
   "cell_type": "code",
   "execution_count": null,
   "metadata": {},
   "outputs": [],
   "source": [
    "\n"
   ]
  },
  {
   "cell_type": "code",
   "execution_count": null,
   "metadata": {},
   "outputs": [],
   "source": [
    "#Punto 2"
   ]
  },
  {
   "cell_type": "code",
   "execution_count": 187,
   "metadata": {},
   "outputs": [],
   "source": [
    "a0, r1, r2 = symbols('a_0 r_1 r_2', real=True)\n",
    "Z = Symbol('Z', integer= True)"
   ]
  },
  {
   "cell_type": "code",
   "execution_count": 188,
   "metadata": {},
   "outputs": [
    {
     "data": {
      "image/png": "[encoded data removed]",
      "text/latex": [
       "$\\displaystyle \\begin{cases} 1 & \\text{for}\\: \\left|{\\arg{\\left(a_{0} \\right)}}\\right| < \\frac{\\pi}{2} \\\\\\frac{4 \\int\\limits_{0}^{\\infty} r^{2} e^{- \\frac{2 r}{a_{0}}}\\, dr}{a_{0}^{3}} & \\text{otherwise} \\end{cases}$"
      ],
      "text/plain": [
       "⎧                                  π\n",
       "⎪       1          for │arg(a₀)│ < ─\n",
       "⎪                                  2\n",
       "⎪                                   \n",
       "⎪  ∞                                \n",
       "⎪  ⌠                                \n",
       "⎪  ⎮     -2⋅r                       \n",
       "⎨  ⎮     ─────                      \n",
       "⎪  ⎮  2    a₀                       \n",
       "⎪4⋅⎮ r ⋅ℯ      dr                   \n",
       "⎪  ⌡                                \n",
       "⎪  0                                \n",
       "⎪────────────────      otherwise    \n",
       "⎪        3                          \n",
       "⎩      a₀                           "
      ]
     },
     "execution_count": 188,
     "metadata": {},
     "output_type": "execute_result"
    }
   ],
   "source": [
    "simplify(4*a0**-3*integrate(exp(-2*r/a0)*r**2, (r,0,oo)))"
   ]
  },
  {
   "cell_type": "code",
   "execution_count": 197,
   "metadata": {},
   "outputs": [],
   "source": [
    "func = 2*(Z/a0)**(3/2)*exp(-r)\n",
    "func = func.subs( r, -Z* r/a0)"
   ]
  },
  {
   "cell_type": "code",
   "execution_count": 200,
   "metadata": {},
   "outputs": [
    {
     "data": {
      "image/png": "[encoded data removed]",
      "text/latex": [
       "$\\displaystyle \\begin{cases} - \\frac{a_{0}^{3} \\left(\\frac{Z}{a_{0}}\\right)^{3.0}}{Z^{3}} & \\text{for}\\: \\left|{\\arg{\\left(Z \\right)} - \\arg{\\left(a_{0} \\right)} + \\pi}\\right| < \\frac{\\pi}{2} \\\\\\int\\limits_{0}^{\\infty} 4 r^{2} \\left(\\frac{Z}{a_{0}}\\right)^{3.0} e^{\\frac{2 Z r}{a_{0}}}\\, dr & \\text{otherwise} \\end{cases}$"
      ],
      "text/plain": [
       "⎧              3.0                                       \n",
       "⎪        3 ⎛Z ⎞                                          \n",
       "⎪     -a₀ ⋅⎜──⎟                                          \n",
       "⎪          ⎝a₀⎠                                         π\n",
       "⎪     ─────────────        for │arg(Z) - arg(a₀) + π│ < ─\n",
       "⎪            3                                          2\n",
       "⎪           Z                                            \n",
       "⎪                                                        \n",
       "⎨∞                                                       \n",
       "⎪⌠                                                       \n",
       "⎪⎮               2⋅Z⋅r                                   \n",
       "⎪⎮          3.0  ─────                                   \n",
       "⎪⎮    2 ⎛Z ⎞       a₀                                    \n",
       "⎪⎮ 4⋅r ⋅⎜──⎟   ⋅ℯ      dr            otherwise           \n",
       "⎪⎮      ⎝a₀⎠                                             \n",
       "⎪⌡                                                       \n",
       "⎩0                                                       "
      ]
     },
     "execution_count": 200,
     "metadata": {},
     "output_type": "execute_result"
    }
   ],
   "source": [
    "simplify(integrate(func**2*r**2,(r,0,oo)))"
   ]
  },
  {
   "cell_type": "code",
   "execution_count": 204,
   "metadata": {},
   "outputs": [
    {
     "data": {
      "image/png": "[encoded data removed]",
      "text/latex": [
       "$\\displaystyle \\frac{8.0 \\left(\\frac{1}{a_{0}}\\right)^{3.0} e^{\\frac{2 r_{1}}{a_{0}}} e^{\\frac{2 r_{2}}{a_{0}}}}{\\pi}$"
      ],
      "text/plain": [
       "             2⋅r₁  2⋅r₂\n",
       "        3.0  ────  ────\n",
       "    ⎛1 ⎞      a₀    a₀ \n",
       "8.0⋅⎜──⎟   ⋅ℯ    ⋅ℯ    \n",
       "    ⎝a₀⎠               \n",
       "───────────────────────\n",
       "           π           "
      ]
     },
     "execution_count": 204,
     "metadata": {},
     "output_type": "execute_result"
    }
   ],
   "source": [
    "psi0 = func.subs(r,r1)*func.subs(r,r2) / (4*pi)\n",
    "psi0 = psi0.subs(Z,2)\n",
    "\n",
    "psi0"
   ]
  },
  {
   "cell_type": "code",
   "execution_count": 207,
   "metadata": {},
   "outputs": [
    {
     "data": {
      "image/png": "[encoded data removed]",
      "text/latex": [
       "$\\displaystyle \\begin{cases} - \\frac{16.0 a_{0} \\left(\\frac{1}{a_{0}}\\right)^{6.0} e^{\\frac{4 r_{2}}{a_{0}}}}{\\pi^{2}} & \\text{for}\\: \\left|{\\arg{\\left(a_{0} \\right)} - \\pi}\\right| < \\frac{\\pi}{2} \\\\\\int\\limits_{0}^{\\infty} \\frac{64.0 \\left(\\frac{1}{a_{0}}\\right)^{6.0} e^{\\frac{4 r_{1}}{a_{0}}} e^{\\frac{4 r_{2}}{a_{0}}}}{\\pi^{2}}\\, dr_{1} & \\text{otherwise} \\end{cases}$"
      ],
      "text/plain": [
       "⎧                      4⋅r₂                             \n",
       "⎪                 6.0  ────                             \n",
       "⎪             ⎛1 ⎞      a₀                              \n",
       "⎪    -16.0⋅a₀⋅⎜──⎟   ⋅ℯ                                 \n",
       "⎪             ⎝a₀⎠                                     π\n",
       "⎪    ───────────────────────       for │arg(a₀) - π│ < ─\n",
       "⎪                2                                     2\n",
       "⎪               π                                       \n",
       "⎪                                                       \n",
       "⎪∞                                                      \n",
       "⎨⌠                                                      \n",
       "⎪⎮               4⋅r₁  4⋅r₂                             \n",
       "⎪⎮          6.0  ────  ────                             \n",
       "⎪⎮      ⎛1 ⎞      a₀    a₀                              \n",
       "⎪⎮ 64.0⋅⎜──⎟   ⋅ℯ    ⋅ℯ                                 \n",
       "⎪⎮      ⎝a₀⎠                                            \n",
       "⎪⎮ ──────────────────────── d(r₁)        otherwise      \n",
       "⎪⎮             2                                        \n",
       "⎪⎮            π                                         \n",
       "⎪⌡                                                      \n",
       "⎩0                                                      "
      ]
     },
     "execution_count": 207,
     "metadata": {},
     "output_type": "execute_result"
    }
   ],
   "source": [
    "integrate(psi0*psi0, (r1,0,oo) )"
   ]
  },
  {
   "cell_type": "code",
   "execution_count": 231,
   "metadata": {},
   "outputs": [
    {
     "data": {
      "image/png": "[encoded data removed]",
      "text/latex": [
       "$\\displaystyle \\frac{r_{2}^{2} e^{\\frac{- 4 r_{1} - 4 r_{2}}{a_{0}}}}{r_{1}}$"
      ],
      "text/plain": [
       "     -4⋅r₁ - 4⋅r₂\n",
       "     ────────────\n",
       "  2       a₀     \n",
       "r₂ ⋅ℯ            \n",
       "─────────────────\n",
       "        r₁       "
      ]
     },
     "execution_count": 231,
     "metadata": {},
     "output_type": "execute_result"
    }
   ],
   "source": [
    "expr = r2**2 * exp(-2**Z(r1+r2)/a0)  /r1\n",
    "expr"
   ]
  },
  {
   "cell_type": "code",
   "execution_count": 232,
   "metadata": {},
   "outputs": [
    {
     "data": {
      "image/png": "[encoded data removed]",
      "text/latex": [
       "$\\displaystyle \\begin{cases} \\frac{a_{0}^{3} e^{- \\frac{4 r_{1}}{a_{0}}}}{32 r_{1}} + \\frac{\\left(- a_{0}^{3} - 4 a_{0}^{2} r_{1} - 8 a_{0} r_{1}^{2}\\right) e^{- \\frac{8 r_{1}}{a_{0}}}}{32 r_{1}} & \\text{for}\\: r_{1} > -\\infty \\wedge r_{1} < \\infty \\wedge r_{1} \\neq 0 \\\\\\frac{r_{1}^{2}}{3} & \\text{otherwise} \\end{cases}$"
      ],
      "text/plain": [
       "⎧     -4⋅r₁                                   -8⋅r₁                           \n",
       "⎪     ──────                                  ──────                          \n",
       "⎪  3    a₀     ⎛    3       2             2⎞    a₀                            \n",
       "⎪a₀ ⋅ℯ         ⎝- a₀  - 4⋅a₀ ⋅r₁ - 8⋅a₀⋅r₁ ⎠⋅ℯ                                \n",
       "⎪─────────── + ─────────────────────────────────────  for r₁ > -∞ ∧ r₁ < ∞ ∧ r\n",
       "⎨   32⋅r₁                      32⋅r₁                                          \n",
       "⎪                                                                             \n",
       "⎪                          2                                                  \n",
       "⎪                        r₁                                                   \n",
       "⎪                        ───                                    otherwise     \n",
       "⎩                         3                                                   \n",
       "\n",
       "     \n",
       "     \n",
       "     \n",
       "     \n",
       "₁ ≠ 0\n",
       "     \n",
       "     \n",
       "     \n",
       "     \n",
       "     \n",
       "     "
      ]
     },
     "execution_count": 232,
     "metadata": {},
     "output_type": "execute_result"
    }
   ],
   "source": [
    "integrate(expr,(r2,0,r1))"
   ]
  },
  {
   "cell_type": "code",
   "execution_count": 228,
   "metadata": {},
   "outputs": [
    {
     "data": {
      "image/png": "[encoded data removed]",
      "text/latex": [
       "$\\displaystyle r_{2} e^{\\frac{- 4 r_{1} - 4 r_{2}}{a_{0}}}$"
      ],
      "text/plain": [
       "    -4⋅r₁ - 4⋅r₂\n",
       "    ────────────\n",
       "         a₀     \n",
       "r₂⋅ℯ            "
      ]
     },
     "execution_count": 228,
     "metadata": {},
     "output_type": "execute_result"
    }
   ],
   "source": [
    "expr = r2 * exp(-4*(r1+r2)/a0)\n",
    "expr"
   ]
  },
  {
   "cell_type": "code",
   "execution_count": 229,
   "metadata": {},
   "outputs": [
    {
     "data": {
      "image/png": "[encoded data removed]",
      "text/latex": [
       "$\\displaystyle e^{- \\frac{4 r_{1}}{a_{0}}} \\int\\limits_{r_{1}}^{\\infty} r_{2} e^{- \\frac{4 r_{2}}{a_{0}}}\\, dr_{2}$"
      ],
      "text/plain": [
       "        ∞                  \n",
       "        ⌠                  \n",
       " -4⋅r₁  ⎮      -4⋅r₂       \n",
       " ────── ⎮      ──────      \n",
       "   a₀   ⎮        a₀        \n",
       "ℯ      ⋅⎮  r₂⋅ℯ       d(r₂)\n",
       "        ⌡                  \n",
       "        r₁                 "
      ]
     },
     "execution_count": 229,
     "metadata": {},
     "output_type": "execute_result"
    }
   ],
   "source": [
    "expr = expand(integrate(expr,(r2,r1,oo)))\n",
    "expr"
   ]
  },
  {
   "cell_type": "code",
   "execution_count": 230,
   "metadata": {},
   "outputs": [
    {
     "data": {
      "image/png": "[encoded data removed]",
      "text/latex": [
       "$\\displaystyle \\int\\limits_{0}^{\\infty} e^{- \\frac{4 r_{1}}{a_{0}}} \\int\\limits_{r_{1}}^{\\infty} r_{2} e^{- \\frac{4 r_{2}}{a_{0}}}\\, dr_{2}\\, dr_{1}$"
      ],
      "text/plain": [
       "∞                                  \n",
       "⌠                                  \n",
       "⎮         ∞                        \n",
       "⎮         ⌠                        \n",
       "⎮  -4⋅r₁  ⎮      -4⋅r₂             \n",
       "⎮  ────── ⎮      ──────            \n",
       "⎮    a₀   ⎮        a₀              \n",
       "⎮ ℯ      ⋅⎮  r₂⋅ℯ       d(r₂) d(r₁)\n",
       "⎮         ⌡                        \n",
       "⎮         r₁                       \n",
       "⌡                                  \n",
       "0                                  "
      ]
     },
     "execution_count": 230,
     "metadata": {},
     "output_type": "execute_result"
    }
   ],
   "source": [
    "expand(integrate(expr, (r1,0,oo)))"
   ]
  },
  {
   "cell_type": "code",
   "execution_count": null,
   "metadata": {},
   "outputs": [],
   "source": []
  },
  {
   "cell_type": "code",
   "execution_count": null,
   "metadata": {},
   "outputs": [],
   "source": []
  },
  {
   "cell_type": "code",
   "execution_count": null,
   "metadata": {},
   "outputs": [],
   "source": []
  }
 ],
 "metadata": {
  "kernelspec": {
   "display_name": "Python 3",
   "language": "python",
   "name": "python3"
  },
  "language_info": {
   "codemirror_mode": {
    "name": "ipython",
    "version": 3
   },
   "file_extension": ".py",
   "mimetype": "text/x-python",
   "name": "python",
   "nbconvert_exporter": "python",
   "pygments_lexer": "ipython3",
   "version": "3.7.3"
  }
 },
 "nbformat": 4,
 "nbformat_minor": 2
}

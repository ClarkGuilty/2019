{
 "cells": [
  {
   "cell_type": "code",
   "execution_count": 2,
   "metadata": {},
   "outputs": [],
   "source": [
    "from sympy import *\n",
    "import numpy as np\n",
    "import matplotlib.pyplot as plt\n",
    "init_printing(use_latex=True)"
   ]
  },
  {
   "cell_type": "code",
   "execution_count": 258,
   "metadata": {},
   "outputs": [
    {
     "data": {
      "image/png": "[encoded data removed]",
      "text/latex": [
       "$\\displaystyle \\left[\\begin{matrix}1 & - 4 \\sqrt{2} i\\\\4 \\sqrt{2} i & 5\\end{matrix}\\right]$"
      ],
      "text/plain": [
       "⎡  1     -4⋅√2⋅ⅈ⎤\n",
       "⎢               ⎥\n",
       "⎣4⋅√2⋅ⅈ     5   ⎦"
      ]
     },
     "execution_count": 258,
     "metadata": {},
     "output_type": "execute_result"
    }
   ],
   "source": [
    "a, b, hbar, w0 = symbols('a b \\hbar w_0')\n",
    "A = Matrix([[2*sqrt(2), -I], [I, -2*sqrt(2)]])\n",
    "H = Matrix([[5, I*sqrt(2)],[-I*sqrt(2), 4]])\n",
    "B = Matrix([[1, -I*4*sqrt(2)],[I*4*sqrt(2), 5]])\n",
    "B"
   ]
  },
  {
   "cell_type": "code",
   "execution_count": 201,
   "metadata": {},
   "outputs": [
    {
     "data": {
      "image/png": "[encoded data removed]",
      "text/latex": [
       "$\\displaystyle \\left[ \\left( a, \\  1, \\  \\left[ \\left[\\begin{matrix}- \\frac{\\sqrt{2} i}{2}\\\\1\\end{matrix}\\right]\\right]\\right), \\  \\left( 2 a, \\  1, \\  \\left[ \\left[\\begin{matrix}\\sqrt{2} i\\\\1\\end{matrix}\\right]\\right]\\right)\\right]$"
      ],
      "text/plain": [
       "⎡⎛      ⎡⎡-√2⋅ⅈ ⎤⎤⎞                    ⎤\n",
       "⎢⎜      ⎢⎢──────⎥⎥⎟  ⎛        ⎡⎡√2⋅ⅈ⎤⎤⎞⎥\n",
       "⎢⎜a, 1, ⎢⎢  2   ⎥⎥⎟, ⎜2⋅a, 1, ⎢⎢    ⎥⎥⎟⎥\n",
       "⎢⎜      ⎢⎢      ⎥⎥⎟  ⎝        ⎣⎣ 1  ⎦⎦⎠⎥\n",
       "⎣⎝      ⎣⎣  1   ⎦⎦⎠                    ⎦"
      ]
     },
     "execution_count": 201,
     "metadata": {},
     "output_type": "execute_result"
    }
   ],
   "source": [
    "(a*H/3).eigenvects()"
   ]
  },
  {
   "cell_type": "code",
   "execution_count": 273,
   "metadata": {},
   "outputs": [
    {
     "data": {
      "image/png": "[encoded data removed]",
      "text/latex": [
       "$\\displaystyle \\left[ \\left( - b, \\  1, \\  \\left[ \\left[\\begin{matrix}\\sqrt{2} i\\\\1\\end{matrix}\\right]\\right]\\right), \\  \\left( 3 b, \\  1, \\  \\left[ \\left[\\begin{matrix}- \\frac{\\sqrt{2} i}{2}\\\\1\\end{matrix}\\right]\\right]\\right)\\right]$"
      ],
      "text/plain": [
       "⎡                   ⎛        ⎡⎡-√2⋅ⅈ ⎤⎤⎞⎤\n",
       "⎢⎛       ⎡⎡√2⋅ⅈ⎤⎤⎞  ⎜        ⎢⎢──────⎥⎥⎟⎥\n",
       "⎢⎜-b, 1, ⎢⎢    ⎥⎥⎟, ⎜3⋅b, 1, ⎢⎢  2   ⎥⎥⎟⎥\n",
       "⎢⎝       ⎣⎣ 1  ⎦⎦⎠  ⎜        ⎢⎢      ⎥⎥⎟⎥\n",
       "⎣                   ⎝        ⎣⎣  1   ⎦⎦⎠⎦"
      ]
     },
     "execution_count": 273,
     "metadata": {},
     "output_type": "execute_result"
    }
   ],
   "source": [
    "(b*B/3).eigenvects()"
   ]
  },
  {
   "cell_type": "code",
   "execution_count": 274,
   "metadata": {
    "scrolled": false
   },
   "outputs": [
    {
     "data": {
      "image/png": "[encoded data removed]",
      "text/latex": [
       "$\\displaystyle \\left[\\begin{matrix}- \\frac{\\sqrt{3} i}{3} & \\frac{\\sqrt{6}}{3}\\\\\\frac{\\sqrt{6} i}{3} & \\frac{\\sqrt{3}}{3}\\end{matrix}\\right]$"
      ],
      "text/plain": [
       "⎡-√3⋅ⅈ   √6⎤\n",
       "⎢──────  ──⎥\n",
       "⎢  3     3 ⎥\n",
       "⎢          ⎥\n",
       "⎢ √6⋅ⅈ   √3⎥\n",
       "⎢ ────   ──⎥\n",
       "⎣  3     3 ⎦"
      ]
     },
     "execution_count": 274,
     "metadata": {},
     "output_type": "execute_result"
    }
   ],
   "source": [
    "baseA = [list(simplify(tup[2][0])/simplify(tup[2][0].norm())) for tup in H.eigenvects()]\n",
    "g = Matrix(baseA[0])\n",
    "e = Matrix(baseA[1])\n",
    "baseA = Matrix(baseA)\n",
    "baseA"
   ]
  },
  {
   "cell_type": "code",
   "execution_count": 265,
   "metadata": {},
   "outputs": [
    {
     "data": {
      "image/png": "[encoded data removed]",
      "text/latex": [
       "$\\displaystyle \\left[ \\left( 3, \\  1, \\  \\left[ \\left[\\begin{matrix}- \\frac{\\sqrt{2} i}{2}\\\\1\\end{matrix}\\right]\\right]\\right), \\  \\left( 6, \\  1, \\  \\left[ \\left[\\begin{matrix}\\sqrt{2} i\\\\1\\end{matrix}\\right]\\right]\\right)\\right]$"
      ],
      "text/plain": [
       "⎡⎛      ⎡⎡-√2⋅ⅈ ⎤⎤⎞                  ⎤\n",
       "⎢⎜      ⎢⎢──────⎥⎥⎟  ⎛      ⎡⎡√2⋅ⅈ⎤⎤⎞⎥\n",
       "⎢⎜3, 1, ⎢⎢  2   ⎥⎥⎟, ⎜6, 1, ⎢⎢    ⎥⎥⎟⎥\n",
       "⎢⎜      ⎢⎢      ⎥⎥⎟  ⎝      ⎣⎣ 1  ⎦⎦⎠⎥\n",
       "⎣⎝      ⎣⎣  1   ⎦⎦⎠                  ⎦"
      ]
     },
     "execution_count": 265,
     "metadata": {},
     "output_type": "execute_result"
    }
   ],
   "source": [
    "simplify((H).eigenvects())"
   ]
  },
  {
   "cell_type": "code",
   "execution_count": 202,
   "metadata": {},
   "outputs": [
    {
     "data": {
      "image/png": "[encoded data removed]",
      "text/latex": [
       "$\\displaystyle \\left[\\begin{matrix}\\frac{\\sqrt{10}}{5}\\\\\\frac{\\sqrt{15}}{5}\\end{matrix}\\right]$"
      ],
      "text/plain": [
       "⎡√10⎤\n",
       "⎢───⎥\n",
       "⎢ 5 ⎥\n",
       "⎢   ⎥\n",
       "⎢√15⎥\n",
       "⎢───⎥\n",
       "⎣ 5 ⎦"
      ]
     },
     "execution_count": 202,
     "metadata": {},
     "output_type": "execute_result"
    }
   ],
   "source": [
    "vector = Matrix([[sqrt(2)],[sqrt(3)]])/sqrt(5)\n",
    "vector"
   ]
  },
  {
   "cell_type": "code",
   "execution_count": 225,
   "metadata": {
    "scrolled": true
   },
   "outputs": [
    {
     "data": {
      "image/png": "[encoded data removed]",
      "text/latex": [
       "$\\displaystyle \\left[\\begin{matrix}\\frac{\\sqrt{10}}{5} + \\frac{\\sqrt{30} i}{15}\\\\\\frac{\\sqrt{5}}{5} - \\frac{2 \\sqrt{15} i}{15}\\end{matrix}\\right]$"
      ],
      "text/plain": [
       "⎡√10   √30⋅ⅈ ⎤\n",
       "⎢─── + ───── ⎥\n",
       "⎢ 5      15  ⎥\n",
       "⎢            ⎥\n",
       "⎢√5   2⋅√15⋅ⅈ⎥\n",
       "⎢── - ───────⎥\n",
       "⎣5       15  ⎦"
      ]
     },
     "execution_count": 225,
     "metadata": {},
     "output_type": "execute_result"
    }
   ],
   "source": [
    "gamma = simplify(baseA.T.inv()*vector)\n",
    "gamma"
   ]
  },
  {
   "cell_type": "code",
   "execution_count": 213,
   "metadata": {},
   "outputs": [
    {
     "data": {
      "image/png": "[encoded data removed]",
      "text/latex": [
       "$\\displaystyle \\left[\\begin{matrix}\\sqrt{2}\\\\\\sqrt{3}\\end{matrix}\\right]$"
      ],
      "text/plain": [
       "⎡√2⎤\n",
       "⎢  ⎥\n",
       "⎣√3⎦"
      ]
     },
     "execution_count": 213,
     "metadata": {},
     "output_type": "execute_result"
    }
   ],
   "source": [
    "simplify(changeOfBasis.inv()*gamma)*sqrt(5) #Verificar la inversa"
   ]
  },
  {
   "cell_type": "code",
   "execution_count": 282,
   "metadata": {},
   "outputs": [
    {
     "data": {
      "image/png": "[encoded data removed]",
      "text/latex": [
       "$\\displaystyle \\left[ \\left( - b, \\  1, \\  \\left[ \\left[\\begin{matrix}\\sqrt{2} i\\\\1\\end{matrix}\\right]\\right]\\right), \\  \\left( 3 b, \\  1, \\  \\left[ \\left[\\begin{matrix}- \\frac{\\sqrt{2} i}{2}\\\\1\\end{matrix}\\right]\\right]\\right)\\right]$"
      ],
      "text/plain": [
       "⎡                   ⎛        ⎡⎡-√2⋅ⅈ ⎤⎤⎞⎤\n",
       "⎢⎛       ⎡⎡√2⋅ⅈ⎤⎤⎞  ⎜        ⎢⎢──────⎥⎥⎟⎥\n",
       "⎢⎜-b, 1, ⎢⎢    ⎥⎥⎟, ⎜3⋅b, 1, ⎢⎢  2   ⎥⎥⎟⎥\n",
       "⎢⎝       ⎣⎣ 1  ⎦⎦⎠  ⎜        ⎢⎢      ⎥⎥⎟⎥\n",
       "⎣                   ⎝        ⎣⎣  1   ⎦⎦⎠⎦"
      ]
     },
     "execution_count": 282,
     "metadata": {},
     "output_type": "execute_result"
    }
   ],
   "source": [
    "(b*B/3).eigenvects()"
   ]
  },
  {
   "cell_type": "code",
   "execution_count": 276,
   "metadata": {},
   "outputs": [
    {
     "data": {
      "image/png": "[encoded data removed]",
      "text/latex": [
       "$\\displaystyle \\left[\\begin{matrix}- \\frac{\\sqrt{6} i}{3} & \\frac{\\sqrt{3}}{3}\\\\\\frac{\\sqrt{3} i}{3} & \\frac{\\sqrt{6}}{3}\\end{matrix}\\right]$"
      ],
      "text/plain": [
       "⎡-√6⋅ⅈ   √3⎤\n",
       "⎢──────  ──⎥\n",
       "⎢  3     3 ⎥\n",
       "⎢          ⎥\n",
       "⎢ √3⋅ⅈ   √6⎥\n",
       "⎢ ────   ──⎥\n",
       "⎣  3     3 ⎦"
      ]
     },
     "execution_count": 276,
     "metadata": {},
     "output_type": "execute_result"
    }
   ],
   "source": [
    "baseB = Matrix([list(simplify(tup[2][0])/simplify(tup[2][0].norm())) for tup in B.eigenvects()])\n",
    "changeOfBasis = baseB.T.inv()\n",
    "changeOfBasis"
   ]
  },
  {
   "cell_type": "code",
   "execution_count": 277,
   "metadata": {},
   "outputs": [
    {
     "data": {
      "image/png": "[encoded data removed]",
      "text/latex": [
       "$\\displaystyle \\left[\\begin{matrix}\\frac{\\sqrt{5}}{5} - \\frac{2 \\sqrt{15} i}{15}\\\\\\frac{\\sqrt{10}}{5} + \\frac{\\sqrt{30} i}{15}\\end{matrix}\\right]$"
      ],
      "text/plain": [
       "⎡√5   2⋅√15⋅ⅈ⎤\n",
       "⎢── - ───────⎥\n",
       "⎢5       15  ⎥\n",
       "⎢            ⎥\n",
       "⎢√10   √30⋅ⅈ ⎥\n",
       "⎢─── + ───── ⎥\n",
       "⎣ 5      15  ⎦"
      ]
     },
     "execution_count": 277,
     "metadata": {},
     "output_type": "execute_result"
    }
   ],
   "source": [
    "gamma = changeOfBasis*vector\n",
    "gamma"
   ]
  },
  {
   "cell_type": "code",
   "execution_count": 271,
   "metadata": {},
   "outputs": [
    {
     "data": {
      "image/png": "[encoded data removed]",
      "text/latex": [
       "$\\displaystyle \\left[\\begin{matrix}- \\frac{\\sqrt{3} i}{3} & \\frac{\\sqrt{6}}{3}\\\\\\frac{\\sqrt{6} i}{3} & \\frac{\\sqrt{3}}{3}\\end{matrix}\\right]$"
      ],
      "text/plain": [
       "⎡-√3⋅ⅈ   √6⎤\n",
       "⎢──────  ──⎥\n",
       "⎢  3     3 ⎥\n",
       "⎢          ⎥\n",
       "⎢ √6⋅ⅈ   √3⎥\n",
       "⎢ ────   ──⎥\n",
       "⎣  3     3 ⎦"
      ]
     },
     "execution_count": 271,
     "metadata": {},
     "output_type": "execute_result"
    }
   ],
   "source": [
    "baseB"
   ]
  },
  {
   "cell_type": "code",
   "execution_count": 272,
   "metadata": {},
   "outputs": [
    {
     "data": {
      "image/png": "[encoded data removed]",
      "text/latex": [
       "$\\displaystyle \\left[\\begin{matrix}- \\frac{\\sqrt{3} i}{3} & \\frac{\\sqrt{6}}{3}\\\\\\frac{\\sqrt{6} i}{3} & \\frac{\\sqrt{3}}{3}\\end{matrix}\\right]$"
      ],
      "text/plain": [
       "⎡-√3⋅ⅈ   √6⎤\n",
       "⎢──────  ──⎥\n",
       "⎢  3     3 ⎥\n",
       "⎢          ⎥\n",
       "⎢ √6⋅ⅈ   √3⎥\n",
       "⎢ ────   ──⎥\n",
       "⎣  3     3 ⎦"
      ]
     },
     "execution_count": 272,
     "metadata": {},
     "output_type": "execute_result"
    }
   ],
   "source": [
    "baseA"
   ]
  },
  {
   "cell_type": "code",
   "execution_count": 308,
   "metadata": {},
   "outputs": [
    {
     "ename": "SyntaxError",
     "evalue": "invalid syntax (<ipython-input-308-e55d00774072>, line 8)",
     "output_type": "error",
     "traceback": [
      "\u001b[0;36m  File \u001b[0;32m\"<ipython-input-308-e55d00774072>\"\u001b[0;36m, line \u001b[0;32m8\u001b[0m\n\u001b[0;31m    H =\u001b[0m\n\u001b[0m        ^\u001b[0m\n\u001b[0;31mSyntaxError\u001b[0m\u001b[0;31m:\u001b[0m invalid syntax\n"
     ]
    }
   ],
   "source": [
    "#Punto 2\n",
    "Ix, Iy, Iz = symbols('I_x I_y I_z')\n",
    "Ax, Ay, Az = symbols('A_x A_y A_z')\n",
    "Jma = Matrix([[0,1,0],[0,0,1],[0,0,0]])*hbar*sqrt(2)\n",
    "Jme = Matrix([[0,0,0],[1,0,0],[0,1,0]])*hbar*sqrt(2)\n",
    "Jz = Matrix([[1,0,0],[0,0,0],[0,0,-1]])*hbar\n",
    "Jx = (Jma+Jme)/2\n",
    "Jy = -I*(Jma-Jme)/2\n",
    "H = Ax*Jx**2"
   ]
  },
  {
   "cell_type": "code",
   "execution_count": 307,
   "metadata": {},
   "outputs": [
    {
     "data": {
      "image/png": "[encoded data removed]",
      "text/latex": [
       "$\\displaystyle \\left[\\begin{matrix}\\frac{\\hbar^{2}}{2} & 0 & \\frac{\\hbar^{2}}{2}\\\\0 & \\hbar^{2} & 0\\\\\\frac{\\hbar^{2}}{2} & 0 & \\frac{\\hbar^{2}}{2}\\end{matrix}\\right]$"
      ],
      "text/plain": [
       "⎡   2           2⎤\n",
       "⎢\\h̅         \\h̅ ⎥\n",
       "⎢────   0    ────⎥\n",
       "⎢ 2           2  ⎥\n",
       "⎢                ⎥\n",
       "⎢         2      ⎥\n",
       "⎢ 0    \\h̅    0  ⎥\n",
       "⎢                ⎥\n",
       "⎢   2           2⎥\n",
       "⎢\\h̅         \\h̅ ⎥\n",
       "⎢────   0    ────⎥\n",
       "⎣ 2           2  ⎦"
      ]
     },
     "execution_count": 307,
     "metadata": {},
     "output_type": "execute_result"
    }
   ],
   "source": [
    "Jx**2"
   ]
  },
  {
   "cell_type": "code",
   "execution_count": 304,
   "metadata": {},
   "outputs": [
    {
     "data": {
      "image/png": "[encoded data removed]",
      "text/latex": [
       "$\\displaystyle \\left[\\begin{matrix}\\frac{\\hbar^{2}}{2} & 0 & - \\frac{\\hbar^{2}}{2}\\\\0 & \\hbar^{2} & 0\\\\- \\frac{\\hbar^{2}}{2} & 0 & \\frac{\\hbar^{2}}{2}\\end{matrix}\\right]$"
      ],
      "text/plain": [
       "⎡    2             2 ⎤\n",
       "⎢ \\h̅          -\\h̅  ⎥\n",
       "⎢ ────    0    ──────⎥\n",
       "⎢  2             2   ⎥\n",
       "⎢                    ⎥\n",
       "⎢           2        ⎥\n",
       "⎢  0     \\h̅     0   ⎥\n",
       "⎢                    ⎥\n",
       "⎢    2             2 ⎥\n",
       "⎢-\\h̅           \\h̅  ⎥\n",
       "⎢──────   0     ──── ⎥\n",
       "⎣  2             2   ⎦"
      ]
     },
     "execution_count": 304,
     "metadata": {},
     "output_type": "execute_result"
    }
   ],
   "source": [
    "Jy**2"
   ]
  },
  {
   "cell_type": "code",
   "execution_count": 306,
   "metadata": {},
   "outputs": [
    {
     "data": {
      "image/png": "[encoded data removed]",
      "text/latex": [
       "$\\displaystyle \\left[\\begin{matrix}\\hbar^{2} & 0 & 0\\\\0 & 0 & 0\\\\0 & 0 & \\hbar^{2}\\end{matrix}\\right]$"
      ],
      "text/plain": [
       "⎡   2         ⎤\n",
       "⎢\\h̅   0   0  ⎥\n",
       "⎢             ⎥\n",
       "⎢ 0    0   0  ⎥\n",
       "⎢             ⎥\n",
       "⎢            2⎥\n",
       "⎣ 0    0  \\h̅ ⎦"
      ]
     },
     "execution_count": 306,
     "metadata": {},
     "output_type": "execute_result"
    }
   ],
   "source": [
    "Jz**2"
   ]
  },
  {
   "cell_type": "code",
   "execution_count": null,
   "metadata": {},
   "outputs": [],
   "source": []
  },
  {
   "cell_type": "code",
   "execution_count": null,
   "metadata": {},
   "outputs": [],
   "source": []
  },
  {
   "cell_type": "code",
   "execution_count": null,
   "metadata": {},
   "outputs": [],
   "source": []
  }
 ],
 "metadata": {
  "kernelspec": {
   "display_name": "Python 3",
   "language": "python",
   "name": "python3"
  },
  "language_info": {
   "codemirror_mode": {
    "name": "ipython",
    "version": 3
   },
   "file_extension": ".py",
   "mimetype": "text/x-python",
   "name": "python",
   "nbconvert_exporter": "python",
   "pygments_lexer": "ipython3",
   "version": "3.7.3"
  }
 },
 "nbformat": 4,
 "nbformat_minor": 2
}

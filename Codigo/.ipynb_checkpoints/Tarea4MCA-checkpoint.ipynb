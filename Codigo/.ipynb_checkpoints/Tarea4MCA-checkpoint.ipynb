{
 "cells": [
  {
   "cell_type": "code",
   "execution_count": 3,
   "metadata": {},
   "outputs": [],
   "source": [
    "from sympy import *\n",
    "import numpy as np\n",
    "import matplotlib.pyplot as plt\n",
    "init_printing(use_latex=True)"
   ]
  },
  {
   "cell_type": "code",
   "execution_count": 2,
   "metadata": {},
   "outputs": [
    {
     "data": {
      "image/png": "[encoded data removed]",
      "text/latex": [
       "$$\\left[\\begin{matrix}W & V\\\\V & - W\\end{matrix}\\right]$$"
      ],
      "text/plain": [
       "⎡W  V ⎤\n",
       "⎢     ⎥\n",
       "⎣V  -W⎦"
      ]
     },
     "execution_count": 2,
     "metadata": {},
     "output_type": "execute_result"
    }
   ],
   "source": [
    "#Punto 3\n",
    "v, w = symbols('V W')\n",
    "H = Matrix([[w,v],[v,-w]])\n",
    "H"
   ]
  },
  {
   "cell_type": "code",
   "execution_count": 3,
   "metadata": {},
   "outputs": [
    {
     "data": {
      "image/png": "[encoded data removed]",
      "text/latex": [
       "$$\\left [ \\left ( - \\sqrt{V^{2} + W^{2}}, \\quad 1, \\quad \\left [ \\left[\\begin{matrix}- \\frac{V}{W + \\sqrt{V^{2} + W^{2}}}\\\\1\\end{matrix}\\right]\\right ]\\right ), \\quad \\left ( \\sqrt{V^{2} + W^{2}}, \\quad 1, \\quad \\left [ \\left[\\begin{matrix}- \\frac{V}{W - \\sqrt{V^{2} + W^{2}}}\\\\1\\end{matrix}\\right]\\right ]\\right )\\right ]$$"
      ],
      "text/plain": [
       "⎡⎛                  ⎡⎡      -V        ⎤⎤⎞  ⎛                 ⎡⎡      -V       \n",
       "⎢⎜    _________     ⎢⎢────────────────⎥⎥⎟  ⎜   _________     ⎢⎢───────────────\n",
       "⎢⎜   ╱  2    2      ⎢⎢       _________⎥⎥⎟  ⎜  ╱  2    2      ⎢⎢       ________\n",
       "⎢⎜-╲╱  V  + W  , 1, ⎢⎢      ╱  2    2 ⎥⎥⎟, ⎜╲╱  V  + W  , 1, ⎢⎢      ╱  2    2\n",
       "⎢⎜                  ⎢⎢W + ╲╱  V  + W  ⎥⎥⎟  ⎜                 ⎢⎢W - ╲╱  V  + W \n",
       "⎢⎜                  ⎢⎢                ⎥⎥⎟  ⎜                 ⎢⎢               \n",
       "⎣⎝                  ⎣⎣       1        ⎦⎦⎠  ⎝                 ⎣⎣       1       \n",
       "\n",
       " ⎤⎤⎞⎤\n",
       "─⎥⎥⎟⎥\n",
       "_⎥⎥⎟⎥\n",
       " ⎥⎥⎟⎥\n",
       " ⎥⎥⎟⎥\n",
       " ⎥⎥⎟⎥\n",
       " ⎦⎦⎠⎦"
      ]
     },
     "execution_count": 3,
     "metadata": {},
     "output_type": "execute_result"
    }
   ],
   "source": [
    "H.eigenvects()"
   ]
  },
  {
   "cell_type": "code",
   "execution_count": 4,
   "metadata": {},
   "outputs": [
    {
     "data": {
      "image/png": "[encoded data removed]",
      "text/latex": [
       "$$\\left ( \\frac{- W + \\sqrt{V^{2} + W^{2}}}{V}, \\quad \\frac{- W - \\sqrt{V^{2} + W^{2}}}{V}\\right )$$"
      ],
      "text/plain": [
       "⎛        _________          _________⎞\n",
       "⎜       ╱  2    2          ╱  2    2 ⎟\n",
       "⎜-W + ╲╱  V  + W    -W - ╲╱  V  + W  ⎟\n",
       "⎜─────────────────, ─────────────────⎟\n",
       "⎝        V                  V        ⎠"
      ]
     },
     "execution_count": 4,
     "metadata": {},
     "output_type": "execute_result"
    }
   ],
   "source": [
    "alpha = (sqrt(v**2 + w**2) -w)/v\n",
    "alpha\n",
    "beta = -(sqrt(v**2 + w**2) +w)/v\n",
    "alpha, beta"
   ]
  },
  {
   "cell_type": "code",
   "execution_count": 5,
   "metadata": {},
   "outputs": [
    {
     "data": {
      "image/png": "[encoded data removed]",
      "text/latex": [
       "$$\\left ( \\left[\\begin{matrix}\\frac{V^{2}}{V^{2} + \\left(W - \\sqrt{V^{2} + W^{2}}\\right)^{2}}\\\\- \\frac{V \\left(W - \\sqrt{V^{2} + W^{2}}\\right)}{V^{2} + \\left(W - \\sqrt{V^{2} + W^{2}}\\right)^{2}}\\end{matrix}\\right], \\quad \\left[\\begin{matrix}\\frac{V^{2}}{V^{2} + \\left(W + \\sqrt{V^{2} + W^{2}}\\right)^{2}}\\\\- \\frac{V \\left(W + \\sqrt{V^{2} + W^{2}}\\right)}{V^{2} + \\left(W + \\sqrt{V^{2} + W^{2}}\\right)^{2}}\\end{matrix}\\right]\\right )$$"
      ],
      "text/plain": [
       "⎛⎡            2           ⎤  ⎡            2           ⎤⎞\n",
       "⎜⎢           V            ⎥  ⎢           V            ⎥⎟\n",
       "⎜⎢────────────────────────⎥  ⎢────────────────────────⎥⎟\n",
       "⎜⎢                       2⎥  ⎢                       2⎥⎟\n",
       "⎜⎢     ⎛       _________⎞ ⎥  ⎢     ⎛       _________⎞ ⎥⎟\n",
       "⎜⎢ 2   ⎜      ╱  2    2 ⎟ ⎥  ⎢ 2   ⎜      ╱  2    2 ⎟ ⎥⎟\n",
       "⎜⎢V  + ⎝W - ╲╱  V  + W  ⎠ ⎥  ⎢V  + ⎝W + ╲╱  V  + W  ⎠ ⎥⎟\n",
       "⎜⎢                        ⎥  ⎢                        ⎥⎟\n",
       "⎜⎢    ⎛       _________⎞  ⎥, ⎢    ⎛       _________⎞  ⎥⎟\n",
       "⎜⎢    ⎜      ╱  2    2 ⎟  ⎥  ⎢    ⎜      ╱  2    2 ⎟  ⎥⎟\n",
       "⎜⎢ -V⋅⎝W - ╲╱  V  + W  ⎠  ⎥  ⎢ -V⋅⎝W + ╲╱  V  + W  ⎠  ⎥⎟\n",
       "⎜⎢────────────────────────⎥  ⎢────────────────────────⎥⎟\n",
       "⎜⎢                       2⎥  ⎢                       2⎥⎟\n",
       "⎜⎢     ⎛       _________⎞ ⎥  ⎢     ⎛       _________⎞ ⎥⎟\n",
       "⎜⎢ 2   ⎜      ╱  2    2 ⎟ ⎥  ⎢ 2   ⎜      ╱  2    2 ⎟ ⎥⎟\n",
       "⎝⎣V  + ⎝W - ╲╱  V  + W  ⎠ ⎦  ⎣V  + ⎝W + ╲╱  V  + W  ⎠ ⎦⎠"
      ]
     },
     "execution_count": 5,
     "metadata": {},
     "output_type": "execute_result"
    }
   ],
   "source": [
    "lambda1 = Matrix([[1], [alpha]])/(1+alpha**2)\n",
    "lambda2 = Matrix([[1], [beta]])/(1+beta**2)\n",
    "simplify(lambda1), simplify(lambda2) "
   ]
  },
  {
   "cell_type": "code",
   "execution_count": 6,
   "metadata": {},
   "outputs": [
    {
     "data": {
      "image/png": "[encoded data removed]",
      "text/latex": [
       "$$\\left[\\begin{matrix}\\frac{V^{2} \\sqrt{V^{2} + W^{2}}}{V^{2} + \\left(W - \\sqrt{V^{2} + W^{2}}\\right)^{2}}\\\\\\frac{V}{2}\\end{matrix}\\right]$$"
      ],
      "text/plain": [
       "⎡          _________     ⎤\n",
       "⎢     2   ╱  2    2      ⎥\n",
       "⎢    V ⋅╲╱  V  + W       ⎥\n",
       "⎢────────────────────────⎥\n",
       "⎢                       2⎥\n",
       "⎢     ⎛       _________⎞ ⎥\n",
       "⎢ 2   ⎜      ╱  2    2 ⎟ ⎥\n",
       "⎢V  + ⎝W - ╲╱  V  + W  ⎠ ⎥\n",
       "⎢                        ⎥\n",
       "⎢           V            ⎥\n",
       "⎢           ─            ⎥\n",
       "⎣           2            ⎦"
      ]
     },
     "execution_count": 6,
     "metadata": {},
     "output_type": "execute_result"
    }
   ],
   "source": [
    "simplify(H*lambda1)"
   ]
  },
  {
   "cell_type": "code",
   "execution_count": 7,
   "metadata": {},
   "outputs": [
    {
     "data": {
      "image/png": "[encoded data removed]",
      "text/latex": [
       "$$\\left ( - \\frac{V}{W - \\sqrt{V^{2} + W^{2}}}, \\quad - \\frac{V}{W + \\sqrt{V^{2} + W^{2}}}\\right )$$"
      ],
      "text/plain": [
       "⎛      -V                -V        ⎞\n",
       "⎜────────────────, ────────────────⎟\n",
       "⎜       _________         _________⎟\n",
       "⎜      ╱  2    2         ╱  2    2 ⎟\n",
       "⎝W - ╲╱  V  + W    W + ╲╱  V  + W  ⎠"
      ]
     },
     "execution_count": 7,
     "metadata": {},
     "output_type": "execute_result"
    }
   ],
   "source": [
    "a = -v/(w - sqrt(v**2 + w**2))\n",
    "b = -v/(w + sqrt(v**2 + w**2))\n",
    "a,b"
   ]
  },
  {
   "cell_type": "code",
   "execution_count": 8,
   "metadata": {},
   "outputs": [
    {
     "data": {
      "image/png": "[encoded data removed]",
      "text/latex": [
       "$$\\left ( \\left[\\begin{matrix}\\frac{V}{2}\\\\- \\frac{\\left(V^{2} + W \\left(W + \\sqrt{V^{2} + W^{2}}\\right)\\right) \\left(W + \\sqrt{V^{2} + W^{2}}\\right)}{V^{2} + \\left(W + \\sqrt{V^{2} + W^{2}}\\right)^{2}}\\end{matrix}\\right], \\quad \\left[\\begin{matrix}- \\frac{V}{\\left(W - \\sqrt{V^{2} + W^{2}}\\right) \\left(\\frac{V^{2}}{\\left(W - \\sqrt{V^{2} + W^{2}}\\right)^{2}} + 1\\right)}\\\\\\frac{1}{\\frac{V^{2}}{\\left(W - \\sqrt{V^{2} + W^{2}}\\right)^{2}} + 1}\\end{matrix}\\right]\\right )$$"
      ],
      "text/plain": [
       "⎛                                                    ⎡                    -V  \n",
       "⎜                                                    ⎢────────────────────────\n",
       "⎜                                                    ⎢⎛       _________⎞ ⎛    \n",
       "⎜⎡                       V                        ⎤  ⎢⎜      ╱  2    2 ⎟ ⎜    \n",
       "⎜⎢                       ─                        ⎥  ⎢⎝W - ╲╱  V  + W  ⎠⋅⎜────\n",
       "⎜⎢                       2                        ⎥  ⎢                   ⎜    \n",
       "⎜⎢                                                ⎥  ⎢                   ⎜⎛   \n",
       "⎜⎢ ⎛       ⎛       _________⎞⎞ ⎛       _________⎞ ⎥  ⎢                   ⎜⎜   \n",
       "⎜⎢ ⎜ 2     ⎜      ╱  2    2 ⎟⎟ ⎜      ╱  2    2 ⎟ ⎥  ⎢                   ⎝⎝W -\n",
       "⎜⎢-⎝V  + W⋅⎝W + ╲╱  V  + W  ⎠⎠⋅⎝W + ╲╱  V  + W  ⎠ ⎥, ⎢                        \n",
       "⎜⎢────────────────────────────────────────────────⎥  ⎢                     1  \n",
       "⎜⎢                                   2            ⎥  ⎢          ──────────────\n",
       "⎜⎢                 ⎛       _________⎞             ⎥  ⎢                    2   \n",
       "⎜⎢             2   ⎜      ╱  2    2 ⎟             ⎥  ⎢                   V    \n",
       "⎜⎣            V  + ⎝W + ╲╱  V  + W  ⎠             ⎦  ⎢          ──────────────\n",
       "⎜                                                    ⎢                        \n",
       "⎜                                                    ⎢          ⎛       ______\n",
       "⎜                                                    ⎢          ⎜      ╱  2   \n",
       "⎝                                                    ⎣          ⎝W - ╲╱  V  + \n",
       "\n",
       "                    ⎤⎞\n",
       "────────────────────⎥⎟\n",
       "      2            ⎞⎥⎟\n",
       "     V             ⎟⎥⎟\n",
       "─────────────── + 1⎟⎥⎟\n",
       "              2    ⎟⎥⎟\n",
       "    _________⎞     ⎟⎥⎟\n",
       "   ╱  2    2 ⎟     ⎟⎥⎟\n",
       " ╲╱  V  + W  ⎠     ⎠⎥⎟\n",
       "                    ⎥⎟\n",
       "                    ⎥⎟\n",
       "─────────           ⎥⎟\n",
       "                    ⎥⎟\n",
       "                    ⎥⎟\n",
       "───── + 1           ⎥⎟\n",
       "    2               ⎥⎟\n",
       "___⎞                ⎥⎟\n",
       " 2 ⎟                ⎥⎟\n",
       "W  ⎠                ⎦⎠"
      ]
     },
     "execution_count": 8,
     "metadata": {},
     "output_type": "execute_result"
    }
   ],
   "source": [
    "la1 = Matrix([[b], [1]])/(1+b**2)\n",
    "la2 = Matrix([[a], [1]])/(1+a**2)\n",
    "simplify(H*la1), la2"
   ]
  },
  {
   "cell_type": "code",
   "execution_count": 9,
   "metadata": {},
   "outputs": [
    {
     "data": {
      "image/png": "[encoded data removed]",
      "text/latex": [
       "$$0$$"
      ],
      "text/plain": [
       "0"
      ]
     },
     "execution_count": 9,
     "metadata": {},
     "output_type": "execute_result"
    }
   ],
   "source": [
    "simplify(lambda1.dot(lambda2))"
   ]
  },
  {
   "cell_type": "code",
   "execution_count": 10,
   "metadata": {},
   "outputs": [],
   "source": [
    "#Punto 2\n",
    "r, theta, phi = symbols('r \\theta \\phi')"
   ]
  },
  {
   "cell_type": "code",
   "execution_count": 11,
   "metadata": {},
   "outputs": [
    {
     "data": {
      "image/png": "[encoded data removed]",
      "text/latex": [
       "$$\\frac{4}{3}$$"
      ],
      "text/plain": [
       "4/3"
      ]
     },
     "execution_count": 11,
     "metadata": {},
     "output_type": "execute_result"
    }
   ],
   "source": [
    "integrate(sin(theta)**3,(theta, 0,pi))"
   ]
  },
  {
   "cell_type": "code",
   "execution_count": 12,
   "metadata": {},
   "outputs": [
    {
     "data": {
      "image/png": "[encoded data removed]",
      "text/latex": [
       "$$\\pi$$"
      ],
      "text/plain": [
       "π"
      ]
     },
     "execution_count": 12,
     "metadata": {},
     "output_type": "execute_result"
    }
   ],
   "source": [
    "integrate(cos(phi)**2, (phi,0,2*pi))"
   ]
  },
  {
   "cell_type": "code",
   "execution_count": 13,
   "metadata": {},
   "outputs": [
    {
     "data": {
      "image/png": "[encoded data removed]",
      "text/latex": [
       "$$0$$"
      ],
      "text/plain": [
       "0"
      ]
     },
     "execution_count": 13,
     "metadata": {},
     "output_type": "execute_result"
    }
   ],
   "source": [
    "integrate(cos(phi)*sin(phi), (phi,0,2*pi))"
   ]
  },
  {
   "cell_type": "code",
   "execution_count": 14,
   "metadata": {},
   "outputs": [
    {
     "data": {
      "image/png": "[encoded data removed]",
      "text/latex": [
       "$$0$$"
      ],
      "text/plain": [
       "0"
      ]
     },
     "execution_count": 14,
     "metadata": {},
     "output_type": "execute_result"
    }
   ],
   "source": [
    "integrate(sin(theta)**2*cos(theta),(theta, 0,pi))"
   ]
  },
  {
   "cell_type": "code",
   "execution_count": 15,
   "metadata": {},
   "outputs": [
    {
     "data": {
      "image/png": "[encoded data removed]",
      "text/latex": [
       "$$3.75$$"
      ],
      "text/plain": [
       "3.75"
      ]
     },
     "execution_count": 15,
     "metadata": {},
     "output_type": "execute_result"
    }
   ],
   "source": [
    "#Cuentas varias\n",
    "(3/2)*(3/2+1)"
   ]
  },
  {
   "cell_type": "code",
   "execution_count": 31,
   "metadata": {},
   "outputs": [],
   "source": [
    "L, J = symbols('L J')\n",
    "\n",
    "def LS(J,l=1,s=1/2):\n",
    "    return (J*(J+1)-L*(L+1)-3/4)\n",
    "\n",
    "def ls(j,l=1,s=1/2):\n",
    "    return j*(j+1)-l*(l+1)-s*(s+1)"
   ]
  },
  {
   "cell_type": "code",
   "execution_count": 33,
   "metadata": {},
   "outputs": [
    {
     "data": {
      "image/png": "[encoded data removed]",
      "text/latex": [
       "$$- 1.0 L - 1.0$$"
      ],
      "text/plain": [
       "-1.0⋅L - 1.0"
      ]
     },
     "execution_count": 33,
     "metadata": {},
     "output_type": "execute_result"
    }
   ],
   "source": [
    "simplify(LS(L-1/2))"
   ]
  },
  {
   "cell_type": "code",
   "execution_count": 35,
   "metadata": {},
   "outputs": [
    {
     "data": {
      "image/png": "[encoded data removed]",
      "text/latex": [
       "$$1.0 L$$"
      ],
      "text/plain": [
       "1.0⋅L"
      ]
     },
     "execution_count": 35,
     "metadata": {},
     "output_type": "execute_result"
    }
   ],
   "source": [
    "simplify(LS(L+1/2))"
   ]
  },
  {
   "cell_type": "code",
   "execution_count": 4,
   "metadata": {},
   "outputs": [
    {
     "data": {
      "image/png": "[encoded data removed]",
      "text/latex": [
       "$\\displaystyle \\left( \\left[\\begin{matrix}0 & 0 & 0\\\\0 & \\Delta & 0\\\\0 & 0 & \\Delta\\end{matrix}\\right], \\  \\left[\\begin{matrix}a & b & c\\\\\\overline{b} & e & f\\\\\\overline{c} & \\overline{f} & i\\end{matrix}\\right], \\  \\left[\\begin{matrix}1\\\\0\\\\0\\end{matrix}\\right], \\  \\left[\\begin{matrix}0\\\\\\frac{\\sqrt{2}}{2}\\\\\\frac{\\sqrt{2}}{2}\\end{matrix}\\right], \\  \\left[\\begin{matrix}0\\\\\\frac{\\sqrt{2}}{2}\\\\- \\frac{\\sqrt{2}}{2}\\end{matrix}\\right]\\right)$"
      ],
      "text/plain": [
       "⎛                                     ⎡0 ⎤  ⎡ 0  ⎤⎞\n",
       "⎜                     ⎡a  b  c⎤       ⎢  ⎥  ⎢    ⎥⎟\n",
       "⎜⎡0    0       0   ⎤  ⎢       ⎥  ⎡1⎤  ⎢√2⎥  ⎢ √2 ⎥⎟\n",
       "⎜⎢                 ⎥  ⎢_      ⎥  ⎢ ⎥  ⎢──⎥  ⎢ ── ⎥⎟\n",
       "⎜⎢0  \\Delta    0   ⎥, ⎢b  e  f⎥, ⎢0⎥, ⎢2 ⎥, ⎢ 2  ⎥⎟\n",
       "⎜⎢                 ⎥  ⎢       ⎥  ⎢ ⎥  ⎢  ⎥  ⎢    ⎥⎟\n",
       "⎜⎣0    0     \\Delta⎦  ⎢_  _   ⎥  ⎣0⎦  ⎢√2⎥  ⎢-√2 ⎥⎟\n",
       "⎜                     ⎣c  f  i⎦       ⎢──⎥  ⎢────⎥⎟\n",
       "⎝                                     ⎣2 ⎦  ⎣ 2  ⎦⎠"
      ]
     },
     "execution_count": 4,
     "metadata": {},
     "output_type": "execute_result"
    }
   ],
   "source": [
    "a,b,c,d,e,f,g,h,i = symbols('a b c d e f g h i')\n",
    "a,e,i, delta = symbols('a e i \\Delta', real=True)\n",
    "H0 = Matrix([[0,0,0], [0, delta, 0], [0,0,delta]])\n",
    "H1 = Matrix([[a,b,c], [conjugate(b), e, f], [conjugate(c), conjugate(f), i]])\n",
    "v1 = Matrix([[1],[0],[0]])\n",
    "v2 = Matrix([[0],[1],[1]])/sqrt(2)\n",
    "v3 = Matrix([[0],[1],[-1]])/sqrt(2)\n",
    "\n",
    "H0, H1,v1,v2,v3"
   ]
  },
  {
   "cell_type": "code",
   "execution_count": 95,
   "metadata": {},
   "outputs": [
    {
     "data": {
      "image/png": "[encoded data removed]",
      "text/latex": [
       "$$\\left[\\begin{matrix}a\\end{matrix}\\right]$$"
      ],
      "text/plain": [
       "[a]"
      ]
     },
     "execution_count": 95,
     "metadata": {},
     "output_type": "execute_result"
    }
   ],
   "source": [
    "v1.T * H1 * v1"
   ]
  },
  {
   "cell_type": "code",
   "execution_count": 96,
   "metadata": {},
   "outputs": [
    {
     "data": {
      "image/png": "[encoded data removed]",
      "text/latex": [
       "$$\\left[\\begin{matrix}\\frac{e}{2} + \\frac{f}{2} + \\frac{i}{2} + \\frac{\\overline{f}}{2}\\end{matrix}\\right]$$"
      ],
      "text/plain": [
       "⎡            _⎤\n",
       "⎢e   f   i   f⎥\n",
       "⎢─ + ─ + ─ + ─⎥\n",
       "⎣2   2   2   2⎦"
      ]
     },
     "execution_count": 96,
     "metadata": {},
     "output_type": "execute_result"
    }
   ],
   "source": [
    "simplify(v2.T * H1 * v2)"
   ]
  },
  {
   "cell_type": "code",
   "execution_count": 97,
   "metadata": {},
   "outputs": [
    {
     "data": {
      "image/png": "[encoded data removed]",
      "text/latex": [
       "$$\\left[\\begin{matrix}\\frac{e}{2} - \\frac{f}{2} + \\frac{i}{2} - \\frac{\\overline{f}}{2}\\end{matrix}\\right]$$"
      ],
      "text/plain": [
       "⎡            _⎤\n",
       "⎢e   f   i   f⎥\n",
       "⎢─ - ─ + ─ - ─⎥\n",
       "⎣2   2   2   2⎦"
      ]
     },
     "execution_count": 97,
     "metadata": {},
     "output_type": "execute_result"
    }
   ],
   "source": [
    "simplify(v3.T * H1 * v3)"
   ]
  },
  {
   "cell_type": "code",
   "execution_count": 98,
   "metadata": {},
   "outputs": [
    {
     "data": {
      "image/png": "[encoded data removed]",
      "text/latex": [
       "$$\\left[\\begin{matrix}\\frac{e}{2} + \\frac{f}{2} - \\frac{i}{2} - \\frac{\\overline{f}}{2}\\end{matrix}\\right]$$"
      ],
      "text/plain": [
       "⎡            _⎤\n",
       "⎢e   f   i   f⎥\n",
       "⎢─ + ─ - ─ - ─⎥\n",
       "⎣2   2   2   2⎦"
      ]
     },
     "execution_count": 98,
     "metadata": {},
     "output_type": "execute_result"
    }
   ],
   "source": [
    "simplify(v3.T * H1 * v2)"
   ]
  },
  {
   "cell_type": "code",
   "execution_count": 99,
   "metadata": {},
   "outputs": [
    {
     "data": {
      "image/png": "[encoded data removed]",
      "text/latex": [
       "$$\\left[\\begin{matrix}e - f - i + \\overline{f}\\end{matrix}\\right]$$"
      ],
      "text/plain": [
       "⎡            _⎤\n",
       "⎣e - f - i + f⎦"
      ]
     },
     "execution_count": 99,
     "metadata": {},
     "output_type": "execute_result"
    }
   ],
   "source": [
    "simplify(v2.T*H1 * v3*2)\n"
   ]
  },
  {
   "cell_type": "code",
   "execution_count": 100,
   "metadata": {},
   "outputs": [
    {
     "data": {
      "image/png": "[encoded data removed]",
      "text/latex": [
       "$$\\left[\\begin{matrix}b + c\\\\e + f\\\\i + \\overline{f}\\end{matrix}\\right]$$"
      ],
      "text/plain": [
       "⎡b + c⎤\n",
       "⎢     ⎥\n",
       "⎢e + f⎥\n",
       "⎢     ⎥\n",
       "⎢    _⎥\n",
       "⎣i + f⎦"
      ]
     },
     "execution_count": 100,
     "metadata": {},
     "output_type": "execute_result"
    }
   ],
   "source": [
    "simplify(H1*v2*sqrt(2))"
   ]
  },
  {
   "cell_type": "code",
   "execution_count": 101,
   "metadata": {},
   "outputs": [
    {
     "data": {
      "image/png": "[encoded data removed]",
      "text/latex": [
       "$$\\left[\\begin{matrix}e - f + i - \\overline{f}\\end{matrix}\\right]$$"
      ],
      "text/plain": [
       "⎡            _⎤\n",
       "⎣e - f + i - f⎦"
      ]
     },
     "execution_count": 101,
     "metadata": {},
     "output_type": "execute_result"
    }
   ],
   "source": [
    "simplify(v3.T*H1*v3*2)"
   ]
  },
  {
   "cell_type": "code",
   "execution_count": 102,
   "metadata": {},
   "outputs": [
    {
     "data": {
      "image/png": "[encoded data removed]",
      "text/latex": [
       "$$\\operatorname{PurePoly}{\\left( \\lambda^{2} + \\left(- a - c\\right) \\lambda + a c - b \\overline{b}, \\lambda, domain=EX \\right)}$$"
      ],
      "text/plain": [
       "PurePoly(lambda**2 + (-a - c)*lambda + a*c - b*conjugate(b), lambda, domain='E\n",
       "X')"
      ]
     },
     "execution_count": 102,
     "metadata": {},
     "output_type": "execute_result"
    }
   ],
   "source": [
    "test = Matrix([[a,b],[conjugate(b),c]])\n",
    "test.charpoly()"
   ]
  },
  {
   "cell_type": "code",
   "execution_count": 103,
   "metadata": {},
   "outputs": [
    {
     "data": {
      "image/png": "[encoded data removed]",
      "text/latex": [
       "$$\\left \\{ \\frac{a}{2} + \\frac{c}{2} - \\frac{\\sqrt{- 4 a c + 4 b \\overline{b} + \\left(a + c\\right)^{2}}}{2} : 1, \\quad \\frac{a}{2} + \\frac{c}{2} + \\frac{\\sqrt{- 4 a c + 4 b \\overline{b} + \\left(a + c\\right)^{2}}}{2} : 1\\right \\}$$"
      ],
      "text/plain": [
       "⎧           ___________________________                _______________________\n",
       "⎪          ╱              _          2                ╱              _        \n",
       "⎨a   c   ╲╱  -4⋅a⋅c + 4⋅b⋅b + (a + c)       a   c   ╲╱  -4⋅a⋅c + 4⋅b⋅b + (a + \n",
       "⎪─ + ─ - ──────────────────────────────: 1, ─ + ─ + ──────────────────────────\n",
       "⎩2   2                 2                    2   2                 2           \n",
       "\n",
       "____   ⎫\n",
       "  2    ⎪\n",
       "c)     ⎬\n",
       "────: 1⎪\n",
       "       ⎭"
      ]
     },
     "execution_count": 103,
     "metadata": {},
     "output_type": "execute_result"
    }
   ],
   "source": [
    "test.eigenvals()"
   ]
  },
  {
   "cell_type": "code",
   "execution_count": 104,
   "metadata": {},
   "outputs": [],
   "source": [
    "alpha = e+f+conjugate(f)+i\n",
    "gamma = e-f-conjugate(f)+i"
   ]
  },
  {
   "cell_type": "code",
   "execution_count": 105,
   "metadata": {},
   "outputs": [
    {
     "data": {
      "image/png": "[encoded data removed]",
      "text/latex": [
       "$$2 e + 2 i$$"
      ],
      "text/plain": [
       "2⋅e + 2⋅i"
      ]
     },
     "execution_count": 105,
     "metadata": {},
     "output_type": "execute_result"
    }
   ],
   "source": [
    "alpha+gamma"
   ]
  },
  {
   "cell_type": "code",
   "execution_count": 2,
   "metadata": {},
   "outputs": [
    {
     "ename": "NameError",
     "evalue": "name 'simplify' is not defined",
     "output_type": "error",
     "traceback": [
      "\u001b[0;31m---------------------------------------------------------------------------\u001b[0m",
      "\u001b[0;31mNameError\u001b[0m                                 Traceback (most recent call last)",
      "\u001b[0;32m<ipython-input-2-1f895f99f3f7>\u001b[0m in \u001b[0;36m<module>\u001b[0;34m\u001b[0m\n\u001b[0;32m----> 1\u001b[0;31m \u001b[0malpha\u001b[0m \u001b[0;34m=\u001b[0m \u001b[0msimplify\u001b[0m\u001b[0;34m(\u001b[0m\u001b[0mv2\u001b[0m\u001b[0;34m.\u001b[0m\u001b[0mT\u001b[0m\u001b[0;34m*\u001b[0m\u001b[0mH1\u001b[0m\u001b[0;34m*\u001b[0m\u001b[0mv2\u001b[0m\u001b[0;34m)\u001b[0m\u001b[0;34m[\u001b[0m\u001b[0;36m0\u001b[0m\u001b[0;34m]\u001b[0m\u001b[0;34m*\u001b[0m\u001b[0;36m2\u001b[0m\u001b[0;34m\u001b[0m\u001b[0;34m\u001b[0m\u001b[0m\n\u001b[0m\u001b[1;32m      2\u001b[0m \u001b[0mbeta\u001b[0m \u001b[0;34m=\u001b[0m \u001b[0msimplify\u001b[0m\u001b[0;34m(\u001b[0m\u001b[0mv3\u001b[0m\u001b[0;34m.\u001b[0m\u001b[0mT\u001b[0m\u001b[0;34m*\u001b[0m\u001b[0mH1\u001b[0m\u001b[0;34m*\u001b[0m\u001b[0mv2\u001b[0m\u001b[0;34m)\u001b[0m\u001b[0;34m[\u001b[0m\u001b[0;36m0\u001b[0m\u001b[0;34m]\u001b[0m\u001b[0;34m*\u001b[0m\u001b[0;36m2\u001b[0m\u001b[0;34m\u001b[0m\u001b[0;34m\u001b[0m\u001b[0m\n\u001b[1;32m      3\u001b[0m \u001b[0mgamma\u001b[0m \u001b[0;34m=\u001b[0m \u001b[0msimplify\u001b[0m\u001b[0;34m(\u001b[0m\u001b[0mv3\u001b[0m\u001b[0;34m.\u001b[0m\u001b[0mT\u001b[0m\u001b[0;34m*\u001b[0m\u001b[0mH1\u001b[0m\u001b[0;34m*\u001b[0m\u001b[0mv3\u001b[0m\u001b[0;34m)\u001b[0m\u001b[0;34m[\u001b[0m\u001b[0;36m0\u001b[0m\u001b[0;34m]\u001b[0m\u001b[0;34m*\u001b[0m\u001b[0;36m2\u001b[0m\u001b[0;34m\u001b[0m\u001b[0;34m\u001b[0m\u001b[0m\n\u001b[1;32m      4\u001b[0m \u001b[0mW\u001b[0m \u001b[0;34m=\u001b[0m \u001b[0mMatrix\u001b[0m\u001b[0;34m(\u001b[0m\u001b[0;34m[\u001b[0m\u001b[0;34m[\u001b[0m\u001b[0malpha\u001b[0m\u001b[0;34m,\u001b[0m\u001b[0mbeta\u001b[0m\u001b[0;34m]\u001b[0m\u001b[0;34m,\u001b[0m\u001b[0;34m[\u001b[0m\u001b[0mconjugate\u001b[0m\u001b[0;34m(\u001b[0m\u001b[0mbeta\u001b[0m\u001b[0;34m)\u001b[0m\u001b[0;34m,\u001b[0m\u001b[0mgamma\u001b[0m\u001b[0;34m]\u001b[0m\u001b[0;34m]\u001b[0m\u001b[0;34m)\u001b[0m\u001b[0;34m\u001b[0m\u001b[0;34m\u001b[0m\u001b[0m\n\u001b[1;32m      5\u001b[0m \u001b[0mW\u001b[0m\u001b[0;34m\u001b[0m\u001b[0;34m\u001b[0m\u001b[0m\n",
      "\u001b[0;31mNameError\u001b[0m: name 'simplify' is not defined"
     ]
    }
   ],
   "source": [
    "\n",
    "alpha = simplify(v2.T*H1*v2)[0]*2\n",
    "beta = simplify(v3.T*H1*v2)[0]*2\n",
    "gamma = simplify(v3.T*H1*v3)[0]*2\n",
    "W = Matrix([[alpha,beta],[conjugate(beta),gamma]])\n",
    "W"
   ]
  },
  {
   "cell_type": "code",
   "execution_count": 130,
   "metadata": {},
   "outputs": [
    {
     "data": {
      "image/png": "[encoded data removed]",
      "text/latex": [
       "$$e^{2} + 2 e i - f^{2} - 2 f \\overline{f} + i^{2} - \\overline{f}^{2}$$"
      ],
      "text/plain": [
       "                                2\n",
       " 2            2       _    2   _ \n",
       "e  + 2⋅e⋅i - f  - 2⋅f⋅f + i  - f "
      ]
     },
     "execution_count": 130,
     "metadata": {},
     "output_type": "execute_result"
    }
   ],
   "source": [
    "expand(alpha*gamma)"
   ]
  },
  {
   "cell_type": "code",
   "execution_count": 135,
   "metadata": {},
   "outputs": [
    {
     "data": {
      "image/png": "[encoded data removed]",
      "text/latex": [
       "$$4 e i - 4 f \\overline{f}$$"
      ],
      "text/plain": [
       "            _\n",
       "4⋅e⋅i - 4⋅f⋅f"
      ]
     },
     "execution_count": 135,
     "metadata": {},
     "output_type": "execute_result"
    }
   ],
   "source": [
    "-expand(beta*conjugate(beta))+expand(alpha*gamma)"
   ]
  },
  {
   "cell_type": "code",
   "execution_count": 132,
   "metadata": {},
   "outputs": [
    {
     "data": {
      "image/png": "[encoded data removed]",
      "text/latex": [
       "$$4 e i - f^{2} - 2 f \\overline{f} - \\overline{f}^{2} - 4 \\left(\\Im{f}\\right)^{2}$$"
      ],
      "text/plain": [
       "                      2           \n",
       "         2       _   _        2   \n",
       "4⋅e⋅i - f  - 2⋅f⋅f - f  - 4⋅im (f)"
      ]
     },
     "execution_count": 132,
     "metadata": {},
     "output_type": "execute_result"
    }
   ],
   "source": [
    "-expand(beta*conjugate(beta), complex=True)+expand(alpha*gamma)"
   ]
  },
  {
   "cell_type": "code",
   "execution_count": 128,
   "metadata": {},
   "outputs": [
    {
     "data": {
      "image/png": "[encoded data removed]",
      "text/latex": [
       "$$\\Im{f}$$"
      ],
      "text/plain": [
       "im(f)"
      ]
     },
     "execution_count": 128,
     "metadata": {},
     "output_type": "execute_result"
    }
   ],
   "source": [
    "im(f)"
   ]
  },
  {
   "cell_type": "code",
   "execution_count": 141,
   "metadata": {},
   "outputs": [
    {
     "data": {
      "image/png": "[encoded data removed]",
      "text/latex": [
       "$$\\left \\{ - \\sqrt{V^{2} + W^{2}} : 1, \\quad \\sqrt{V^{2} + W^{2}} : 1\\right \\}$$"
      ],
      "text/plain": [
       "⎧    _________        _________   ⎫\n",
       "⎨   ╱  2    2        ╱  2    2    ⎬\n",
       "⎩-╲╱  V  + W  : 1, ╲╱  V  + W  : 1⎭"
      ]
     },
     "execution_count": 141,
     "metadata": {},
     "output_type": "execute_result"
    }
   ],
   "source": [
    "H.eigenvals()"
   ]
  },
  {
   "cell_type": "code",
   "execution_count": 142,
   "metadata": {},
   "outputs": [
    {
     "data": {
      "image/png": "[encoded data removed]",
      "text/latex": [
       "$$\\left \\{ - 2 \\sqrt{V^{2} + W^{2}} : 1, \\quad 2 \\sqrt{V^{2} + W^{2}} : 1\\right \\}$$"
      ],
      "text/plain": [
       "⎧      _________          _________   ⎫\n",
       "⎨     ╱  2    2          ╱  2    2    ⎬\n",
       "⎩-2⋅╲╱  V  + W  : 1, 2⋅╲╱  V  + W  : 1⎭"
      ]
     },
     "execution_count": 142,
     "metadata": {},
     "output_type": "execute_result"
    }
   ],
   "source": [
    "(2*H).eigenvals()"
   ]
  },
  {
   "cell_type": "code",
   "execution_count": 146,
   "metadata": {},
   "outputs": [
    {
     "data": {
      "image/png": "[encoded data removed]",
      "text/latex": [
       "$$\\left[\\begin{matrix}0\\\\\\frac{\\sqrt{2} \\Delta}{2}\\\\\\frac{\\sqrt{2} \\Delta}{2}\\end{matrix}\\right]$$"
      ],
      "text/plain": [
       "⎡    0    ⎤\n",
       "⎢         ⎥\n",
       "⎢√2⋅\\Delta⎥\n",
       "⎢─────────⎥\n",
       "⎢    2    ⎥\n",
       "⎢         ⎥\n",
       "⎢√2⋅\\Delta⎥\n",
       "⎢─────────⎥\n",
       "⎣    2    ⎦"
      ]
     },
     "execution_count": 146,
     "metadata": {},
     "output_type": "execute_result"
    }
   ],
   "source": [
    "H0 * v2"
   ]
  },
  {
   "cell_type": "code",
   "execution_count": 150,
   "metadata": {},
   "outputs": [
    {
     "data": {
      "image/png": "[encoded data removed]",
      "text/latex": [
       "$$\\left ( \\left[\\begin{matrix}0\\\\\\frac{\\sqrt{2}}{2}\\\\- \\frac{\\sqrt{2}}{2}\\end{matrix}\\right], \\quad \\left[\\begin{matrix}0\\\\\\frac{\\sqrt{2}}{2}\\\\- \\frac{\\sqrt{2}}{2}\\end{matrix}\\right]\\right )$$"
      ],
      "text/plain": [
       "⎛⎡ 0  ⎤  ⎡ 0  ⎤⎞\n",
       "⎜⎢    ⎥  ⎢    ⎥⎟\n",
       "⎜⎢ √2 ⎥  ⎢ √2 ⎥⎟\n",
       "⎜⎢ ── ⎥  ⎢ ── ⎥⎟\n",
       "⎜⎢ 2  ⎥, ⎢ 2  ⎥⎟\n",
       "⎜⎢    ⎥  ⎢    ⎥⎟\n",
       "⎜⎢-√2 ⎥  ⎢-√2 ⎥⎟\n",
       "⎜⎢────⎥  ⎢────⎥⎟\n",
       "⎝⎣ 2  ⎦  ⎣ 2  ⎦⎠"
      ]
     },
     "execution_count": 150,
     "metadata": {},
     "output_type": "execute_result"
    }
   ],
   "source": [
    "H0*v3/delta, v3"
   ]
  },
  {
   "cell_type": "code",
   "execution_count": null,
   "metadata": {},
   "outputs": [],
   "source": []
  }
 ],
 "metadata": {
  "kernelspec": {
   "display_name": "Python 3",
   "language": "python",
   "name": "python3"
  },
  "language_info": {
   "codemirror_mode": {
    "name": "ipython",
    "version": 3
   },
   "file_extension": ".py",
   "mimetype": "text/x-python",
   "name": "python",
   "nbconvert_exporter": "python",
   "pygments_lexer": "ipython3",
   "version": "3.7.3"
  }
 },
 "nbformat": 4,
 "nbformat_minor": 2
}

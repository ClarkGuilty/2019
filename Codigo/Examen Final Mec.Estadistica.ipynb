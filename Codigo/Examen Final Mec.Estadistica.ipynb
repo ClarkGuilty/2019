{
 "cells": [
  {
   "cell_type": "code",
   "execution_count": 1,
   "metadata": {},
   "outputs": [],
   "source": [
    "from sympy import *\n",
    "import fractions\n",
    "import numpy as np\n",
    "init_printing(use_latex=True)"
   ]
  },
  {
   "cell_type": "code",
   "execution_count": 41,
   "metadata": {},
   "outputs": [],
   "source": [
    "a, b, c= symbols('a b c ')\n",
    "r, s, alfa = symbols('r s alpha')\n",
    "alfa = r+s"
   ]
  },
  {
   "cell_type": "code",
   "execution_count": 42,
   "metadata": {},
   "outputs": [
    {
     "data": {
      "image/png": "[encoded data removed]",
      "text/latex": [
       "$\\displaystyle \\left[\\begin{matrix}- r & s & 0\\\\r & - r - s & s\\\\0 & r & - s\\end{matrix}\\right]$"
      ],
      "text/plain": [
       "⎡-r    s     0 ⎤\n",
       "⎢              ⎥\n",
       "⎢r   -r - s  s ⎥\n",
       "⎢              ⎥\n",
       "⎣0     r     -s⎦"
      ]
     },
     "execution_count": 42,
     "metadata": {},
     "output_type": "execute_result"
    }
   ],
   "source": [
    "Q =Matrix([[-r,s,0],[r,-alfa,s],[0,r,-s]])\n",
    "Q #Matriz de transición"
   ]
  },
  {
   "cell_type": "code",
   "execution_count": 43,
   "metadata": {},
   "outputs": [],
   "source": [
    "P = Q*Q*Q*Q"
   ]
  },
  {
   "cell_type": "code",
   "execution_count": 44,
   "metadata": {},
   "outputs": [
    {
     "data": {
      "image/png": "[encoded data removed]",
      "text/latex": [
       "$\\displaystyle \\left[\\begin{matrix}1\\\\0\\\\0\\end{matrix}\\right]$"
      ],
      "text/plain": [
       "⎡1⎤\n",
       "⎢ ⎥\n",
       "⎢0⎥\n",
       "⎢ ⎥\n",
       "⎣0⎦"
      ]
     },
     "execution_count": 44,
     "metadata": {},
     "output_type": "execute_result"
    }
   ],
   "source": [
    "v = Matrix([[1],[0],[0]])\n",
    "v"
   ]
  },
  {
   "cell_type": "code",
   "execution_count": 45,
   "metadata": {},
   "outputs": [
    {
     "data": {
      "image/png": "[encoded data removed]",
      "text/latex": [
       "$\\displaystyle \\left[\\begin{matrix}r \\left(r^{3} + 6 r^{2} s + 6 r s^{2} + s^{3}\\right)\\\\- r \\left(4 r^{3} + 13 r^{2} s + 9 r s^{2} + s^{3}\\right)\\\\r^{2} \\left(3 r^{2} + 7 r s + 3 s^{2}\\right)\\end{matrix}\\right]$"
      ],
      "text/plain": [
       "⎡    ⎛ 3      2          2    3⎞  ⎤\n",
       "⎢  r⋅⎝r  + 6⋅r ⋅s + 6⋅r⋅s  + s ⎠  ⎥\n",
       "⎢                                 ⎥\n",
       "⎢   ⎛   3       2          2    3⎞⎥\n",
       "⎢-r⋅⎝4⋅r  + 13⋅r ⋅s + 9⋅r⋅s  + s ⎠⎥\n",
       "⎢                                 ⎥\n",
       "⎢     2 ⎛   2              2⎞     ⎥\n",
       "⎣    r ⋅⎝3⋅r  + 7⋅r⋅s + 3⋅s ⎠     ⎦"
      ]
     },
     "execution_count": 45,
     "metadata": {},
     "output_type": "execute_result"
    }
   ],
   "source": [
    "simplify(P*v)"
   ]
  },
  {
   "cell_type": "code",
   "execution_count": 46,
   "metadata": {},
   "outputs": [
    {
     "data": {
      "image/png": "[encoded data removed]",
      "text/latex": [
       "$\\displaystyle \\left[\\begin{matrix}r \\left(r^{3} + 6 r^{2} s + 6 r s^{2} + s^{3}\\right) & - s \\left(4 r^{3} + 13 r^{2} s + 9 r s^{2} + s^{3}\\right) & s^{2} \\left(3 r^{2} + 7 r s + 3 s^{2}\\right)\\\\- r \\left(4 r^{3} + 13 r^{2} s + 9 r s^{2} + s^{3}\\right) & r^{4} + 13 r^{3} s + 26 r^{2} s^{2} + 13 r s^{3} + s^{4} & - s \\left(r^{3} + 9 r^{2} s + 13 r s^{2} + 4 s^{3}\\right)\\\\r^{2} \\left(3 r^{2} + 7 r s + 3 s^{2}\\right) & - r \\left(r^{3} + 9 r^{2} s + 13 r s^{2} + 4 s^{3}\\right) & s \\left(r^{3} + 6 r^{2} s + 6 r s^{2} + s^{3}\\right)\\end{matrix}\\right]$"
      ],
      "text/plain": [
       "⎡    ⎛ 3      2          2    3⎞         ⎛   3       2          2    3⎞       \n",
       "⎢  r⋅⎝r  + 6⋅r ⋅s + 6⋅r⋅s  + s ⎠      -s⋅⎝4⋅r  + 13⋅r ⋅s + 9⋅r⋅s  + s ⎠       \n",
       "⎢                                                                             \n",
       "⎢   ⎛   3       2          2    3⎞   4       3         2  2         3    4    \n",
       "⎢-r⋅⎝4⋅r  + 13⋅r ⋅s + 9⋅r⋅s  + s ⎠  r  + 13⋅r ⋅s + 26⋅r ⋅s  + 13⋅r⋅s  + s   -s\n",
       "⎢                                                                             \n",
       "⎢     2 ⎛   2              2⎞            ⎛ 3      2           2      3⎞       \n",
       "⎣    r ⋅⎝3⋅r  + 7⋅r⋅s + 3⋅s ⎠         -r⋅⎝r  + 9⋅r ⋅s + 13⋅r⋅s  + 4⋅s ⎠       \n",
       "\n",
       "   2 ⎛   2              2⎞     ⎤\n",
       "  s ⋅⎝3⋅r  + 7⋅r⋅s + 3⋅s ⎠     ⎥\n",
       "                               ⎥\n",
       " ⎛ 3      2           2      3⎞⎥\n",
       "⋅⎝r  + 9⋅r ⋅s + 13⋅r⋅s  + 4⋅s ⎠⎥\n",
       "                               ⎥\n",
       "  ⎛ 3      2          2    3⎞  ⎥\n",
       "s⋅⎝r  + 6⋅r ⋅s + 6⋅r⋅s  + s ⎠  ⎦"
      ]
     },
     "execution_count": 46,
     "metadata": {},
     "output_type": "execute_result"
    }
   ],
   "source": [
    "simplify(P)"
   ]
  },
  {
   "cell_type": "code",
   "execution_count": null,
   "metadata": {},
   "outputs": [],
   "source": []
  },
  {
   "cell_type": "code",
   "execution_count": null,
   "metadata": {},
   "outputs": [],
   "source": []
  }
 ],
 "metadata": {
  "kernelspec": {
   "display_name": "Python 3",
   "language": "python",
   "name": "python3"
  },
  "language_info": {
   "codemirror_mode": {
    "name": "ipython",
    "version": 3
   },
   "file_extension": ".py",
   "mimetype": "text/x-python",
   "name": "python",
   "nbconvert_exporter": "python",
   "pygments_lexer": "ipython3",
   "version": "3.7.1"
  }
 },
 "nbformat": 4,
 "nbformat_minor": 2
}

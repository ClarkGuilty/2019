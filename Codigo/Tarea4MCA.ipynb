{
 "cells": [
  {
   "cell_type": "code",
   "execution_count": 4,
   "metadata": {},
   "outputs": [],
   "source": [
    "from sympy import *\n",
    "import numpy as np\n",
    "import matplotlib.pyplot as plt\n",
    "init_printing(use_latex=True)"
   ]
  },
  {
   "cell_type": "code",
   "execution_count": 5,
   "metadata": {},
   "outputs": [
    {
     "data": {
      "image/png": "[encoded data removed]",
      "text/latex": [
       "$$\\left[\\begin{matrix}W & V\\\\V & - W\\end{matrix}\\right]$$"
      ],
      "text/plain": [
       "⎡W  V ⎤\n",
       "⎢     ⎥\n",
       "⎣V  -W⎦"
      ]
     },
     "execution_count": 5,
     "metadata": {},
     "output_type": "execute_result"
    }
   ],
   "source": [
    "#Punto 3\n",
    "v, w = symbols('V W')\n",
    "H = Matrix([[w,v],[v,-w]])\n",
    "H"
   ]
  },
  {
   "cell_type": "code",
   "execution_count": 6,
   "metadata": {},
   "outputs": [
    {
     "data": {
      "image/png": "[encoded data removed]",
      "text/latex": [
       "$$\\left [ \\left ( - \\sqrt{V^{2} + W^{2}}, \\quad 1, \\quad \\left [ \\left[\\begin{matrix}- \\frac{V}{W + \\sqrt{V^{2} + W^{2}}}\\\\1\\end{matrix}\\right]\\right ]\\right ), \\quad \\left ( \\sqrt{V^{2} + W^{2}}, \\quad 1, \\quad \\left [ \\left[\\begin{matrix}- \\frac{V}{W - \\sqrt{V^{2} + W^{2}}}\\\\1\\end{matrix}\\right]\\right ]\\right )\\right ]$$"
      ],
      "text/plain": [
       "⎡⎛                  ⎡⎡      -V        ⎤⎤⎞  ⎛                 ⎡⎡      -V       \n",
       "⎢⎜    _________     ⎢⎢────────────────⎥⎥⎟  ⎜   _________     ⎢⎢───────────────\n",
       "⎢⎜   ╱  2    2      ⎢⎢       _________⎥⎥⎟  ⎜  ╱  2    2      ⎢⎢       ________\n",
       "⎢⎜-╲╱  V  + W  , 1, ⎢⎢      ╱  2    2 ⎥⎥⎟, ⎜╲╱  V  + W  , 1, ⎢⎢      ╱  2    2\n",
       "⎢⎜                  ⎢⎢W + ╲╱  V  + W  ⎥⎥⎟  ⎜                 ⎢⎢W - ╲╱  V  + W \n",
       "⎢⎜                  ⎢⎢                ⎥⎥⎟  ⎜                 ⎢⎢               \n",
       "⎣⎝                  ⎣⎣       1        ⎦⎦⎠  ⎝                 ⎣⎣       1       \n",
       "\n",
       " ⎤⎤⎞⎤\n",
       "─⎥⎥⎟⎥\n",
       "_⎥⎥⎟⎥\n",
       " ⎥⎥⎟⎥\n",
       " ⎥⎥⎟⎥\n",
       " ⎥⎥⎟⎥\n",
       " ⎦⎦⎠⎦"
      ]
     },
     "execution_count": 6,
     "metadata": {},
     "output_type": "execute_result"
    }
   ],
   "source": [
    "H.eigenvects()"
   ]
  },
  {
   "cell_type": "code",
   "execution_count": 7,
   "metadata": {},
   "outputs": [
    {
     "data": {
      "image/png": "[encoded data removed]",
      "text/latex": [
       "$$\\left ( \\frac{- W + \\sqrt{V^{2} + W^{2}}}{V}, \\quad \\frac{- W - \\sqrt{V^{2} + W^{2}}}{V}\\right )$$"
      ],
      "text/plain": [
       "⎛        _________          _________⎞\n",
       "⎜       ╱  2    2          ╱  2    2 ⎟\n",
       "⎜-W + ╲╱  V  + W    -W - ╲╱  V  + W  ⎟\n",
       "⎜─────────────────, ─────────────────⎟\n",
       "⎝        V                  V        ⎠"
      ]
     },
     "execution_count": 7,
     "metadata": {},
     "output_type": "execute_result"
    }
   ],
   "source": [
    "alpha = (sqrt(v**2 + w**2) -w)/v\n",
    "alpha\n",
    "beta = -(sqrt(v**2 + w**2) +w)/v\n",
    "alpha, beta"
   ]
  },
  {
   "cell_type": "code",
   "execution_count": 8,
   "metadata": {},
   "outputs": [
    {
     "data": {
      "image/png": "[encoded data removed]",
      "text/latex": [
       "$$\\left ( \\left[\\begin{matrix}\\frac{V^{2}}{V^{2} + \\left(W - \\sqrt{V^{2} + W^{2}}\\right)^{2}}\\\\- \\frac{V \\left(W - \\sqrt{V^{2} + W^{2}}\\right)}{V^{2} + \\left(W - \\sqrt{V^{2} + W^{2}}\\right)^{2}}\\end{matrix}\\right], \\quad \\left[\\begin{matrix}\\frac{V^{2}}{V^{2} + \\left(W + \\sqrt{V^{2} + W^{2}}\\right)^{2}}\\\\- \\frac{V \\left(W + \\sqrt{V^{2} + W^{2}}\\right)}{V^{2} + \\left(W + \\sqrt{V^{2} + W^{2}}\\right)^{2}}\\end{matrix}\\right]\\right )$$"
      ],
      "text/plain": [
       "⎛⎡            2           ⎤  ⎡            2           ⎤⎞\n",
       "⎜⎢           V            ⎥  ⎢           V            ⎥⎟\n",
       "⎜⎢────────────────────────⎥  ⎢────────────────────────⎥⎟\n",
       "⎜⎢                       2⎥  ⎢                       2⎥⎟\n",
       "⎜⎢     ⎛       _________⎞ ⎥  ⎢     ⎛       _________⎞ ⎥⎟\n",
       "⎜⎢ 2   ⎜      ╱  2    2 ⎟ ⎥  ⎢ 2   ⎜      ╱  2    2 ⎟ ⎥⎟\n",
       "⎜⎢V  + ⎝W - ╲╱  V  + W  ⎠ ⎥  ⎢V  + ⎝W + ╲╱  V  + W  ⎠ ⎥⎟\n",
       "⎜⎢                        ⎥  ⎢                        ⎥⎟\n",
       "⎜⎢    ⎛       _________⎞  ⎥, ⎢    ⎛       _________⎞  ⎥⎟\n",
       "⎜⎢    ⎜      ╱  2    2 ⎟  ⎥  ⎢    ⎜      ╱  2    2 ⎟  ⎥⎟\n",
       "⎜⎢ -V⋅⎝W - ╲╱  V  + W  ⎠  ⎥  ⎢ -V⋅⎝W + ╲╱  V  + W  ⎠  ⎥⎟\n",
       "⎜⎢────────────────────────⎥  ⎢────────────────────────⎥⎟\n",
       "⎜⎢                       2⎥  ⎢                       2⎥⎟\n",
       "⎜⎢     ⎛       _________⎞ ⎥  ⎢     ⎛       _________⎞ ⎥⎟\n",
       "⎜⎢ 2   ⎜      ╱  2    2 ⎟ ⎥  ⎢ 2   ⎜      ╱  2    2 ⎟ ⎥⎟\n",
       "⎝⎣V  + ⎝W - ╲╱  V  + W  ⎠ ⎦  ⎣V  + ⎝W + ╲╱  V  + W  ⎠ ⎦⎠"
      ]
     },
     "execution_count": 8,
     "metadata": {},
     "output_type": "execute_result"
    }
   ],
   "source": [
    "lambda1 = Matrix([[1], [alpha]])/(1+alpha**2)\n",
    "lambda2 = Matrix([[1], [beta]])/(1+beta**2)\n",
    "simplify(lambda1), simplify(lambda2) "
   ]
  },
  {
   "cell_type": "code",
   "execution_count": 9,
   "metadata": {},
   "outputs": [
    {
     "data": {
      "image/png": "[encoded data removed]",
      "text/latex": [
       "$$\\left[\\begin{matrix}\\frac{V^{2} \\sqrt{V^{2} + W^{2}}}{V^{2} + \\left(W - \\sqrt{V^{2} + W^{2}}\\right)^{2}}\\\\\\frac{V}{2}\\end{matrix}\\right]$$"
      ],
      "text/plain": [
       "⎡          _________     ⎤\n",
       "⎢     2   ╱  2    2      ⎥\n",
       "⎢    V ⋅╲╱  V  + W       ⎥\n",
       "⎢────────────────────────⎥\n",
       "⎢                       2⎥\n",
       "⎢     ⎛       _________⎞ ⎥\n",
       "⎢ 2   ⎜      ╱  2    2 ⎟ ⎥\n",
       "⎢V  + ⎝W - ╲╱  V  + W  ⎠ ⎥\n",
       "⎢                        ⎥\n",
       "⎢           V            ⎥\n",
       "⎢           ─            ⎥\n",
       "⎣           2            ⎦"
      ]
     },
     "execution_count": 9,
     "metadata": {},
     "output_type": "execute_result"
    }
   ],
   "source": [
    "simplify(H*lambda1)"
   ]
  },
  {
   "cell_type": "code",
   "execution_count": 10,
   "metadata": {},
   "outputs": [
    {
     "data": {
      "image/png": "[encoded data removed]",
      "text/latex": [
       "$$\\left ( - \\frac{V}{W - \\sqrt{V^{2} + W^{2}}}, \\quad - \\frac{V}{W + \\sqrt{V^{2} + W^{2}}}\\right )$$"
      ],
      "text/plain": [
       "⎛      -V                -V        ⎞\n",
       "⎜────────────────, ────────────────⎟\n",
       "⎜       _________         _________⎟\n",
       "⎜      ╱  2    2         ╱  2    2 ⎟\n",
       "⎝W - ╲╱  V  + W    W + ╲╱  V  + W  ⎠"
      ]
     },
     "execution_count": 10,
     "metadata": {},
     "output_type": "execute_result"
    }
   ],
   "source": [
    "a = -v/(w - sqrt(v**2 + w**2))\n",
    "b = -v/(w + sqrt(v**2 + w**2))\n",
    "a,b"
   ]
  },
  {
   "cell_type": "code",
   "execution_count": 11,
   "metadata": {},
   "outputs": [
    {
     "data": {
      "image/png": "[encoded data removed]",
      "text/latex": [
       "$$\\left ( \\left[\\begin{matrix}\\frac{V}{2}\\\\- \\frac{\\left(V^{2} + W \\left(W + \\sqrt{V^{2} + W^{2}}\\right)\\right) \\left(W + \\sqrt{V^{2} + W^{2}}\\right)}{V^{2} + \\left(W + \\sqrt{V^{2} + W^{2}}\\right)^{2}}\\end{matrix}\\right], \\quad \\left[\\begin{matrix}- \\frac{V}{\\left(W - \\sqrt{V^{2} + W^{2}}\\right) \\left(\\frac{V^{2}}{\\left(W - \\sqrt{V^{2} + W^{2}}\\right)^{2}} + 1\\right)}\\\\\\frac{1}{\\frac{V^{2}}{\\left(W - \\sqrt{V^{2} + W^{2}}\\right)^{2}} + 1}\\end{matrix}\\right]\\right )$$"
      ],
      "text/plain": [
       "⎛                                                    ⎡                    -V  \n",
       "⎜                                                    ⎢────────────────────────\n",
       "⎜                                                    ⎢⎛       _________⎞ ⎛    \n",
       "⎜⎡                       V                        ⎤  ⎢⎜      ╱  2    2 ⎟ ⎜    \n",
       "⎜⎢                       ─                        ⎥  ⎢⎝W - ╲╱  V  + W  ⎠⋅⎜────\n",
       "⎜⎢                       2                        ⎥  ⎢                   ⎜    \n",
       "⎜⎢                                                ⎥  ⎢                   ⎜⎛   \n",
       "⎜⎢ ⎛       ⎛       _________⎞⎞ ⎛       _________⎞ ⎥  ⎢                   ⎜⎜   \n",
       "⎜⎢ ⎜ 2     ⎜      ╱  2    2 ⎟⎟ ⎜      ╱  2    2 ⎟ ⎥  ⎢                   ⎝⎝W -\n",
       "⎜⎢-⎝V  + W⋅⎝W + ╲╱  V  + W  ⎠⎠⋅⎝W + ╲╱  V  + W  ⎠ ⎥, ⎢                        \n",
       "⎜⎢────────────────────────────────────────────────⎥  ⎢                     1  \n",
       "⎜⎢                                   2            ⎥  ⎢          ──────────────\n",
       "⎜⎢                 ⎛       _________⎞             ⎥  ⎢                    2   \n",
       "⎜⎢             2   ⎜      ╱  2    2 ⎟             ⎥  ⎢                   V    \n",
       "⎜⎣            V  + ⎝W + ╲╱  V  + W  ⎠             ⎦  ⎢          ──────────────\n",
       "⎜                                                    ⎢                        \n",
       "⎜                                                    ⎢          ⎛       ______\n",
       "⎜                                                    ⎢          ⎜      ╱  2   \n",
       "⎝                                                    ⎣          ⎝W - ╲╱  V  + \n",
       "\n",
       "                    ⎤⎞\n",
       "────────────────────⎥⎟\n",
       "      2            ⎞⎥⎟\n",
       "     V             ⎟⎥⎟\n",
       "─────────────── + 1⎟⎥⎟\n",
       "              2    ⎟⎥⎟\n",
       "    _________⎞     ⎟⎥⎟\n",
       "   ╱  2    2 ⎟     ⎟⎥⎟\n",
       " ╲╱  V  + W  ⎠     ⎠⎥⎟\n",
       "                    ⎥⎟\n",
       "                    ⎥⎟\n",
       "─────────           ⎥⎟\n",
       "                    ⎥⎟\n",
       "                    ⎥⎟\n",
       "───── + 1           ⎥⎟\n",
       "    2               ⎥⎟\n",
       "___⎞                ⎥⎟\n",
       " 2 ⎟                ⎥⎟\n",
       "W  ⎠                ⎦⎠"
      ]
     },
     "execution_count": 11,
     "metadata": {},
     "output_type": "execute_result"
    }
   ],
   "source": [
    "la1 = Matrix([[b], [1]])/(1+b**2)\n",
    "la2 = Matrix([[a], [1]])/(1+a**2)\n",
    "simplify(H*la1), la2"
   ]
  },
  {
   "cell_type": "code",
   "execution_count": 12,
   "metadata": {},
   "outputs": [
    {
     "data": {
      "image/png": "[encoded data removed]",
      "text/latex": [
       "$$0$$"
      ],
      "text/plain": [
       "0"
      ]
     },
     "execution_count": 12,
     "metadata": {},
     "output_type": "execute_result"
    }
   ],
   "source": [
    "simplify(lambda1.dot(lambda2))"
   ]
  },
  {
   "cell_type": "code",
   "execution_count": 13,
   "metadata": {},
   "outputs": [],
   "source": [
    "#Punto 2\n",
    "r, theta, phi = symbols('r \\theta \\phi')"
   ]
  },
  {
   "cell_type": "code",
   "execution_count": 14,
   "metadata": {},
   "outputs": [
    {
     "data": {
      "image/png": "[encoded data removed]",
      "text/latex": [
       "$$\\frac{4}{3}$$"
      ],
      "text/plain": [
       "4/3"
      ]
     },
     "execution_count": 14,
     "metadata": {},
     "output_type": "execute_result"
    }
   ],
   "source": [
    "integrate(sin(theta)**3,(theta, 0,pi))"
   ]
  },
  {
   "cell_type": "code",
   "execution_count": 15,
   "metadata": {},
   "outputs": [
    {
     "data": {
      "image/png": "[encoded data removed]",
      "text/latex": [
       "$$\\pi$$"
      ],
      "text/plain": [
       "π"
      ]
     },
     "execution_count": 15,
     "metadata": {},
     "output_type": "execute_result"
    }
   ],
   "source": [
    "integrate(cos(phi)**2, (phi,0,2*pi))"
   ]
  },
  {
   "cell_type": "code",
   "execution_count": 16,
   "metadata": {},
   "outputs": [
    {
     "data": {
      "image/png": "[encoded data removed]",
      "text/latex": [
       "$$0$$"
      ],
      "text/plain": [
       "0"
      ]
     },
     "execution_count": 16,
     "metadata": {},
     "output_type": "execute_result"
    }
   ],
   "source": [
    "integrate(cos(phi)*sin(phi), (phi,0,2*pi))"
   ]
  },
  {
   "cell_type": "code",
   "execution_count": 17,
   "metadata": {},
   "outputs": [
    {
     "data": {
      "image/png": "[encoded data removed]",
      "text/latex": [
       "$$0$$"
      ],
      "text/plain": [
       "0"
      ]
     },
     "execution_count": 17,
     "metadata": {},
     "output_type": "execute_result"
    }
   ],
   "source": [
    "integrate(sin(theta)**2*cos(theta),(theta, 0,pi))"
   ]
  },
  {
   "cell_type": "code",
   "execution_count": 18,
   "metadata": {},
   "outputs": [
    {
     "data": {
      "image/png": "[encoded data removed]",
      "text/latex": [
       "$$3.75$$"
      ],
      "text/plain": [
       "3.75"
      ]
     },
     "execution_count": 18,
     "metadata": {},
     "output_type": "execute_result"
    }
   ],
   "source": [
    "#Cuentas varias\n",
    "(3/2)*(3/2+1)"
   ]
  },
  {
   "cell_type": "code",
   "execution_count": 19,
   "metadata": {},
   "outputs": [],
   "source": [
    "L, J = symbols('L J')\n",
    "\n",
    "def LS(J,l=1,s=1/2):\n",
    "    return (J*(J+1)-L*(L+1)-3/4)\n",
    "\n",
    "def ls(j,l=1,s=1/2):\n",
    "    return j*(j+1)-l*(l+1)-s*(s+1)"
   ]
  },
  {
   "cell_type": "code",
   "execution_count": 20,
   "metadata": {},
   "outputs": [
    {
     "data": {
      "image/png": "[encoded data removed]",
      "text/latex": [
       "$$- 1.0 L - 1.0$$"
      ],
      "text/plain": [
       "-1.0⋅L - 1.0"
      ]
     },
     "execution_count": 20,
     "metadata": {},
     "output_type": "execute_result"
    }
   ],
   "source": [
    "simplify(LS(L-1/2))"
   ]
  },
  {
   "cell_type": "code",
   "execution_count": 21,
   "metadata": {},
   "outputs": [
    {
     "data": {
      "image/png": "[encoded data removed]",
      "text/latex": [
       "$$1.0 L$$"
      ],
      "text/plain": [
       "1.0⋅L"
      ]
     },
     "execution_count": 21,
     "metadata": {},
     "output_type": "execute_result"
    }
   ],
   "source": [
    "simplify(LS(L+1/2))"
   ]
  },
  {
   "cell_type": "code",
   "execution_count": 22,
   "metadata": {},
   "outputs": [
    {
     "data": {
      "image/png": "[encoded data removed]",
      "text/latex": [
       "$$\\left ( \\left[\\begin{matrix}0 & 0 & 0\\\\0 & \\Delta & 0\\\\0 & 0 & \\Delta\\end{matrix}\\right], \\quad \\left[\\begin{matrix}0 & b & c\\\\\\overline{b} & e & f\\\\\\overline{c} & \\overline{f} & g\\end{matrix}\\right], \\quad \\left[\\begin{matrix}1\\\\0\\\\0\\end{matrix}\\right], \\quad \\left[\\begin{matrix}0\\\\\\frac{\\sqrt{2}}{2}\\\\\\frac{\\sqrt{2}}{2}\\end{matrix}\\right], \\quad \\left[\\begin{matrix}0\\\\\\frac{\\sqrt{2}}{2}\\\\- \\frac{\\sqrt{2}}{2}\\end{matrix}\\right]\\right )$$"
      ],
      "text/plain": [
       "⎛                                     ⎡0 ⎤  ⎡ 0  ⎤⎞\n",
       "⎜                     ⎡0  b  c⎤       ⎢  ⎥  ⎢    ⎥⎟\n",
       "⎜⎡0    0       0   ⎤  ⎢       ⎥  ⎡1⎤  ⎢√2⎥  ⎢ √2 ⎥⎟\n",
       "⎜⎢                 ⎥  ⎢_      ⎥  ⎢ ⎥  ⎢──⎥  ⎢ ── ⎥⎟\n",
       "⎜⎢0  \\Delta    0   ⎥, ⎢b  e  f⎥, ⎢0⎥, ⎢2 ⎥, ⎢ 2  ⎥⎟\n",
       "⎜⎢                 ⎥  ⎢       ⎥  ⎢ ⎥  ⎢  ⎥  ⎢    ⎥⎟\n",
       "⎜⎣0    0     \\Delta⎦  ⎢_  _   ⎥  ⎣0⎦  ⎢√2⎥  ⎢-√2 ⎥⎟\n",
       "⎜                     ⎣c  f  g⎦       ⎢──⎥  ⎢────⎥⎟\n",
       "⎝                                     ⎣2 ⎦  ⎣ 2  ⎦⎠"
      ]
     },
     "execution_count": 22,
     "metadata": {},
     "output_type": "execute_result"
    }
   ],
   "source": [
    "a,b,c,d,e,f,g,h,i = symbols('a b c d e f g h i')\n",
    "a,e,g, delta = symbols('a e g \\Delta', real=True)\n",
    "H0 = Matrix([[0,0,0], [0, delta, 0], [0,0,delta]])\n",
    "H1 = Matrix([[0,b,c], [conjugate(b), e, f], [conjugate(c), conjugate(f), g]])\n",
    "v1 = Matrix([[1],[0],[0]])\n",
    "v2 = Matrix([[0],[1],[1]])/sqrt(2)\n",
    "v3 = Matrix([[0],[1],[-1]])/sqrt(2)\n",
    "\n",
    "H0, H1,v1,v2,v3"
   ]
  },
  {
   "cell_type": "code",
   "execution_count": 23,
   "metadata": {},
   "outputs": [
    {
     "data": {
      "image/png": "[encoded data removed]",
      "text/latex": [
       "$$\\left[\\begin{matrix}0\\end{matrix}\\right]$$"
      ],
      "text/plain": [
       "[0]"
      ]
     },
     "execution_count": 23,
     "metadata": {},
     "output_type": "execute_result"
    }
   ],
   "source": [
    "v1.T * H1 * v1"
   ]
  },
  {
   "cell_type": "code",
   "execution_count": 24,
   "metadata": {},
   "outputs": [
    {
     "data": {
      "image/png": "[encoded data removed]",
      "text/latex": [
       "$$\\left[\\begin{matrix}\\frac{e}{2} + \\frac{f}{2} + \\frac{g}{2} + \\frac{\\overline{f}}{2}\\end{matrix}\\right]$$"
      ],
      "text/plain": [
       "⎡            _⎤\n",
       "⎢e   f   g   f⎥\n",
       "⎢─ + ─ + ─ + ─⎥\n",
       "⎣2   2   2   2⎦"
      ]
     },
     "execution_count": 24,
     "metadata": {},
     "output_type": "execute_result"
    }
   ],
   "source": [
    "simplify(v2.T * H1 * v2)"
   ]
  },
  {
   "cell_type": "code",
   "execution_count": 25,
   "metadata": {},
   "outputs": [
    {
     "data": {
      "image/png": "[encoded data removed]",
      "text/latex": [
       "$$\\left[\\begin{matrix}\\frac{e}{2} - \\frac{f}{2} + \\frac{g}{2} - \\frac{\\overline{f}}{2}\\end{matrix}\\right]$$"
      ],
      "text/plain": [
       "⎡            _⎤\n",
       "⎢e   f   g   f⎥\n",
       "⎢─ - ─ + ─ - ─⎥\n",
       "⎣2   2   2   2⎦"
      ]
     },
     "execution_count": 25,
     "metadata": {},
     "output_type": "execute_result"
    }
   ],
   "source": [
    "simplify(v3.T * H1 * v3)"
   ]
  },
  {
   "cell_type": "code",
   "execution_count": 26,
   "metadata": {},
   "outputs": [
    {
     "data": {
      "image/png": "[encoded data removed]",
      "text/latex": [
       "$$\\left[\\begin{matrix}\\frac{e}{2} + \\frac{f}{2} - \\frac{g}{2} - \\frac{\\overline{f}}{2}\\end{matrix}\\right]$$"
      ],
      "text/plain": [
       "⎡            _⎤\n",
       "⎢e   f   g   f⎥\n",
       "⎢─ + ─ - ─ - ─⎥\n",
       "⎣2   2   2   2⎦"
      ]
     },
     "execution_count": 26,
     "metadata": {},
     "output_type": "execute_result"
    }
   ],
   "source": [
    "simplify(v3.T * H1 * v2)"
   ]
  },
  {
   "cell_type": "code",
   "execution_count": 27,
   "metadata": {},
   "outputs": [
    {
     "data": {
      "image/png": "[encoded data removed]",
      "text/latex": [
       "$$\\left[\\begin{matrix}e - f - g + \\overline{f}\\end{matrix}\\right]$$"
      ],
      "text/plain": [
       "⎡            _⎤\n",
       "⎣e - f - g + f⎦"
      ]
     },
     "execution_count": 27,
     "metadata": {},
     "output_type": "execute_result"
    }
   ],
   "source": [
    "simplify(v2.T*H1 * v3*2)\n"
   ]
  },
  {
   "cell_type": "code",
   "execution_count": 28,
   "metadata": {},
   "outputs": [
    {
     "data": {
      "image/png": "[encoded data removed]",
      "text/latex": [
       "$$\\left[\\begin{matrix}b + c\\\\e + f\\\\g + \\overline{f}\\end{matrix}\\right]$$"
      ],
      "text/plain": [
       "⎡b + c⎤\n",
       "⎢     ⎥\n",
       "⎢e + f⎥\n",
       "⎢     ⎥\n",
       "⎢    _⎥\n",
       "⎣g + f⎦"
      ]
     },
     "execution_count": 28,
     "metadata": {},
     "output_type": "execute_result"
    }
   ],
   "source": [
    "simplify(H1*v2*sqrt(2))"
   ]
  },
  {
   "cell_type": "code",
   "execution_count": 29,
   "metadata": {},
   "outputs": [
    {
     "data": {
      "image/png": "[encoded data removed]",
      "text/latex": [
       "$$\\left[\\begin{matrix}e - f + g - \\overline{f}\\end{matrix}\\right]$$"
      ],
      "text/plain": [
       "⎡            _⎤\n",
       "⎣e - f + g - f⎦"
      ]
     },
     "execution_count": 29,
     "metadata": {},
     "output_type": "execute_result"
    }
   ],
   "source": [
    "simplify(v3.T*H1*v3*2)"
   ]
  },
  {
   "cell_type": "code",
   "execution_count": 30,
   "metadata": {},
   "outputs": [
    {
     "data": {
      "image/png": "[encoded data removed]",
      "text/latex": [
       "$$\\operatorname{PurePoly}{\\left( \\lambda^{2} + \\left(- a - c\\right) \\lambda + a c - b \\overline{b}, \\lambda, domain=EX \\right)}$$"
      ],
      "text/plain": [
       "PurePoly(lambda**2 + (-a - c)*lambda + a*c - b*conjugate(b), lambda, domain='E\n",
       "X')"
      ]
     },
     "execution_count": 30,
     "metadata": {},
     "output_type": "execute_result"
    }
   ],
   "source": [
    "test = Matrix([[a,b],[conjugate(b),c]])\n",
    "test.charpoly()"
   ]
  },
  {
   "cell_type": "code",
   "execution_count": 31,
   "metadata": {},
   "outputs": [
    {
     "data": {
      "image/png": "[encoded data removed]",
      "text/latex": [
       "$$\\left \\{ \\frac{a}{2} + \\frac{c}{2} - \\frac{\\sqrt{- 4 a c + 4 b \\overline{b} + \\left(a + c\\right)^{2}}}{2} : 1, \\quad \\frac{a}{2} + \\frac{c}{2} + \\frac{\\sqrt{- 4 a c + 4 b \\overline{b} + \\left(a + c\\right)^{2}}}{2} : 1\\right \\}$$"
      ],
      "text/plain": [
       "⎧           ___________________________                _______________________\n",
       "⎪          ╱              _          2                ╱              _        \n",
       "⎨a   c   ╲╱  -4⋅a⋅c + 4⋅b⋅b + (a + c)       a   c   ╲╱  -4⋅a⋅c + 4⋅b⋅b + (a + \n",
       "⎪─ + ─ - ──────────────────────────────: 1, ─ + ─ + ──────────────────────────\n",
       "⎩2   2                 2                    2   2                 2           \n",
       "\n",
       "____   ⎫\n",
       "  2    ⎪\n",
       "c)     ⎬\n",
       "────: 1⎪\n",
       "       ⎭"
      ]
     },
     "execution_count": 31,
     "metadata": {},
     "output_type": "execute_result"
    }
   ],
   "source": [
    "test.eigenvals()"
   ]
  },
  {
   "cell_type": "code",
   "execution_count": 32,
   "metadata": {},
   "outputs": [],
   "source": [
    "alpha = e+f+conjugate(f)+i\n",
    "gamma = e-f-conjugate(f)+i"
   ]
  },
  {
   "cell_type": "code",
   "execution_count": 33,
   "metadata": {},
   "outputs": [
    {
     "data": {
      "image/png": "[encoded data removed]",
      "text/latex": [
       "$$2 e + 2 i$$"
      ],
      "text/plain": [
       "2⋅e + 2⋅i"
      ]
     },
     "execution_count": 33,
     "metadata": {},
     "output_type": "execute_result"
    }
   ],
   "source": [
    "alpha+gamma"
   ]
  },
  {
   "cell_type": "code",
   "execution_count": 34,
   "metadata": {},
   "outputs": [],
   "source": [
    "\n",
    "alpha = simplify(v2.T*H1*v2)[0]*2\n",
    "beta = simplify(v3.T*H1*v2)[0]*2\n",
    "gamma = simplify(v3.T*H1*v3)[0]*2"
   ]
  },
  {
   "cell_type": "code",
   "execution_count": 35,
   "metadata": {},
   "outputs": [
    {
     "data": {
      "image/png": "[encoded data removed]",
      "text/latex": [
       "$$e^{2} + 2 e g - f^{2} - 2 f \\overline{f} + g^{2} - \\overline{f}^{2}$$"
      ],
      "text/plain": [
       "                                2\n",
       " 2            2       _    2   _ \n",
       "e  + 2⋅e⋅g - f  - 2⋅f⋅f + g  - f "
      ]
     },
     "execution_count": 35,
     "metadata": {},
     "output_type": "execute_result"
    }
   ],
   "source": [
    "expand(alpha*gamma)"
   ]
  },
  {
   "cell_type": "code",
   "execution_count": 36,
   "metadata": {},
   "outputs": [
    {
     "data": {
      "image/png": "[encoded data removed]",
      "text/latex": [
       "$$4 e g - 4 f \\overline{f}$$"
      ],
      "text/plain": [
       "            _\n",
       "4⋅e⋅g - 4⋅f⋅f"
      ]
     },
     "execution_count": 36,
     "metadata": {},
     "output_type": "execute_result"
    }
   ],
   "source": [
    "-expand(beta*conjugate(beta))+expand(alpha*gamma)"
   ]
  },
  {
   "cell_type": "code",
   "execution_count": 37,
   "metadata": {},
   "outputs": [
    {
     "data": {
      "image/png": "[encoded data removed]",
      "text/latex": [
       "$$4 e g - f^{2} - 2 f \\overline{f} - \\overline{f}^{2} - 4 \\left(\\Im{f}\\right)^{2}$$"
      ],
      "text/plain": [
       "                      2           \n",
       "         2       _   _        2   \n",
       "4⋅e⋅g - f  - 2⋅f⋅f - f  - 4⋅im (f)"
      ]
     },
     "execution_count": 37,
     "metadata": {},
     "output_type": "execute_result"
    }
   ],
   "source": [
    "-expand(beta*conjugate(beta), complex=True)+expand(alpha*gamma)"
   ]
  },
  {
   "cell_type": "code",
   "execution_count": null,
   "metadata": {},
   "outputs": [],
   "source": []
  },
  {
   "cell_type": "code",
   "execution_count": 38,
   "metadata": {},
   "outputs": [
    {
     "data": {
      "image/png": "[encoded data removed]",
      "text/latex": [
       "$$\\left[\\begin{matrix}0\\\\\\frac{\\sqrt{2} \\Delta}{2}\\\\\\frac{\\sqrt{2} \\Delta}{2}\\end{matrix}\\right]$$"
      ],
      "text/plain": [
       "⎡    0    ⎤\n",
       "⎢         ⎥\n",
       "⎢√2⋅\\Delta⎥\n",
       "⎢─────────⎥\n",
       "⎢    2    ⎥\n",
       "⎢         ⎥\n",
       "⎢√2⋅\\Delta⎥\n",
       "⎢─────────⎥\n",
       "⎣    2    ⎦"
      ]
     },
     "execution_count": 38,
     "metadata": {},
     "output_type": "execute_result"
    }
   ],
   "source": [
    "H0 * v2"
   ]
  },
  {
   "cell_type": "code",
   "execution_count": 39,
   "metadata": {},
   "outputs": [
    {
     "data": {
      "image/png": "[encoded data removed]",
      "text/latex": [
       "$$\\left ( \\left[\\begin{matrix}0\\\\\\frac{\\sqrt{2}}{2}\\\\- \\frac{\\sqrt{2}}{2}\\end{matrix}\\right], \\quad \\left[\\begin{matrix}0\\\\\\frac{\\sqrt{2}}{2}\\\\- \\frac{\\sqrt{2}}{2}\\end{matrix}\\right]\\right )$$"
      ],
      "text/plain": [
       "⎛⎡ 0  ⎤  ⎡ 0  ⎤⎞\n",
       "⎜⎢    ⎥  ⎢    ⎥⎟\n",
       "⎜⎢ √2 ⎥  ⎢ √2 ⎥⎟\n",
       "⎜⎢ ── ⎥  ⎢ ── ⎥⎟\n",
       "⎜⎢ 2  ⎥, ⎢ 2  ⎥⎟\n",
       "⎜⎢    ⎥  ⎢    ⎥⎟\n",
       "⎜⎢-√2 ⎥  ⎢-√2 ⎥⎟\n",
       "⎜⎢────⎥  ⎢────⎥⎟\n",
       "⎝⎣ 2  ⎦  ⎣ 2  ⎦⎠"
      ]
     },
     "execution_count": 39,
     "metadata": {},
     "output_type": "execute_result"
    }
   ],
   "source": [
    "H0*v3/delta, v3"
   ]
  },
  {
   "cell_type": "code",
   "execution_count": 40,
   "metadata": {},
   "outputs": [
    {
     "data": {
      "image/png": "[encoded data removed]",
      "text/latex": [
       "$$\\left[\\begin{matrix}1 & 0 & 0\\\\0 & \\frac{\\sqrt{2}}{2} & \\frac{\\sqrt{2}}{2}\\\\0 & \\frac{\\sqrt{2}}{2} & - \\frac{\\sqrt{2}}{2}\\end{matrix}\\right]$$"
      ],
      "text/plain": [
       "⎡1  0    0  ⎤\n",
       "⎢           ⎥\n",
       "⎢   √2   √2 ⎥\n",
       "⎢0  ──   ── ⎥\n",
       "⎢   2    2  ⎥\n",
       "⎢           ⎥\n",
       "⎢   √2  -√2 ⎥\n",
       "⎢0  ──  ────⎥\n",
       "⎣   2    2  ⎦"
      ]
     },
     "execution_count": 40,
     "metadata": {},
     "output_type": "execute_result"
    }
   ],
   "source": [
    "newBase = Matrix([[sqrt(2),0,0],[0,1,1],[0,1,-1]])/sqrt(2)\n",
    "newBase"
   ]
  },
  {
   "cell_type": "code",
   "execution_count": 41,
   "metadata": {},
   "outputs": [],
   "source": [
    "a = 0\n",
    "H = H0 + H1\n"
   ]
  },
  {
   "cell_type": "code",
   "execution_count": 42,
   "metadata": {},
   "outputs": [
    {
     "data": {
      "image/png": "[encoded data removed]",
      "text/latex": [
       "$$\\left[\\begin{matrix}0 & 0 & 0\\\\0 & \\Delta & 0\\\\0 & 0 & \\Delta\\end{matrix}\\right]$$"
      ],
      "text/plain": [
       "⎡0    0       0   ⎤\n",
       "⎢                 ⎥\n",
       "⎢0  \\Delta    0   ⎥\n",
       "⎢                 ⎥\n",
       "⎣0    0     \\Delta⎦"
      ]
     },
     "execution_count": 42,
     "metadata": {},
     "output_type": "execute_result"
    }
   ],
   "source": [
    "newBase*H0*newBase"
   ]
  },
  {
   "cell_type": "code",
   "execution_count": 43,
   "metadata": {},
   "outputs": [
    {
     "data": {
      "image/png": "[encoded data removed]",
      "text/latex": [
       "$$\\left[\\begin{matrix}0 & \\sqrt{2} \\left(b + c\\right) & \\sqrt{2} \\left(b - c\\right)\\\\\\sqrt{2} \\left(\\overline{b} + \\overline{c}\\right) & e + f + g + \\overline{f} & e - f - g + \\overline{f}\\\\\\sqrt{2} \\left(\\overline{b} - \\overline{c}\\right) & e + f - g - \\overline{f} & e - f + g - \\overline{f}\\end{matrix}\\right]$$"
      ],
      "text/plain": [
       "⎡    0        √2⋅(b + c)     √2⋅(b - c)  ⎤\n",
       "⎢                                        ⎥\n",
       "⎢   ⎛_   _⎞              _              _⎥\n",
       "⎢√2⋅⎝b + c⎠  e + f + g + f  e - f - g + f⎥\n",
       "⎢                                        ⎥\n",
       "⎢   ⎛_   _⎞              _              _⎥\n",
       "⎣√2⋅⎝b - c⎠  e + f - g - f  e - f + g - f⎦"
      ]
     },
     "execution_count": 43,
     "metadata": {},
     "output_type": "execute_result"
    }
   ],
   "source": [
    "simplify(2*newBase*H1*newBase)"
   ]
  },
  {
   "cell_type": "code",
   "execution_count": 44,
   "metadata": {},
   "outputs": [],
   "source": [
    "e = 0\n",
    "g = 0\n",
    "f = 1"
   ]
  },
  {
   "cell_type": "code",
   "execution_count": 45,
   "metadata": {},
   "outputs": [
    {
     "data": {
      "image/png": "[encoded data removed]",
      "text/latex": [
       "$$\\left[\\begin{matrix}0 & b & c\\\\\\overline{b} & 0 & 1\\\\\\overline{c} & 1 & 0\\end{matrix}\\right]$$"
      ],
      "text/plain": [
       "⎡0  b  c⎤\n",
       "⎢       ⎥\n",
       "⎢_      ⎥\n",
       "⎢b  0  1⎥\n",
       "⎢       ⎥\n",
       "⎢_      ⎥\n",
       "⎣c  1  0⎦"
      ]
     },
     "execution_count": 45,
     "metadata": {},
     "output_type": "execute_result"
    }
   ],
   "source": [
    "H1 = Matrix([[0,b,c], [conjugate(b), e, f], [conjugate(c), conjugate(f), g]])\n",
    "H1"
   ]
  },
  {
   "cell_type": "code",
   "execution_count": 48,
   "metadata": {},
   "outputs": [
    {
     "data": {
      "image/png": "[encoded data removed]",
      "text/latex": [
       "$$\\left[\\begin{matrix}0 & \\frac{\\sqrt{2} \\left(b + c\\right)}{2} & \\frac{\\sqrt{2} \\left(b - c\\right)}{2}\\\\\\frac{\\sqrt{2} \\left(\\overline{b} + \\overline{c}\\right)}{2} & 1 & 0\\\\\\frac{\\sqrt{2} \\left(\\overline{b} - \\overline{c}\\right)}{2} & 0 & -1\\end{matrix}\\right]$$"
      ],
      "text/plain": [
       "⎡            √2⋅(b + c)  √2⋅(b - c)⎤\n",
       "⎢    0       ──────────  ──────────⎥\n",
       "⎢                2           2     ⎥\n",
       "⎢                                  ⎥\n",
       "⎢   ⎛_   _⎞                        ⎥\n",
       "⎢√2⋅⎝b + c⎠                        ⎥\n",
       "⎢──────────      1           0     ⎥\n",
       "⎢    2                             ⎥\n",
       "⎢                                  ⎥\n",
       "⎢   ⎛_   _⎞                        ⎥\n",
       "⎢√2⋅⎝b - c⎠                        ⎥\n",
       "⎢──────────      0           -1    ⎥\n",
       "⎣    2                             ⎦"
      ]
     },
     "execution_count": 48,
     "metadata": {},
     "output_type": "execute_result"
    }
   ],
   "source": [
    "H1p = simplify(newBase*H1*newBase)\n",
    "H1p"
   ]
  },
  {
   "cell_type": "code",
   "execution_count": 51,
   "metadata": {},
   "outputs": [
    {
     "data": {
      "image/png": "[encoded data removed]",
      "text/latex": [
       "$$\\left[\\begin{matrix}0\\end{matrix}\\right]$$"
      ],
      "text/plain": [
       "[0]"
      ]
     },
     "execution_count": 51,
     "metadata": {},
     "output_type": "execute_result"
    }
   ],
   "source": [
    "v1.T*H1*v1"
   ]
  },
  {
   "cell_type": "code",
   "execution_count": 52,
   "metadata": {},
   "outputs": [
    {
     "data": {
      "image/png": "[encoded data removed]",
      "text/latex": [
       "$$\\left[\\begin{matrix}1\\end{matrix}\\right]$$"
      ],
      "text/plain": [
       "[1]"
      ]
     },
     "execution_count": 52,
     "metadata": {},
     "output_type": "execute_result"
    }
   ],
   "source": [
    "v2.T*H1*v2"
   ]
  },
  {
   "cell_type": "code",
   "execution_count": 53,
   "metadata": {},
   "outputs": [
    {
     "data": {
      "image/png": "[encoded data removed]",
      "text/latex": [
       "$$\\left[\\begin{matrix}-1\\end{matrix}\\right]$$"
      ],
      "text/plain": [
       "[-1]"
      ]
     },
     "execution_count": 53,
     "metadata": {},
     "output_type": "execute_result"
    }
   ],
   "source": [
    "v3.T*H1*v3"
   ]
  },
  {
   "cell_type": "code",
   "execution_count": 54,
   "metadata": {},
   "outputs": [
    {
     "data": {
      "image/png": "[encoded data removed]",
      "text/latex": [
       "$$\\left[\\begin{matrix}\\frac{\\sqrt{2} b}{2} + \\frac{\\sqrt{2} c}{2}\\end{matrix}\\right]$$"
      ],
      "text/plain": [
       "⎡√2⋅b   √2⋅c⎤\n",
       "⎢──── + ────⎥\n",
       "⎣ 2      2  ⎦"
      ]
     },
     "execution_count": 54,
     "metadata": {},
     "output_type": "execute_result"
    }
   ],
   "source": [
    "v1.T*H1*v2"
   ]
  },
  {
   "cell_type": "code",
   "execution_count": null,
   "metadata": {},
   "outputs": [],
   "source": []
  },
  {
   "cell_type": "code",
   "execution_count": null,
   "metadata": {},
   "outputs": [],
   "source": []
  }
 ],
 "metadata": {
  "kernelspec": {
   "display_name": "Python 3",
   "language": "python",
   "name": "python3"
  },
  "language_info": {
   "codemirror_mode": {
    "name": "ipython",
    "version": 3
   },
   "file_extension": ".py",
   "mimetype": "text/x-python",
   "name": "python",
   "nbconvert_exporter": "python",
   "pygments_lexer": "ipython3",
   "version": "3.7.3"
  }
 },
 "nbformat": 4,
 "nbformat_minor": 2
}

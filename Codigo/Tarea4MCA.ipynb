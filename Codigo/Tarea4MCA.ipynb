{
 "cells": [
  {
   "cell_type": "code",
   "execution_count": 1,
   "metadata": {},
   "outputs": [],
   "source": [
    "from sympy import *\n",
    "import numpy as np\n",
    "import matplotlib.pyplot as plt\n",
    "init_printing(use_latex=True)"
   ]
  },
  {
   "cell_type": "code",
   "execution_count": 4,
   "metadata": {},
   "outputs": [
    {
     "data": {
      "image/png": "[encoded data removed]",
      "text/latex": [
       "$\\displaystyle \\left[\\begin{matrix}W & V\\\\V & - W\\end{matrix}\\right]$"
      ],
      "text/plain": [
       "⎡W  V ⎤\n",
       "⎢     ⎥\n",
       "⎣V  -W⎦"
      ]
     },
     "execution_count": 4,
     "metadata": {},
     "output_type": "execute_result"
    }
   ],
   "source": [
    "#Punto 3\n",
    "v, w = symbols('V W')\n",
    "H = Matrix([[w,v],[v,-w]])\n",
    "H"
   ]
  },
  {
   "cell_type": "code",
   "execution_count": 5,
   "metadata": {},
   "outputs": [
    {
     "data": {
      "image/png": "[encoded data removed]",
      "text/latex": [
       "$\\displaystyle \\left[ \\left( - \\sqrt{V^{2} + W^{2}}, \\  1, \\  \\left[ \\left[\\begin{matrix}- \\frac{V}{W + \\sqrt{V^{2} + W^{2}}}\\\\1\\end{matrix}\\right]\\right]\\right), \\  \\left( \\sqrt{V^{2} + W^{2}}, \\  1, \\  \\left[ \\left[\\begin{matrix}- \\frac{V}{W - \\sqrt{V^{2} + W^{2}}}\\\\1\\end{matrix}\\right]\\right]\\right)\\right]$"
      ],
      "text/plain": [
       "⎡⎛                  ⎡⎡      -V        ⎤⎤⎞  ⎛                 ⎡⎡      -V       \n",
       "⎢⎜    _________     ⎢⎢────────────────⎥⎥⎟  ⎜   _________     ⎢⎢───────────────\n",
       "⎢⎜   ╱  2    2      ⎢⎢       _________⎥⎥⎟  ⎜  ╱  2    2      ⎢⎢       ________\n",
       "⎢⎜-╲╱  V  + W  , 1, ⎢⎢      ╱  2    2 ⎥⎥⎟, ⎜╲╱  V  + W  , 1, ⎢⎢      ╱  2    2\n",
       "⎢⎜                  ⎢⎢W + ╲╱  V  + W  ⎥⎥⎟  ⎜                 ⎢⎢W - ╲╱  V  + W \n",
       "⎢⎜                  ⎢⎢                ⎥⎥⎟  ⎜                 ⎢⎢               \n",
       "⎣⎝                  ⎣⎣       1        ⎦⎦⎠  ⎝                 ⎣⎣       1       \n",
       "\n",
       " ⎤⎤⎞⎤\n",
       "─⎥⎥⎟⎥\n",
       "_⎥⎥⎟⎥\n",
       " ⎥⎥⎟⎥\n",
       " ⎥⎥⎟⎥\n",
       " ⎥⎥⎟⎥\n",
       " ⎦⎦⎠⎦"
      ]
     },
     "execution_count": 5,
     "metadata": {},
     "output_type": "execute_result"
    }
   ],
   "source": [
    "H.eigenvects()"
   ]
  },
  {
   "cell_type": "code",
   "execution_count": 12,
   "metadata": {},
   "outputs": [
    {
     "data": {
      "image/png": "[encoded data removed]",
      "text/latex": [
       "$\\displaystyle \\left( \\frac{- W + \\sqrt{V^{2} + W^{2}}}{V}, \\  \\frac{- W - \\sqrt{V^{2} + W^{2}}}{V}\\right)$"
      ],
      "text/plain": [
       "⎛        _________          _________⎞\n",
       "⎜       ╱  2    2          ╱  2    2 ⎟\n",
       "⎜-W + ╲╱  V  + W    -W - ╲╱  V  + W  ⎟\n",
       "⎜─────────────────, ─────────────────⎟\n",
       "⎝        V                  V        ⎠"
      ]
     },
     "execution_count": 12,
     "metadata": {},
     "output_type": "execute_result"
    }
   ],
   "source": [
    "alpha = (sqrt(v**2 + w**2) -w)/v\n",
    "alpha\n",
    "beta = -(sqrt(v**2 + w**2) +w)/v\n",
    "alpha, beta"
   ]
  },
  {
   "cell_type": "code",
   "execution_count": 28,
   "metadata": {},
   "outputs": [
    {
     "data": {
      "image/png": "[encoded data removed]",
      "text/latex": [
       "$\\displaystyle \\left( \\left[\\begin{matrix}\\frac{V^{2}}{V^{2} + \\left(W - \\sqrt{V^{2} + W^{2}}\\right)^{2}}\\\\- \\frac{V \\left(W - \\sqrt{V^{2} + W^{2}}\\right)}{V^{2} + \\left(W - \\sqrt{V^{2} + W^{2}}\\right)^{2}}\\end{matrix}\\right], \\  \\left[\\begin{matrix}\\frac{V^{2}}{V^{2} + \\left(W + \\sqrt{V^{2} + W^{2}}\\right)^{2}}\\\\- \\frac{V \\left(W + \\sqrt{V^{2} + W^{2}}\\right)}{V^{2} + \\left(W + \\sqrt{V^{2} + W^{2}}\\right)^{2}}\\end{matrix}\\right]\\right)$"
      ],
      "text/plain": [
       "⎛⎡            2           ⎤  ⎡            2           ⎤⎞\n",
       "⎜⎢           V            ⎥  ⎢           V            ⎥⎟\n",
       "⎜⎢────────────────────────⎥  ⎢────────────────────────⎥⎟\n",
       "⎜⎢                       2⎥  ⎢                       2⎥⎟\n",
       "⎜⎢     ⎛       _________⎞ ⎥  ⎢     ⎛       _________⎞ ⎥⎟\n",
       "⎜⎢ 2   ⎜      ╱  2    2 ⎟ ⎥  ⎢ 2   ⎜      ╱  2    2 ⎟ ⎥⎟\n",
       "⎜⎢V  + ⎝W - ╲╱  V  + W  ⎠ ⎥  ⎢V  + ⎝W + ╲╱  V  + W  ⎠ ⎥⎟\n",
       "⎜⎢                        ⎥  ⎢                        ⎥⎟\n",
       "⎜⎢    ⎛       _________⎞  ⎥, ⎢    ⎛       _________⎞  ⎥⎟\n",
       "⎜⎢    ⎜      ╱  2    2 ⎟  ⎥  ⎢    ⎜      ╱  2    2 ⎟  ⎥⎟\n",
       "⎜⎢ -V⋅⎝W - ╲╱  V  + W  ⎠  ⎥  ⎢ -V⋅⎝W + ╲╱  V  + W  ⎠  ⎥⎟\n",
       "⎜⎢────────────────────────⎥  ⎢────────────────────────⎥⎟\n",
       "⎜⎢                       2⎥  ⎢                       2⎥⎟\n",
       "⎜⎢     ⎛       _________⎞ ⎥  ⎢     ⎛       _________⎞ ⎥⎟\n",
       "⎜⎢ 2   ⎜      ╱  2    2 ⎟ ⎥  ⎢ 2   ⎜      ╱  2    2 ⎟ ⎥⎟\n",
       "⎝⎣V  + ⎝W - ╲╱  V  + W  ⎠ ⎦  ⎣V  + ⎝W + ╲╱  V  + W  ⎠ ⎦⎠"
      ]
     },
     "execution_count": 28,
     "metadata": {},
     "output_type": "execute_result"
    }
   ],
   "source": [
    "lambda1 = Matrix([[1], [alpha]])/(1+alpha**2)\n",
    "lambda2 = Matrix([[1], [beta]])/(1+beta**2)\n",
    "simplify(lambda1), simplify(lambda2) "
   ]
  },
  {
   "cell_type": "code",
   "execution_count": 29,
   "metadata": {},
   "outputs": [
    {
     "data": {
      "image/png": "[encoded data removed]",
      "text/latex": [
       "$\\displaystyle \\left[\\begin{matrix}\\frac{V^{2} \\sqrt{V^{2} + W^{2}}}{V^{2} + \\left(W - \\sqrt{V^{2} + W^{2}}\\right)^{2}}\\\\\\frac{V}{2}\\end{matrix}\\right]$"
      ],
      "text/plain": [
       "⎡          _________     ⎤\n",
       "⎢     2   ╱  2    2      ⎥\n",
       "⎢    V ⋅╲╱  V  + W       ⎥\n",
       "⎢────────────────────────⎥\n",
       "⎢                       2⎥\n",
       "⎢     ⎛       _________⎞ ⎥\n",
       "⎢ 2   ⎜      ╱  2    2 ⎟ ⎥\n",
       "⎢V  + ⎝W - ╲╱  V  + W  ⎠ ⎥\n",
       "⎢                        ⎥\n",
       "⎢           V            ⎥\n",
       "⎢           ─            ⎥\n",
       "⎣           2            ⎦"
      ]
     },
     "execution_count": 29,
     "metadata": {},
     "output_type": "execute_result"
    }
   ],
   "source": [
    "simplify(H*lambda1)"
   ]
  },
  {
   "cell_type": "code",
   "execution_count": 32,
   "metadata": {},
   "outputs": [
    {
     "data": {
      "image/png": "[encoded data removed]",
      "text/latex": [
       "$\\displaystyle \\left( - \\frac{V}{W - \\sqrt{V^{2} + W^{2}}}, \\  - \\frac{V}{W + \\sqrt{V^{2} + W^{2}}}\\right)$"
      ],
      "text/plain": [
       "⎛      -V                -V        ⎞\n",
       "⎜────────────────, ────────────────⎟\n",
       "⎜       _________         _________⎟\n",
       "⎜      ╱  2    2         ╱  2    2 ⎟\n",
       "⎝W - ╲╱  V  + W    W + ╲╱  V  + W  ⎠"
      ]
     },
     "execution_count": 32,
     "metadata": {},
     "output_type": "execute_result"
    }
   ],
   "source": [
    "a = -v/(w - sqrt(v**2 + w**2))\n",
    "b = -v/(w + sqrt(v**2 + w**2))\n",
    "a,b"
   ]
  },
  {
   "cell_type": "code",
   "execution_count": 39,
   "metadata": {},
   "outputs": [
    {
     "data": {
      "image/png": "[encoded data removed]",
      "text/latex": [
       "$\\displaystyle \\left( \\left[\\begin{matrix}\\frac{V}{2}\\\\- \\frac{\\left(V^{2} + W \\left(W + \\sqrt{V^{2} + W^{2}}\\right)\\right) \\left(W + \\sqrt{V^{2} + W^{2}}\\right)}{V^{2} + \\left(W + \\sqrt{V^{2} + W^{2}}\\right)^{2}}\\end{matrix}\\right], \\  \\left[\\begin{matrix}- \\frac{V}{\\left(W - \\sqrt{V^{2} + W^{2}}\\right) \\left(\\frac{V^{2}}{\\left(W - \\sqrt{V^{2} + W^{2}}\\right)^{2}} + 1\\right)}\\\\\\frac{1}{\\frac{V^{2}}{\\left(W - \\sqrt{V^{2} + W^{2}}\\right)^{2}} + 1}\\end{matrix}\\right]\\right)$"
      ],
      "text/plain": [
       "⎛                                                    ⎡                    -V  \n",
       "⎜                                                    ⎢────────────────────────\n",
       "⎜                                                    ⎢⎛       _________⎞ ⎛    \n",
       "⎜⎡                       V                        ⎤  ⎢⎜      ╱  2    2 ⎟ ⎜    \n",
       "⎜⎢                       ─                        ⎥  ⎢⎝W - ╲╱  V  + W  ⎠⋅⎜────\n",
       "⎜⎢                       2                        ⎥  ⎢                   ⎜    \n",
       "⎜⎢                                                ⎥  ⎢                   ⎜⎛   \n",
       "⎜⎢ ⎛       ⎛       _________⎞⎞ ⎛       _________⎞ ⎥  ⎢                   ⎜⎜   \n",
       "⎜⎢ ⎜ 2     ⎜      ╱  2    2 ⎟⎟ ⎜      ╱  2    2 ⎟ ⎥  ⎢                   ⎝⎝W -\n",
       "⎜⎢-⎝V  + W⋅⎝W + ╲╱  V  + W  ⎠⎠⋅⎝W + ╲╱  V  + W  ⎠ ⎥, ⎢                        \n",
       "⎜⎢────────────────────────────────────────────────⎥  ⎢                     1  \n",
       "⎜⎢                                   2            ⎥  ⎢          ──────────────\n",
       "⎜⎢                 ⎛       _________⎞             ⎥  ⎢                    2   \n",
       "⎜⎢             2   ⎜      ╱  2    2 ⎟             ⎥  ⎢                   V    \n",
       "⎜⎣            V  + ⎝W + ╲╱  V  + W  ⎠             ⎦  ⎢          ──────────────\n",
       "⎜                                                    ⎢                        \n",
       "⎜                                                    ⎢          ⎛       ______\n",
       "⎜                                                    ⎢          ⎜      ╱  2   \n",
       "⎝                                                    ⎣          ⎝W - ╲╱  V  + \n",
       "\n",
       "                    ⎤⎞\n",
       "────────────────────⎥⎟\n",
       "      2            ⎞⎥⎟\n",
       "     V             ⎟⎥⎟\n",
       "─────────────── + 1⎟⎥⎟\n",
       "              2    ⎟⎥⎟\n",
       "    _________⎞     ⎟⎥⎟\n",
       "   ╱  2    2 ⎟     ⎟⎥⎟\n",
       " ╲╱  V  + W  ⎠     ⎠⎥⎟\n",
       "                    ⎥⎟\n",
       "                    ⎥⎟\n",
       "─────────           ⎥⎟\n",
       "                    ⎥⎟\n",
       "                    ⎥⎟\n",
       "───── + 1           ⎥⎟\n",
       "    2               ⎥⎟\n",
       "___⎞                ⎥⎟\n",
       " 2 ⎟                ⎥⎟\n",
       "W  ⎠                ⎦⎠"
      ]
     },
     "execution_count": 39,
     "metadata": {},
     "output_type": "execute_result"
    }
   ],
   "source": [
    "la1 = Matrix([[b], [1]])/(1+b**2)\n",
    "la2 = Matrix([[a], [1]])/(1+a**2)\n",
    "simplify(H*la1), la2"
   ]
  },
  {
   "cell_type": "code",
   "execution_count": 42,
   "metadata": {},
   "outputs": [
    {
     "data": {
      "image/png": "[encoded data removed]",
      "text/latex": [
       "$\\displaystyle 0$"
      ],
      "text/plain": [
       "0"
      ]
     },
     "execution_count": 42,
     "metadata": {},
     "output_type": "execute_result"
    }
   ],
   "source": [
    "simplify(lambda1.dot(lambda2))"
   ]
  },
  {
   "cell_type": "code",
   "execution_count": 43,
   "metadata": {},
   "outputs": [],
   "source": [
    "#Punto 2\n",
    "r, theta, phi = symbols('r \\theta \\phi')"
   ]
  },
  {
   "cell_type": "code",
   "execution_count": 46,
   "metadata": {},
   "outputs": [
    {
     "data": {
      "image/png": "[encoded data removed]",
      "text/latex": [
       "$\\displaystyle \\frac{4}{3}$"
      ],
      "text/plain": [
       "4/3"
      ]
     },
     "execution_count": 46,
     "metadata": {},
     "output_type": "execute_result"
    }
   ],
   "source": [
    "integrate(sin(theta)**3,(theta, 0,pi))"
   ]
  },
  {
   "cell_type": "code",
   "execution_count": 48,
   "metadata": {},
   "outputs": [
    {
     "data": {
      "image/png": "[encoded data removed]",
      "text/latex": [
       "$\\displaystyle \\pi$"
      ],
      "text/plain": [
       "π"
      ]
     },
     "execution_count": 48,
     "metadata": {},
     "output_type": "execute_result"
    }
   ],
   "source": [
    "integrate(cos(phi)**2, (phi,0,2*pi))"
   ]
  },
  {
   "cell_type": "code",
   "execution_count": 49,
   "metadata": {},
   "outputs": [
    {
     "data": {
      "image/png": "[encoded data removed]",
      "text/latex": [
       "$\\displaystyle 0$"
      ],
      "text/plain": [
       "0"
      ]
     },
     "execution_count": 49,
     "metadata": {},
     "output_type": "execute_result"
    }
   ],
   "source": [
    "integrate(cos(phi)*sin(phi), (phi,0,2*pi))"
   ]
  },
  {
   "cell_type": "code",
   "execution_count": 50,
   "metadata": {},
   "outputs": [
    {
     "data": {
      "image/png": "[encoded data removed]",
      "text/latex": [
       "$\\displaystyle 0$"
      ],
      "text/plain": [
       "0"
      ]
     },
     "execution_count": 50,
     "metadata": {},
     "output_type": "execute_result"
    }
   ],
   "source": [
    "integrate(sin(theta)**2*cos(theta),(theta, 0,pi))"
   ]
  },
  {
   "cell_type": "code",
   "execution_count": 53,
   "metadata": {},
   "outputs": [
    {
     "data": {
      "image/png": "[encoded data removed]",
      "text/latex": [
       "$\\displaystyle 3.75$"
      ],
      "text/plain": [
       "3.75"
      ]
     },
     "execution_count": 53,
     "metadata": {},
     "output_type": "execute_result"
    }
   ],
   "source": [
    "#Cuentas varias\n",
    "(3/2)*(3/2+1)"
   ]
  },
  {
   "cell_type": "code",
   "execution_count": 56,
   "metadata": {},
   "outputs": [],
   "source": [
    "def LS(j,l=1,s=1/2):\n",
    "    return j*(j+1)-l*(l+1)-s*(s+1)"
   ]
  },
  {
   "cell_type": "code",
   "execution_count": 58,
   "metadata": {},
   "outputs": [
    {
     "data": {
      "image/png": "[encoded data removed]",
      "text/latex": [
       "$\\displaystyle -2.0$"
      ],
      "text/plain": [
       "-2.0"
      ]
     },
     "execution_count": 58,
     "metadata": {},
     "output_type": "execute_result"
    }
   ],
   "source": [
    "LS(1/2)"
   ]
  },
  {
   "cell_type": "code",
   "execution_count": 59,
   "metadata": {},
   "outputs": [
    {
     "data": {
      "image/png": "[encoded data removed]",
      "text/latex": [
       "$\\displaystyle -8$"
      ],
      "text/plain": [
       "-8"
      ]
     },
     "execution_count": 59,
     "metadata": {},
     "output_type": "execute_result"
    }
   ],
   "source": [
    "3-11"
   ]
  },
  {
   "cell_type": "code",
   "execution_count": null,
   "metadata": {},
   "outputs": [],
   "source": []
  }
 ],
 "metadata": {
  "kernelspec": {
   "display_name": "Python 3",
   "language": "python",
   "name": "python3"
  },
  "language_info": {
   "codemirror_mode": {
    "name": "ipython",
    "version": 3
   },
   "file_extension": ".py",
   "mimetype": "text/x-python",
   "name": "python",
   "nbconvert_exporter": "python",
   "pygments_lexer": "ipython3",
   "version": "3.7.3"
  }
 },
 "nbformat": 4,
 "nbformat_minor": 2
}

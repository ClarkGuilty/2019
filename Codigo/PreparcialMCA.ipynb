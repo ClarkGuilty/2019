{
 "cells": [
  {
   "cell_type": "code",
   "execution_count": 11,
   "metadata": {},
   "outputs": [],
   "source": [
    "from sympy import *\n",
    "import numpy as np\n",
    "import matplotlib.pyplot as plt\n",
    "init_printing(use_latex=True)"
   ]
  },
  {
   "cell_type": "code",
   "execution_count": 12,
   "metadata": {},
   "outputs": [
    {
     "data": {
      "image/png": "[encoded data removed]",
      "text/latex": [
       "$\\displaystyle A e^{- \\beta r}$"
      ],
      "text/plain": [
       "   -\\beta⋅r\n",
       "A⋅ℯ        "
      ]
     },
     "execution_count": 12,
     "metadata": {},
     "output_type": "execute_result"
    }
   ],
   "source": [
    "a0, r, theta, phi = symbols('a_0 r \\\\theta \\\\phi', real = True)\n",
    "a,A,b,c,d,e,f,g,x,y,z = symbols('a A \\\\beta c d e f g x y z', real = True)\n",
    "\n",
    "psi = A*exp(-b*r)\n",
    "psi"
   ]
  },
  {
   "cell_type": "code",
   "execution_count": 13,
   "metadata": {},
   "outputs": [
    {
     "data": {
      "image/png": "[encoded data removed]",
      "text/latex": [
       "$\\displaystyle \\begin{cases} - \\frac{A^{2}}{4 \\beta} & \\text{for}\\: \\left|{\\arg{\\left(\\beta \\right)}}\\right| < \\frac{\\pi}{2} \\\\\\int\\limits_{0}^{\\infty} A^{2} \\beta r \\left(\\beta r - 2\\right) e^{- 2 \\beta r}\\, dr & \\text{otherwise} \\end{cases}$"
      ],
      "text/plain": [
       "⎧                     2                                         \n",
       "⎪                   -A                                         π\n",
       "⎪                 ───────                   for │arg(\\beta)│ < ─\n",
       "⎪                 4⋅\\beta                                      2\n",
       "⎪                                                               \n",
       "⎨∞                                                              \n",
       "⎪⌠                                                              \n",
       "⎪⎮  2                        -2⋅\\beta⋅r                         \n",
       "⎪⎮ A ⋅\\beta⋅r⋅(\\beta⋅r - 2)⋅ℯ           dr       otherwise      \n",
       "⎪⌡                                                              \n",
       "⎩0                                                              "
      ]
     },
     "execution_count": 13,
     "metadata": {},
     "output_type": "execute_result"
    }
   ],
   "source": [
    "integrate(simplify(psi*diff(r**2*diff(psi,r),r)),(r,0,oo))"
   ]
  },
  {
   "cell_type": "code",
   "execution_count": null,
   "metadata": {},
   "outputs": [],
   "source": []
  },
  {
   "cell_type": "code",
   "execution_count": 15,
   "metadata": {},
   "outputs": [
    {
     "data": {
      "image/png": "[encoded data removed]",
      "text/latex": [
       "$\\displaystyle - \\frac{\\sqrt{6} e^{i \\phi} \\sin{\\left(\\theta \\right)}}{4 \\sqrt{\\pi}}$"
      ],
      "text/plain": [
       "     ⅈ⋅\\phi             \n",
       "-√6⋅ℯ      ⋅sin(\\theta) \n",
       "────────────────────────\n",
       "          4⋅√π          "
      ]
     },
     "execution_count": 15,
     "metadata": {},
     "output_type": "execute_result"
    }
   ],
   "source": [
    "simplify(Ynm(1,1,theta,phi).expand(func=True))"
   ]
  },
  {
   "cell_type": "code",
   "execution_count": 49,
   "metadata": {},
   "outputs": [
    {
     "data": {
      "image/png": "[encoded data removed]",
      "text/latex": [
       "$\\displaystyle \\frac{\\sqrt{5}}{5 \\sqrt{\\pi}}$"
      ],
      "text/plain": [
       " √5 \n",
       "────\n",
       "5⋅√π"
      ]
     },
     "execution_count": 49,
     "metadata": {},
     "output_type": "execute_result"
    }
   ],
   "source": [
    "integrate((conjugate(Ynm(2,0,theta,phi))*Ynm(1,0,theta,phi)*Ynm(1,0,theta,phi)).expand(func=True) *sin(theta) ,(theta,0,pi),(phi,0,2*pi))"
   ]
  },
  {
   "cell_type": "code",
   "execution_count": 48,
   "metadata": {},
   "outputs": [
    {
     "data": {
      "image/png": "[encoded data removed]",
      "text/latex": [
       "$\\displaystyle \\int\\limits_{0}^{2 \\pi}\\int\\limits_{0}^{\\pi} \\sin{\\left(\\theta \\right)} \\left(Y_{1}^{0}\\left(\\theta,\\phi\\right)\\right)^{2} Y_{2}^{0}\\left(\\theta,\\phi\\right)\\, d\\theta\\, d\\phi$"
      ],
      "text/plain": [
       "2⋅π π                                                                         \n",
       " ⌠  ⌠                                                                         \n",
       " ⎮  ⎮                2                                                        \n",
       " ⎮  ⎮ sin(\\theta)⋅Ynm (1, 0, \\theta, \\phi)⋅Ynm(2, 0, \\theta, \\phi) d(\\theta) d\n",
       " ⌡  ⌡                                                                         \n",
       " 0  0                                                                         \n",
       "\n",
       "      \n",
       "      \n",
       "      \n",
       "(\\phi)\n",
       "      \n",
       "      "
      ]
     },
     "execution_count": 48,
     "metadata": {},
     "output_type": "execute_result"
    }
   ],
   "source": [
    "Integral((conjugate(Ynm(2,0,theta,phi))*Ynm(1,0,theta,phi)*Ynm(1,0,theta,phi)).expand(func=False) *sin(theta) ,(theta,0,pi),(phi,0,2*pi))"
   ]
  },
  {
   "cell_type": "code",
   "execution_count": 26,
   "metadata": {},
   "outputs": [
    {
     "data": {
      "image/png": "[encoded data removed]",
      "text/latex": [
       "$\\displaystyle - \\frac{\\sqrt{6} e^{- i \\phi} \\sin{\\left(\\theta \\right)}}{4 \\sqrt{\\pi}}$"
      ],
      "text/plain": [
       "     -ⅈ⋅\\phi             \n",
       "-√6⋅ℯ       ⋅sin(\\theta) \n",
       "─────────────────────────\n",
       "           4⋅√π          "
      ]
     },
     "execution_count": 26,
     "metadata": {},
     "output_type": "execute_result"
    }
   ],
   "source": [
    "conjugate(Ynm(1,1,theta,phi).expand(func=True))"
   ]
  },
  {
   "cell_type": "code",
   "execution_count": 50,
   "metadata": {},
   "outputs": [
    {
     "data": {
      "image/png": "[encoded data removed]",
      "text/latex": [
       "$\\displaystyle 4 \\pi$"
      ],
      "text/plain": [
       "4⋅π"
      ]
     },
     "execution_count": 50,
     "metadata": {},
     "output_type": "execute_result"
    }
   ],
   "source": [
    "integrate(1*sin(theta),(theta,0,pi),(phi,0,2*pi))"
   ]
  },
  {
   "cell_type": "code",
   "execution_count": 51,
   "metadata": {},
   "outputs": [
    {
     "data": {
      "image/png": "[encoded data removed]",
      "text/latex": [
       "$\\displaystyle \\frac{\\sqrt{3} \\cos{\\left(\\theta \\right)}}{2 \\sqrt{\\pi}}$"
      ],
      "text/plain": [
       "√3⋅cos(\\theta)\n",
       "──────────────\n",
       "     2⋅√π     "
      ]
     },
     "execution_count": 51,
     "metadata": {},
     "output_type": "execute_result"
    }
   ],
   "source": [
    "Ynm(1,0,theta,phi).expand(func=True)"
   ]
  },
  {
   "cell_type": "code",
   "execution_count": 54,
   "metadata": {},
   "outputs": [],
   "source": [
    "from sympy.physics.quantum.cg import Wigner3j"
   ]
  },
  {
   "cell_type": "code",
   "execution_count": 58,
   "metadata": {},
   "outputs": [
    {
     "data": {
      "image/png": "[encoded data removed]",
      "text/latex": [
       "$\\displaystyle \\frac{\\sqrt{3}}{3}$"
      ],
      "text/plain": [
       "√3\n",
       "──\n",
       "3 "
      ]
     },
     "execution_count": 58,
     "metadata": {},
     "output_type": "execute_result"
    }
   ],
   "source": [
    "Wigner3j(1,-1,1,1,0,0).doit()"
   ]
  },
  {
   "cell_type": "code",
   "execution_count": 60,
   "metadata": {},
   "outputs": [
    {
     "data": {
      "image/png": "[encoded data removed]",
      "text/latex": [
       "$\\displaystyle - \\frac{\\sqrt{3}}{3}$"
      ],
      "text/plain": [
       "-√3 \n",
       "────\n",
       " 3  "
      ]
     },
     "execution_count": 60,
     "metadata": {},
     "output_type": "execute_result"
    }
   ],
   "source": [
    "Wigner3j(1,0,1,0,0,0).doit()"
   ]
  },
  {
   "cell_type": "code",
   "execution_count": 63,
   "metadata": {},
   "outputs": [
    {
     "data": {
      "image/png": "[encoded data removed]",
      "text/latex": [
       "$\\displaystyle \\int\\limits_{0}^{2 \\pi}\\int\\limits_{0}^{\\pi} \\left(- e^{- 2 i \\phi} \\sin{\\left(\\theta \\right)} Y_{0}^{0}\\left(\\theta,\\phi\\right) \\left(Y_{1}^{1}\\left(\\theta,\\phi\\right)\\right)^{2}\\right)\\, d\\theta\\, d\\phi$"
      ],
      "text/plain": [
       "2⋅π π                                                                         \n",
       " ⌠  ⌠                                                                         \n",
       " ⎮  ⎮   -2⋅ⅈ⋅\\phi                                        2                    \n",
       " ⎮  ⎮ -ℯ         ⋅sin(\\theta)⋅Ynm(0, 0, \\theta, \\phi)⋅Ynm (1, 1, \\theta, \\phi)\n",
       " ⌡  ⌡                                                                         \n",
       " 0  0                                                                         \n",
       "\n",
       "                  \n",
       "                  \n",
       "                  \n",
       " d(\\theta) d(\\phi)\n",
       "                  \n",
       "                  "
      ]
     },
     "execution_count": 63,
     "metadata": {},
     "output_type": "execute_result"
    }
   ],
   "source": [
    "Integral((conjugate(Ynm(0,0,theta,phi))*Ynm(1,-1,theta,phi)*Ynm(1,1,theta,phi)).expand(func=False) *sin(theta) ,(theta,0,pi),(phi,0,2*pi))"
   ]
  },
  {
   "cell_type": "code",
   "execution_count": 66,
   "metadata": {},
   "outputs": [
    {
     "data": {
      "image/png": "[encoded data removed]",
      "text/latex": [
       "$\\displaystyle - \\frac{1}{2 \\sqrt{\\pi}}$"
      ],
      "text/plain": [
       "-1  \n",
       "────\n",
       "2⋅√π"
      ]
     },
     "execution_count": 66,
     "metadata": {},
     "output_type": "execute_result"
    }
   ],
   "source": [
    "integrate((conjugate(Ynm(0,0,theta,phi))*Ynm(1,-1,theta,phi)*Ynm(1,1,theta,phi)).expand(func=True) *sin(theta) ,(theta,0,pi),(phi,0,2*pi))"
   ]
  },
  {
   "cell_type": "code",
   "execution_count": null,
   "metadata": {},
   "outputs": [],
   "source": []
  },
  {
   "cell_type": "code",
   "execution_count": 67,
   "metadata": {},
   "outputs": [
    {
     "data": {
      "image/png": "[encoded data removed]",
      "text/latex": [
       "$\\displaystyle \\begin{cases} 24 a^{5} & \\text{for}\\: \\left|{\\arg{\\left(a \\right)}}\\right| < \\frac{\\pi}{2} \\\\\\int\\limits_{0}^{\\infty} r^{4} e^{- \\frac{r}{a}}\\, dr & \\text{otherwise} \\end{cases}$"
      ],
      "text/plain": [
       "⎧       5                     π\n",
       "⎪   24⋅a       for │arg(a)│ < ─\n",
       "⎪                             2\n",
       "⎪                              \n",
       "⎪∞                             \n",
       "⎪⌠                             \n",
       "⎨⎮     -r                      \n",
       "⎪⎮     ───                     \n",
       "⎪⎮  4   a                      \n",
       "⎪⎮ r ⋅ℯ    dr     otherwise    \n",
       "⎪⌡                             \n",
       "⎪0                             \n",
       "⎩                              "
      ]
     },
     "execution_count": 67,
     "metadata": {},
     "output_type": "execute_result"
    }
   ],
   "source": [
    "integrate(r**4*exp(-r/a),(r,0,oo))"
   ]
  },
  {
   "cell_type": "code",
   "execution_count": 68,
   "metadata": {},
   "outputs": [
    {
     "data": {
      "image/png": "[encoded data removed]",
      "text/latex": [
       "$\\displaystyle \\begin{cases} 120 a^{5} & \\text{for}\\: \\left|{\\arg{\\left(a \\right)}}\\right| < \\frac{\\pi}{2} \\\\\\int\\limits_{0}^{\\infty} \\frac{r^{5} e^{- \\frac{r}{a}}}{a}\\, dr & \\text{otherwise} \\end{cases}$"
      ],
      "text/plain": [
       "⎧        5                    π\n",
       "⎪   120⋅a      for │arg(a)│ < ─\n",
       "⎪                             2\n",
       "⎪                              \n",
       "⎪∞                             \n",
       "⎪⌠                             \n",
       "⎪⎮     -r                      \n",
       "⎨⎮     ───                     \n",
       "⎪⎮  5   a                      \n",
       "⎪⎮ r ⋅ℯ                        \n",
       "⎪⎮ ─────── dr     otherwise    \n",
       "⎪⎮    a                        \n",
       "⎪⌡                             \n",
       "⎪0                             \n",
       "⎩                              "
      ]
     },
     "execution_count": 68,
     "metadata": {},
     "output_type": "execute_result"
    }
   ],
   "source": [
    "integrate(r**5*exp(-r/a)/a,(r,0,oo))"
   ]
  },
  {
   "cell_type": "code",
   "execution_count": 70,
   "metadata": {},
   "outputs": [
    {
     "data": {
      "image/png": "[encoded data removed]",
      "text/latex": [
       "$\\displaystyle 120$"
      ],
      "text/plain": [
       "120"
      ]
     },
     "execution_count": 70,
     "metadata": {},
     "output_type": "execute_result"
    }
   ],
   "source": [
    "factorial(5)"
   ]
  },
  {
   "cell_type": "code",
   "execution_count": null,
   "metadata": {},
   "outputs": [],
   "source": []
  },
  {
   "cell_type": "code",
   "execution_count": null,
   "metadata": {},
   "outputs": [],
   "source": []
  },
  {
   "cell_type": "code",
   "execution_count": null,
   "metadata": {},
   "outputs": [],
   "source": []
  }
 ],
 "metadata": {
  "kernelspec": {
   "display_name": "Python 3",
   "language": "python",
   "name": "python3"
  },
  "language_info": {
   "codemirror_mode": {
    "name": "ipython",
    "version": 3
   },
   "file_extension": ".py",
   "mimetype": "text/x-python",
   "name": "python",
   "nbconvert_exporter": "python",
   "pygments_lexer": "ipython3",
   "version": "3.7.3"
  }
 },
 "nbformat": 4,
 "nbformat_minor": 2
}

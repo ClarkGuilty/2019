{
 "cells": [
  {
   "cell_type": "code",
   "execution_count": 1,
   "metadata": {},
   "outputs": [],
   "source": [
    "from sympy import *\n",
    "import numpy as np\n",
    "import matplotlib.pyplot as plt\n",
    "init_printing(use_latex=True)"
   ]
  },
  {
   "cell_type": "code",
   "execution_count": 5,
   "metadata": {},
   "outputs": [
    {
     "data": {
      "image/png": "[encoded data removed]",
      "text/latex": [
       "$$A e^{- \\beta r}$$"
      ],
      "text/plain": [
       "   -\\beta⋅r\n",
       "A⋅ℯ        "
      ]
     },
     "execution_count": 5,
     "metadata": {},
     "output_type": "execute_result"
    }
   ],
   "source": [
    "a0, r, theta, phi = symbols('a_0 r \\\\theta \\\\phi', real = True)\n",
    "a,A,b,c,d,e,f,g,x,y,z = symbols('a A \\\\beta c d e f g x y z', real = True)\n",
    "\n",
    "psi = A*exp(-b*r)\n",
    "psi"
   ]
  },
  {
   "cell_type": "code",
   "execution_count": 15,
   "metadata": {},
   "outputs": [
    {
     "data": {
      "image/png": "[encoded data removed]",
      "text/latex": [
       "$$\\begin{cases} - \\frac{A^{2}}{4 \\beta} & \\text{for}\\: \\frac{\\pi}{2} > \\left|{\\arg{\\left (\\beta \\right )}}\\right| \\\\\\int_{0}^{\\infty} A^{2} \\beta r \\left(\\beta r - 2\\right) e^{- 2 \\beta r}\\, dr & \\text{otherwise} \\end{cases}$$"
      ],
      "text/plain": [
       "⎧                     2                                         \n",
       "⎪                   -A                          π               \n",
       "⎪                 ───────                   for ─ > │arg(\\beta)│\n",
       "⎪                 4⋅\\beta                       2               \n",
       "⎪                                                               \n",
       "⎨∞                                                              \n",
       "⎪⌠                                                              \n",
       "⎪⎮  2                        -2⋅\\beta⋅r                         \n",
       "⎪⎮ A ⋅\\beta⋅r⋅(\\beta⋅r - 2)⋅ℯ           dr       otherwise      \n",
       "⎪⌡                                                              \n",
       "⎩0                                                              "
      ]
     },
     "execution_count": 15,
     "metadata": {},
     "output_type": "execute_result"
    }
   ],
   "source": [
    "integrate(simplify(psi*diff(r**2*diff(psi,r),r)),(r,0,oo))"
   ]
  },
  {
   "cell_type": "code",
   "execution_count": null,
   "metadata": {},
   "outputs": [],
   "source": []
  }
 ],
 "metadata": {
  "kernelspec": {
   "display_name": "Python 3",
   "language": "python",
   "name": "python3"
  },
  "language_info": {
   "codemirror_mode": {
    "name": "ipython",
    "version": 3
   },
   "file_extension": ".py",
   "mimetype": "text/x-python",
   "name": "python",
   "nbconvert_exporter": "python",
   "pygments_lexer": "ipython3",
   "version": "3.7.3"
  }
 },
 "nbformat": 4,
 "nbformat_minor": 2
}
